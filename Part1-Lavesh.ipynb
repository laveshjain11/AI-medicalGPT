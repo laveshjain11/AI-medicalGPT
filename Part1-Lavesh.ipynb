{
  "cells": [
    {
      "cell_type": "markdown",
      "metadata": {
        "id": "view-in-github",
        "colab_type": "text"
      },
      "source": [
        "<a href=\"https://colab.research.google.com/github/laveshjain11/AI-medicalGPT/blob/main/Part1-Lavesh.ipynb\" target=\"_parent\"><img src=\"https://colab.research.google.com/assets/colab-badge.svg\" alt=\"Open In Colab\"/></a>"
      ]
    },
    {
      "cell_type": "code",
      "execution_count": 1,
      "metadata": {
        "colab": {
          "base_uri": "https://localhost:8080/"
        },
        "id": "FXG8IV72J-pX",
        "outputId": "98a16ded-6b64-41d0-db34-1ff1081dfef0"
      },
      "outputs": [
        {
          "output_type": "stream",
          "name": "stdout",
          "text": [
            "Looking in indexes: https://pypi.org/simple, https://us-python.pkg.dev/colab-wheels/public/simple/\n",
            "Collecting transformers\n",
            "  Downloading transformers-4.27.2-py3-none-any.whl (6.8 MB)\n",
            "\u001b[2K     \u001b[90m━━━━━━━━━━━━━━━━━━━━━━━━━━━━━━━━━━━━━━━━\u001b[0m \u001b[32m6.8/6.8 MB\u001b[0m \u001b[31m69.5 MB/s\u001b[0m eta \u001b[36m0:00:00\u001b[0m\n",
            "\u001b[?25hRequirement already satisfied: requests in /usr/local/lib/python3.9/dist-packages (from transformers) (2.27.1)\n",
            "Requirement already satisfied: tqdm>=4.27 in /usr/local/lib/python3.9/dist-packages (from transformers) (4.65.0)\n",
            "Requirement already satisfied: packaging>=20.0 in /usr/local/lib/python3.9/dist-packages (from transformers) (23.0)\n",
            "Requirement already satisfied: regex!=2019.12.17 in /usr/local/lib/python3.9/dist-packages (from transformers) (2022.10.31)\n",
            "Requirement already satisfied: filelock in /usr/local/lib/python3.9/dist-packages (from transformers) (3.10.0)\n",
            "Requirement already satisfied: numpy>=1.17 in /usr/local/lib/python3.9/dist-packages (from transformers) (1.22.4)\n",
            "Collecting huggingface-hub<1.0,>=0.11.0\n",
            "  Downloading huggingface_hub-0.13.3-py3-none-any.whl (199 kB)\n",
            "\u001b[2K     \u001b[90m━━━━━━━━━━━━━━━━━━━━━━━━━━━━━━━━━━━━━━\u001b[0m \u001b[32m199.8/199.8 KB\u001b[0m \u001b[31m13.1 MB/s\u001b[0m eta \u001b[36m0:00:00\u001b[0m\n",
            "\u001b[?25hCollecting tokenizers!=0.11.3,<0.14,>=0.11.1\n",
            "  Downloading tokenizers-0.13.2-cp39-cp39-manylinux_2_17_x86_64.manylinux2014_x86_64.whl (7.6 MB)\n",
            "\u001b[2K     \u001b[90m━━━━━━━━━━━━━━━━━━━━━━━━━━━━━━━━━━━━━━━━\u001b[0m \u001b[32m7.6/7.6 MB\u001b[0m \u001b[31m84.5 MB/s\u001b[0m eta \u001b[36m0:00:00\u001b[0m\n",
            "\u001b[?25hRequirement already satisfied: pyyaml>=5.1 in /usr/local/lib/python3.9/dist-packages (from transformers) (6.0)\n",
            "Requirement already satisfied: typing-extensions>=3.7.4.3 in /usr/local/lib/python3.9/dist-packages (from huggingface-hub<1.0,>=0.11.0->transformers) (4.5.0)\n",
            "Requirement already satisfied: urllib3<1.27,>=1.21.1 in /usr/local/lib/python3.9/dist-packages (from requests->transformers) (1.26.15)\n",
            "Requirement already satisfied: charset-normalizer~=2.0.0 in /usr/local/lib/python3.9/dist-packages (from requests->transformers) (2.0.12)\n",
            "Requirement already satisfied: certifi>=2017.4.17 in /usr/local/lib/python3.9/dist-packages (from requests->transformers) (2022.12.7)\n",
            "Requirement already satisfied: idna<4,>=2.5 in /usr/local/lib/python3.9/dist-packages (from requests->transformers) (3.4)\n",
            "Installing collected packages: tokenizers, huggingface-hub, transformers\n",
            "Successfully installed huggingface-hub-0.13.3 tokenizers-0.13.2 transformers-4.27.2\n"
          ]
        }
      ],
      "source": [
        "#installing the transformers library\n",
        "!pip install transformers"
      ]
    },
    {
      "cell_type": "code",
      "execution_count": 2,
      "metadata": {
        "colab": {
          "base_uri": "https://localhost:8080/",
          "height": 406,
          "referenced_widgets": [
            "564fd893d5aa46a3848130c06f4f5741",
            "e03067cb5c174340a46c27ddcab75e77",
            "94d592e5a9b9411a9b25ba01b2dc61fc",
            "ed021afea17343828ffe4f003d58b708",
            "d3bdf78c69f44f4d9affd4235255e647",
            "1cc6a6825c2d4b3e9d4ea9abc7ad8371",
            "9bab135782e84b68bfc3eff67f6e773b",
            "03a62020c0d44ef3be75c2afafc1b626",
            "37acbc32ffc44b86afea5adfa9852331",
            "0aab1788bc704901b6f91a7a52e90d73",
            "c1a5f27e88d54787a0f73dbe0de0af28",
            "b8eee8bf6b984e58b155774335d9a70c",
            "fd4e774e7c834056a95f34c409b3cacb",
            "9fb8d07f6a6d4f7ab3b894a2cca868a8",
            "5698e19e6ef54661932cd9724ab8c881",
            "673735d96de44c84aaa2827fd0acc20f",
            "84aef4d07f89482db07c6a7d1aaca15f",
            "6b29cb3f124d406abf5453166bb830d1",
            "0c10af32076247ddb69ff82fca7b50af",
            "6e5d03ed2d154c00a97c6b811a47aa7f",
            "c4461552c42a48baacefa9c8189758c2",
            "eddbb68b7eb8453abcae6cbbf6cee68e",
            "a04db9e0974f4b98b7b007410c641cce",
            "73a172c717f6454d8cc29da451b3ab1d",
            "67c49a6bb22347cc8485c742177ffc52",
            "a73686962dea4a73a6b4285a68958eee",
            "d99bf7423d7d4c85b7d7083231db01c1",
            "415128fba86148668d9ccaa83901e741",
            "124cc3bfbdc747c0bb15734177902cca",
            "2c2307018ddd4be0977b3a1349af18c7",
            "d8d46fed5e504b15abc5584492b064e1",
            "0f69471f7eda4bbcb3de083ad03b5692",
            "2c81bb44505949feb6de28b4b0ee7550",
            "262db36675ff4b449a71d0a93c3c1883",
            "da39cfb1fcf14d62987f0146882047bf",
            "77820499431942708bf10c25fe212f66",
            "78f7aac28fce430c8e4cae055ed0dae7",
            "0b6fe0e203084435a37a7deef8683f48",
            "b645afc3d27240a0b2ec12106ff23e7e",
            "86c5a8ff40d7496b8b905c7aa1b2f9c1",
            "0d8954542d9f471184678e0ada9cd3eb",
            "876da2da7bff40b48173fbb7df202516",
            "fe62f97c28b242448c63b960a1a9ad24",
            "e584b0c2198140739ef9fa1b44069db7",
            "8f19366192de4819a699501e32d42b46",
            "48191f4a3cf94f949d44062afe792f7b",
            "3181d17f38d449d3b3b0cdf7f115dc59",
            "e400875008f44b438d14be495caa45ec",
            "8263f804a27f49eba532b446bed5180d",
            "cb59b40ee905477ebd63bcf3da7f4a08",
            "28ea3fc77cac4b618baff53ce617eea6",
            "b234939940184936aec564f2d88f3569",
            "e1e6bac2608c4322a86cd56294485cfa",
            "a1580408e2e24953bd12d3b285d6eadd",
            "42af4a1821774c9d8517a5d8ea320a2b"
          ]
        },
        "id": "0UFd7JHfJ3V5",
        "outputId": "95a99c16-17bd-4b30-8800-8e428d315cd3"
      },
      "outputs": [
        {
          "output_type": "display_data",
          "data": {
            "text/plain": [
              "Downloading (…)okenizer_config.json:   0%|          | 0.00/85.0 [00:00<?, ?B/s]"
            ],
            "application/vnd.jupyter.widget-view+json": {
              "version_major": 2,
              "version_minor": 0,
              "model_id": "564fd893d5aa46a3848130c06f4f5741"
            }
          },
          "metadata": {}
        },
        {
          "output_type": "display_data",
          "data": {
            "text/plain": [
              "Downloading (…)lve/main/config.json:   0%|          | 0.00/462 [00:00<?, ?B/s]"
            ],
            "application/vnd.jupyter.widget-view+json": {
              "version_major": 2,
              "version_minor": 0,
              "model_id": "b8eee8bf6b984e58b155774335d9a70c"
            }
          },
          "metadata": {}
        },
        {
          "output_type": "display_data",
          "data": {
            "text/plain": [
              "Downloading (…)solve/main/vocab.txt:   0%|          | 0.00/213k [00:00<?, ?B/s]"
            ],
            "application/vnd.jupyter.widget-view+json": {
              "version_major": 2,
              "version_minor": 0,
              "model_id": "a04db9e0974f4b98b7b007410c641cce"
            }
          },
          "metadata": {}
        },
        {
          "output_type": "display_data",
          "data": {
            "text/plain": [
              "Downloading (…)cial_tokens_map.json:   0%|          | 0.00/112 [00:00<?, ?B/s]"
            ],
            "application/vnd.jupyter.widget-view+json": {
              "version_major": 2,
              "version_minor": 0,
              "model_id": "262db36675ff4b449a71d0a93c3c1883"
            }
          },
          "metadata": {}
        },
        {
          "output_type": "display_data",
          "data": {
            "text/plain": [
              "Downloading tf_model.h5:   0%|          | 0.00/434M [00:00<?, ?B/s]"
            ],
            "application/vnd.jupyter.widget-view+json": {
              "version_major": 2,
              "version_minor": 0,
              "model_id": "8f19366192de4819a699501e32d42b46"
            }
          },
          "metadata": {}
        },
        {
          "output_type": "stream",
          "name": "stderr",
          "text": [
            "All model checkpoint layers were used when initializing TFBertModel.\n",
            "\n",
            "All the layers of TFBertModel were initialized from the model checkpoint at cambridgeltl/BioRedditBERT-uncased.\n",
            "If your task is similar to the task the model of the checkpoint was trained on, you can already use TFBertModel for predictions without further training.\n"
          ]
        }
      ],
      "source": [
        "#importing the pretrained biobert tokenizer and the biobert model\n",
        "from transformers import AutoTokenizer, TFAutoModel\n",
        "biobert_tokenizer = AutoTokenizer.from_pretrained(\"cambridgeltl/BioRedditBERT-uncased\")\n",
        "\n",
        "biobert_model = TFAutoModel.from_pretrained(\"cambridgeltl/BioRedditBERT-uncased\")"
      ]
    },
    {
      "cell_type": "code",
      "execution_count": 3,
      "metadata": {
        "colab": {
          "base_uri": "https://localhost:8080/"
        },
        "id": "k-1MuSmKKHAa",
        "outputId": "9662c78b-e15e-4c81-88f8-672c80250d5c"
      },
      "outputs": [
        {
          "output_type": "stream",
          "name": "stdout",
          "text": [
            "Model: \"tf_bert_model\"\n",
            "_________________________________________________________________\n",
            " Layer (type)                Output Shape              Param #   \n",
            "=================================================================\n",
            " bert (TFBertMainLayer)      multiple                  108310272 \n",
            "                                                                 \n",
            "=================================================================\n",
            "Total params: 108,310,272\n",
            "Trainable params: 108,310,272\n",
            "Non-trainable params: 0\n",
            "_________________________________________________________________\n"
          ]
        }
      ],
      "source": [
        "#displaying biobert model summary\n",
        "biobert_model.summary()"
      ]
    },
    {
      "cell_type": "markdown",
      "metadata": {
        "id": "UA3iRSfMfXzn"
      },
      "source": [
        "**DataSet Creation**"
      ]
    },
    {
      "cell_type": "code",
      "execution_count": 5,
      "metadata": {
        "id": "e-AGJMEcTsZ_"
      },
      "outputs": [],
      "source": [
        "#loading the json medical data files\n",
        "import json\n",
        "with open('/content/drive/MyDrive/data/ehealthforumQAs.json') as f1:\n",
        "  ehealth=json.load(f1)\n",
        "with open('/content/drive/MyDrive/data/icliniqQAs.json') as f2:\n",
        "  icliniq=json.load(f2)\n",
        "with open('/content/drive/MyDrive/data/questionDoctorQAs.json') as f3:\n",
        "  questiondoctor=json.load(f3)\n",
        "with open('/content/drive/MyDrive/data/webmdQAs.json') as f4:\n",
        "  webmd=json.load(f4)"
      ]
    },
    {
      "cell_type": "code",
      "execution_count": 6,
      "metadata": {
        "id": "wQhrImI6VPX0"
      },
      "outputs": [],
      "source": [
        "#function to extract question,answer and tags from the json objects\n",
        "def extract_answer_question_tags(json_data):\n",
        "  questions=[]\n",
        "  answers=[]\n",
        "  tags=[]\n",
        "  for i in json_data:\n",
        "    questions.append(i['question'])\n",
        "    answers.append(i['answer'])\n",
        "    tags.append(i['tags'])\n",
        "  return questions,answers,tags"
      ]
    },
    {
      "cell_type": "code",
      "execution_count": 7,
      "metadata": {
        "colab": {
          "base_uri": "https://localhost:8080/"
        },
        "id": "0oiobQZYV6bZ",
        "outputId": "0b3dfb73-4650-4b02-9d88-1259d6f5112a"
      },
      "outputs": [
        {
          "output_type": "stream",
          "name": "stdout",
          "text": [
            "29752 29752 29752\n"
          ]
        }
      ],
      "source": [
        "#extracting the question,answer and tags from the medical json objects\n",
        "all_questions=[]\n",
        "all_answers=[]\n",
        "all_tags=[]\n",
        "for i in [ehealth,icliniq,questiondoctor,webmd]:\n",
        "  questions,answers,tags=extract_answer_question_tags(i)\n",
        "  all_questions.extend(questions)\n",
        "  all_answers.extend(answers)\n",
        "  all_tags.extend(tags)\n",
        "print(len(all_questions),len(all_answers),len(all_tags))"
      ]
    },
    {
      "cell_type": "code",
      "execution_count": 8,
      "metadata": {
        "id": "JRGtIkdpWrGG"
      },
      "outputs": [],
      "source": [
        "#loading and storing the medical data into dataframe and csv file correspondingly.\n",
        "import pandas as pd\n",
        "all_data=pd.DataFrame({'questions':all_questions,'answers':all_answers,'tags':all_tags})\n",
        "all_data.to_csv('/content/drive/MyDrive/data/all_data.csv',index=False)"
      ]
    },
    {
      "cell_type": "code",
      "execution_count": 9,
      "metadata": {
        "id": "kDpeEGAv-U0N"
      },
      "outputs": [],
      "source": [
        "#loading medical data from the disk\n",
        "all_data=pd.read_csv('/content/drive/MyDrive/data/all_data.csv')"
      ]
    },
    {
      "cell_type": "code",
      "execution_count": 10,
      "metadata": {
        "colab": {
          "base_uri": "https://localhost:8080/",
          "height": 676
        },
        "id": "CDToddteA6jD",
        "outputId": "2add7708-b496-4c7a-eb9f-99888155d774"
      },
      "outputs": [
        {
          "output_type": "execute_result",
          "data": {
            "text/plain": [
              "                                               questions  \\\n",
              "0                              how do i stop smoking now   \n",
              "1      i had a tubaligation 4 years ago and also have...   \n",
              "2      could extra caffeine consumption be a cause of...   \n",
              "3      hello- i am a 24 year old female 5\"4 & 115 lb ...   \n",
              "4      i was wanting to know if you could tell me if ...   \n",
              "...                                                  ...   \n",
              "29747  how can accidental of acetaminophen overdose b...   \n",
              "29748  what should i do if i take an overdose of maxalt?   \n",
              "29749     what do i do in case of an overdose of relpax?   \n",
              "29750  is overdose with acetaminophen usually acciden...   \n",
              "29751  how does an overdose of acetaminophen cause li...   \n",
              "\n",
              "                                                 answers  \\\n",
              "0      stopping smoking is about will power and being...   \n",
              "1      hello this sounds quite unfamiliar that due to...   \n",
              "2      extra caffeine can cause gastric discomfort th...   \n",
              "3      hello thanks for submitting your question here...   \n",
              "4      i am glad to help you out. this is not possibl...   \n",
              "...                                                  ...   \n",
              "29747  to avoid unintentional overdoses among adults ...   \n",
              "29748  if you take more medication than you have been...   \n",
              "29749  call your doctor or poison control center or g...   \n",
              "29750  in the u. s. suicide attempts account for over...   \n",
              "29751  the answer is that liver damage from acetamino...   \n",
              "\n",
              "                                                    tags  \n",
              "0                          ['addiction', 'stop smoking']  \n",
              "1                 ['pregnancy', 'diet', 'endometriosis']  \n",
              "2                 ['breast cancer', 'cancer', 'breasts']  \n",
              "3      ['hair loss', 'diet', 'acne', 'ovulation and o...  \n",
              "4      ['am i pregnant', 'pregnant', 'urine pregnancy...  \n",
              "...                                                  ...  \n",
              "29747                 ['drug overdose', 'acetaminophen']  \n",
              "29748                                  ['drug overdose']  \n",
              "29749                                  ['drug overdose']  \n",
              "29750                 ['drug overdose', 'acetaminophen']  \n",
              "29751  ['drug overdose', 'injury', 'liver', 'acetamin...  \n",
              "\n",
              "[29752 rows x 3 columns]"
            ],
            "text/html": [
              "\n",
              "  <div id=\"df-3ddabb8c-fc93-4b3e-a3d0-2b997da98931\">\n",
              "    <div class=\"colab-df-container\">\n",
              "      <div>\n",
              "<style scoped>\n",
              "    .dataframe tbody tr th:only-of-type {\n",
              "        vertical-align: middle;\n",
              "    }\n",
              "\n",
              "    .dataframe tbody tr th {\n",
              "        vertical-align: top;\n",
              "    }\n",
              "\n",
              "    .dataframe thead th {\n",
              "        text-align: right;\n",
              "    }\n",
              "</style>\n",
              "<table border=\"1\" class=\"dataframe\">\n",
              "  <thead>\n",
              "    <tr style=\"text-align: right;\">\n",
              "      <th></th>\n",
              "      <th>questions</th>\n",
              "      <th>answers</th>\n",
              "      <th>tags</th>\n",
              "    </tr>\n",
              "  </thead>\n",
              "  <tbody>\n",
              "    <tr>\n",
              "      <th>0</th>\n",
              "      <td>how do i stop smoking now</td>\n",
              "      <td>stopping smoking is about will power and being...</td>\n",
              "      <td>['addiction', 'stop smoking']</td>\n",
              "    </tr>\n",
              "    <tr>\n",
              "      <th>1</th>\n",
              "      <td>i had a tubaligation 4 years ago and also have...</td>\n",
              "      <td>hello this sounds quite unfamiliar that due to...</td>\n",
              "      <td>['pregnancy', 'diet', 'endometriosis']</td>\n",
              "    </tr>\n",
              "    <tr>\n",
              "      <th>2</th>\n",
              "      <td>could extra caffeine consumption be a cause of...</td>\n",
              "      <td>extra caffeine can cause gastric discomfort th...</td>\n",
              "      <td>['breast cancer', 'cancer', 'breasts']</td>\n",
              "    </tr>\n",
              "    <tr>\n",
              "      <th>3</th>\n",
              "      <td>hello- i am a 24 year old female 5\"4 &amp; 115 lb ...</td>\n",
              "      <td>hello thanks for submitting your question here...</td>\n",
              "      <td>['hair loss', 'diet', 'acne', 'ovulation and o...</td>\n",
              "    </tr>\n",
              "    <tr>\n",
              "      <th>4</th>\n",
              "      <td>i was wanting to know if you could tell me if ...</td>\n",
              "      <td>i am glad to help you out. this is not possibl...</td>\n",
              "      <td>['am i pregnant', 'pregnant', 'urine pregnancy...</td>\n",
              "    </tr>\n",
              "    <tr>\n",
              "      <th>...</th>\n",
              "      <td>...</td>\n",
              "      <td>...</td>\n",
              "      <td>...</td>\n",
              "    </tr>\n",
              "    <tr>\n",
              "      <th>29747</th>\n",
              "      <td>how can accidental of acetaminophen overdose b...</td>\n",
              "      <td>to avoid unintentional overdoses among adults ...</td>\n",
              "      <td>['drug overdose', 'acetaminophen']</td>\n",
              "    </tr>\n",
              "    <tr>\n",
              "      <th>29748</th>\n",
              "      <td>what should i do if i take an overdose of maxalt?</td>\n",
              "      <td>if you take more medication than you have been...</td>\n",
              "      <td>['drug overdose']</td>\n",
              "    </tr>\n",
              "    <tr>\n",
              "      <th>29749</th>\n",
              "      <td>what do i do in case of an overdose of relpax?</td>\n",
              "      <td>call your doctor or poison control center or g...</td>\n",
              "      <td>['drug overdose']</td>\n",
              "    </tr>\n",
              "    <tr>\n",
              "      <th>29750</th>\n",
              "      <td>is overdose with acetaminophen usually acciden...</td>\n",
              "      <td>in the u. s. suicide attempts account for over...</td>\n",
              "      <td>['drug overdose', 'acetaminophen']</td>\n",
              "    </tr>\n",
              "    <tr>\n",
              "      <th>29751</th>\n",
              "      <td>how does an overdose of acetaminophen cause li...</td>\n",
              "      <td>the answer is that liver damage from acetamino...</td>\n",
              "      <td>['drug overdose', 'injury', 'liver', 'acetamin...</td>\n",
              "    </tr>\n",
              "  </tbody>\n",
              "</table>\n",
              "<p>29752 rows × 3 columns</p>\n",
              "</div>\n",
              "      <button class=\"colab-df-convert\" onclick=\"convertToInteractive('df-3ddabb8c-fc93-4b3e-a3d0-2b997da98931')\"\n",
              "              title=\"Convert this dataframe to an interactive table.\"\n",
              "              style=\"display:none;\">\n",
              "        \n",
              "  <svg xmlns=\"http://www.w3.org/2000/svg\" height=\"24px\"viewBox=\"0 0 24 24\"\n",
              "       width=\"24px\">\n",
              "    <path d=\"M0 0h24v24H0V0z\" fill=\"none\"/>\n",
              "    <path d=\"M18.56 5.44l.94 2.06.94-2.06 2.06-.94-2.06-.94-.94-2.06-.94 2.06-2.06.94zm-11 1L8.5 8.5l.94-2.06 2.06-.94-2.06-.94L8.5 2.5l-.94 2.06-2.06.94zm10 10l.94 2.06.94-2.06 2.06-.94-2.06-.94-.94-2.06-.94 2.06-2.06.94z\"/><path d=\"M17.41 7.96l-1.37-1.37c-.4-.4-.92-.59-1.43-.59-.52 0-1.04.2-1.43.59L10.3 9.45l-7.72 7.72c-.78.78-.78 2.05 0 2.83L4 21.41c.39.39.9.59 1.41.59.51 0 1.02-.2 1.41-.59l7.78-7.78 2.81-2.81c.8-.78.8-2.07 0-2.86zM5.41 20L4 18.59l7.72-7.72 1.47 1.35L5.41 20z\"/>\n",
              "  </svg>\n",
              "      </button>\n",
              "      \n",
              "  <style>\n",
              "    .colab-df-container {\n",
              "      display:flex;\n",
              "      flex-wrap:wrap;\n",
              "      gap: 12px;\n",
              "    }\n",
              "\n",
              "    .colab-df-convert {\n",
              "      background-color: #E8F0FE;\n",
              "      border: none;\n",
              "      border-radius: 50%;\n",
              "      cursor: pointer;\n",
              "      display: none;\n",
              "      fill: #1967D2;\n",
              "      height: 32px;\n",
              "      padding: 0 0 0 0;\n",
              "      width: 32px;\n",
              "    }\n",
              "\n",
              "    .colab-df-convert:hover {\n",
              "      background-color: #E2EBFA;\n",
              "      box-shadow: 0px 1px 2px rgba(60, 64, 67, 0.3), 0px 1px 3px 1px rgba(60, 64, 67, 0.15);\n",
              "      fill: #174EA6;\n",
              "    }\n",
              "\n",
              "    [theme=dark] .colab-df-convert {\n",
              "      background-color: #3B4455;\n",
              "      fill: #D2E3FC;\n",
              "    }\n",
              "\n",
              "    [theme=dark] .colab-df-convert:hover {\n",
              "      background-color: #434B5C;\n",
              "      box-shadow: 0px 1px 3px 1px rgba(0, 0, 0, 0.15);\n",
              "      filter: drop-shadow(0px 1px 2px rgba(0, 0, 0, 0.3));\n",
              "      fill: #FFFFFF;\n",
              "    }\n",
              "  </style>\n",
              "\n",
              "      <script>\n",
              "        const buttonEl =\n",
              "          document.querySelector('#df-3ddabb8c-fc93-4b3e-a3d0-2b997da98931 button.colab-df-convert');\n",
              "        buttonEl.style.display =\n",
              "          google.colab.kernel.accessAllowed ? 'block' : 'none';\n",
              "\n",
              "        async function convertToInteractive(key) {\n",
              "          const element = document.querySelector('#df-3ddabb8c-fc93-4b3e-a3d0-2b997da98931');\n",
              "          const dataTable =\n",
              "            await google.colab.kernel.invokeFunction('convertToInteractive',\n",
              "                                                     [key], {});\n",
              "          if (!dataTable) return;\n",
              "\n",
              "          const docLinkHtml = 'Like what you see? Visit the ' +\n",
              "            '<a target=\"_blank\" href=https://colab.research.google.com/notebooks/data_table.ipynb>data table notebook</a>'\n",
              "            + ' to learn more about interactive tables.';\n",
              "          element.innerHTML = '';\n",
              "          dataTable['output_type'] = 'display_data';\n",
              "          await google.colab.output.renderOutput(dataTable, element);\n",
              "          const docLink = document.createElement('div');\n",
              "          docLink.innerHTML = docLinkHtml;\n",
              "          element.appendChild(docLink);\n",
              "        }\n",
              "      </script>\n",
              "    </div>\n",
              "  </div>\n",
              "  "
            ]
          },
          "metadata": {},
          "execution_count": 10
        }
      ],
      "source": [
        "#displaying the medical data.\n",
        "all_data"
      ]
    },
    {
      "cell_type": "code",
      "execution_count": 11,
      "metadata": {
        "id": "WNX1t0rCLzo_"
      },
      "outputs": [],
      "source": [
        "import re\n",
        "import numpy as np\n",
        "#function to preprocess tags post loading from disk\n",
        "def preprocess_tags(tags):\n",
        "  tags=tags[1:-1]\n",
        "  tags=tags.replace(\"\\'\",'')\n",
        "  return np.array(tags.split(', '))"
      ]
    },
    {
      "cell_type": "code",
      "execution_count": 12,
      "metadata": {
        "id": "Ajun6AnkKGqy"
      },
      "outputs": [],
      "source": [
        "#preprocessing the tags post loading from disk\n",
        "all_data['tags']=all_data.tags.apply(lambda x: preprocess_tags(x))"
      ]
    },
    {
      "cell_type": "code",
      "execution_count": 13,
      "metadata": {
        "colab": {
          "base_uri": "https://localhost:8080/",
          "height": 337
        },
        "id": "jvpBBcqKXvyQ",
        "outputId": "b7e4caf5-15b0-495b-c34c-3225f497e5e9"
      },
      "outputs": [
        {
          "output_type": "execute_result",
          "data": {
            "text/plain": [
              "                                           questions  \\\n",
              "0                          how do i stop smoking now   \n",
              "1  i had a tubaligation 4 years ago and also have...   \n",
              "2  could extra caffeine consumption be a cause of...   \n",
              "3  hello- i am a 24 year old female 5\"4 & 115 lb ...   \n",
              "4  i was wanting to know if you could tell me if ...   \n",
              "\n",
              "                                             answers  \\\n",
              "0  stopping smoking is about will power and being...   \n",
              "1  hello this sounds quite unfamiliar that due to...   \n",
              "2  extra caffeine can cause gastric discomfort th...   \n",
              "3  hello thanks for submitting your question here...   \n",
              "4  i am glad to help you out. this is not possibl...   \n",
              "\n",
              "                                                tags  \n",
              "0                          [addiction, stop smoking]  \n",
              "1                   [pregnancy, diet, endometriosis]  \n",
              "2                   [breast cancer, cancer, breasts]  \n",
              "3     [hair loss, diet, acne, ovulation and ovaries]  \n",
              "4  [am i pregnant, pregnant, urine pregnancy test...  "
            ],
            "text/html": [
              "\n",
              "  <div id=\"df-68b2b52b-d181-4b5d-b1e3-679946d23bcb\">\n",
              "    <div class=\"colab-df-container\">\n",
              "      <div>\n",
              "<style scoped>\n",
              "    .dataframe tbody tr th:only-of-type {\n",
              "        vertical-align: middle;\n",
              "    }\n",
              "\n",
              "    .dataframe tbody tr th {\n",
              "        vertical-align: top;\n",
              "    }\n",
              "\n",
              "    .dataframe thead th {\n",
              "        text-align: right;\n",
              "    }\n",
              "</style>\n",
              "<table border=\"1\" class=\"dataframe\">\n",
              "  <thead>\n",
              "    <tr style=\"text-align: right;\">\n",
              "      <th></th>\n",
              "      <th>questions</th>\n",
              "      <th>answers</th>\n",
              "      <th>tags</th>\n",
              "    </tr>\n",
              "  </thead>\n",
              "  <tbody>\n",
              "    <tr>\n",
              "      <th>0</th>\n",
              "      <td>how do i stop smoking now</td>\n",
              "      <td>stopping smoking is about will power and being...</td>\n",
              "      <td>[addiction, stop smoking]</td>\n",
              "    </tr>\n",
              "    <tr>\n",
              "      <th>1</th>\n",
              "      <td>i had a tubaligation 4 years ago and also have...</td>\n",
              "      <td>hello this sounds quite unfamiliar that due to...</td>\n",
              "      <td>[pregnancy, diet, endometriosis]</td>\n",
              "    </tr>\n",
              "    <tr>\n",
              "      <th>2</th>\n",
              "      <td>could extra caffeine consumption be a cause of...</td>\n",
              "      <td>extra caffeine can cause gastric discomfort th...</td>\n",
              "      <td>[breast cancer, cancer, breasts]</td>\n",
              "    </tr>\n",
              "    <tr>\n",
              "      <th>3</th>\n",
              "      <td>hello- i am a 24 year old female 5\"4 &amp; 115 lb ...</td>\n",
              "      <td>hello thanks for submitting your question here...</td>\n",
              "      <td>[hair loss, diet, acne, ovulation and ovaries]</td>\n",
              "    </tr>\n",
              "    <tr>\n",
              "      <th>4</th>\n",
              "      <td>i was wanting to know if you could tell me if ...</td>\n",
              "      <td>i am glad to help you out. this is not possibl...</td>\n",
              "      <td>[am i pregnant, pregnant, urine pregnancy test...</td>\n",
              "    </tr>\n",
              "  </tbody>\n",
              "</table>\n",
              "</div>\n",
              "      <button class=\"colab-df-convert\" onclick=\"convertToInteractive('df-68b2b52b-d181-4b5d-b1e3-679946d23bcb')\"\n",
              "              title=\"Convert this dataframe to an interactive table.\"\n",
              "              style=\"display:none;\">\n",
              "        \n",
              "  <svg xmlns=\"http://www.w3.org/2000/svg\" height=\"24px\"viewBox=\"0 0 24 24\"\n",
              "       width=\"24px\">\n",
              "    <path d=\"M0 0h24v24H0V0z\" fill=\"none\"/>\n",
              "    <path d=\"M18.56 5.44l.94 2.06.94-2.06 2.06-.94-2.06-.94-.94-2.06-.94 2.06-2.06.94zm-11 1L8.5 8.5l.94-2.06 2.06-.94-2.06-.94L8.5 2.5l-.94 2.06-2.06.94zm10 10l.94 2.06.94-2.06 2.06-.94-2.06-.94-.94-2.06-.94 2.06-2.06.94z\"/><path d=\"M17.41 7.96l-1.37-1.37c-.4-.4-.92-.59-1.43-.59-.52 0-1.04.2-1.43.59L10.3 9.45l-7.72 7.72c-.78.78-.78 2.05 0 2.83L4 21.41c.39.39.9.59 1.41.59.51 0 1.02-.2 1.41-.59l7.78-7.78 2.81-2.81c.8-.78.8-2.07 0-2.86zM5.41 20L4 18.59l7.72-7.72 1.47 1.35L5.41 20z\"/>\n",
              "  </svg>\n",
              "      </button>\n",
              "      \n",
              "  <style>\n",
              "    .colab-df-container {\n",
              "      display:flex;\n",
              "      flex-wrap:wrap;\n",
              "      gap: 12px;\n",
              "    }\n",
              "\n",
              "    .colab-df-convert {\n",
              "      background-color: #E8F0FE;\n",
              "      border: none;\n",
              "      border-radius: 50%;\n",
              "      cursor: pointer;\n",
              "      display: none;\n",
              "      fill: #1967D2;\n",
              "      height: 32px;\n",
              "      padding: 0 0 0 0;\n",
              "      width: 32px;\n",
              "    }\n",
              "\n",
              "    .colab-df-convert:hover {\n",
              "      background-color: #E2EBFA;\n",
              "      box-shadow: 0px 1px 2px rgba(60, 64, 67, 0.3), 0px 1px 3px 1px rgba(60, 64, 67, 0.15);\n",
              "      fill: #174EA6;\n",
              "    }\n",
              "\n",
              "    [theme=dark] .colab-df-convert {\n",
              "      background-color: #3B4455;\n",
              "      fill: #D2E3FC;\n",
              "    }\n",
              "\n",
              "    [theme=dark] .colab-df-convert:hover {\n",
              "      background-color: #434B5C;\n",
              "      box-shadow: 0px 1px 3px 1px rgba(0, 0, 0, 0.15);\n",
              "      filter: drop-shadow(0px 1px 2px rgba(0, 0, 0, 0.3));\n",
              "      fill: #FFFFFF;\n",
              "    }\n",
              "  </style>\n",
              "\n",
              "      <script>\n",
              "        const buttonEl =\n",
              "          document.querySelector('#df-68b2b52b-d181-4b5d-b1e3-679946d23bcb button.colab-df-convert');\n",
              "        buttonEl.style.display =\n",
              "          google.colab.kernel.accessAllowed ? 'block' : 'none';\n",
              "\n",
              "        async function convertToInteractive(key) {\n",
              "          const element = document.querySelector('#df-68b2b52b-d181-4b5d-b1e3-679946d23bcb');\n",
              "          const dataTable =\n",
              "            await google.colab.kernel.invokeFunction('convertToInteractive',\n",
              "                                                     [key], {});\n",
              "          if (!dataTable) return;\n",
              "\n",
              "          const docLinkHtml = 'Like what you see? Visit the ' +\n",
              "            '<a target=\"_blank\" href=https://colab.research.google.com/notebooks/data_table.ipynb>data table notebook</a>'\n",
              "            + ' to learn more about interactive tables.';\n",
              "          element.innerHTML = '';\n",
              "          dataTable['output_type'] = 'display_data';\n",
              "          await google.colab.output.renderOutput(dataTable, element);\n",
              "          const docLink = document.createElement('div');\n",
              "          docLink.innerHTML = docLinkHtml;\n",
              "          element.appendChild(docLink);\n",
              "        }\n",
              "      </script>\n",
              "    </div>\n",
              "  </div>\n",
              "  "
            ]
          },
          "metadata": {},
          "execution_count": 13
        }
      ],
      "source": [
        "#displaying the data\n",
        "all_data.head()"
      ]
    },
    {
      "cell_type": "code",
      "execution_count": 14,
      "metadata": {
        "colab": {
          "base_uri": "https://localhost:8080/",
          "height": 669
        },
        "id": "F-d8UCKNb3Jt",
        "outputId": "bd7435e8-ad32-4908-fd33-f6ac986cdddc"
      },
      "outputs": [
        {
          "output_type": "execute_result",
          "data": {
            "text/plain": [
              "                                           questions  \\\n",
              "0                          how do i stop smoking now   \n",
              "1  i had a tubaligation 4 years ago and also have...   \n",
              "2  could extra caffeine consumption be a cause of...   \n",
              "3  hello- i am a 24 year old female 5\"4 & 115 lb ...   \n",
              "4  i was wanting to know if you could tell me if ...   \n",
              "\n",
              "                                             answers  \\\n",
              "0  stopping smoking is about will power and being...   \n",
              "1  hello this sounds quite unfamiliar that due to...   \n",
              "2  extra caffeine can cause gastric discomfort th...   \n",
              "3  hello thanks for submitting your question here...   \n",
              "4  i am glad to help you out. this is not possibl...   \n",
              "\n",
              "                                                tags  \\\n",
              "0                          [addiction, stop smoking]   \n",
              "1                   [pregnancy, diet, endometriosis]   \n",
              "2                   [breast cancer, cancer, breasts]   \n",
              "3     [hair loss, diet, acne, ovulation and ovaries]   \n",
              "4  [am i pregnant, pregnant, urine pregnancy test...   \n",
              "\n",
              "                               preprocessed_question  \\\n",
              "0                          how do i stop smoking now   \n",
              "1  i had a tubaligation 4 years ago and also have...   \n",
              "2  could extra caffeine consumption be a cause of...   \n",
              "3  hello  i am a 24 year old female 54 & 115 lb &...   \n",
              "4  i was wanting to know if you could tell me if ...   \n",
              "\n",
              "                                 preprocessed_answer  \n",
              "0  stopping smoking is about will power and being...  \n",
              "1  hello this sounds quite unfamiliar that due to...  \n",
              "2  extra caffeine can cause gastric discomfort th...  \n",
              "3  hello thanks for submitting your question here...  \n",
              "4  i am glad to help you out this is not possible...  "
            ],
            "text/html": [
              "\n",
              "  <div id=\"df-d8064c7d-873c-4f4a-a999-ed0e1b3546e7\">\n",
              "    <div class=\"colab-df-container\">\n",
              "      <div>\n",
              "<style scoped>\n",
              "    .dataframe tbody tr th:only-of-type {\n",
              "        vertical-align: middle;\n",
              "    }\n",
              "\n",
              "    .dataframe tbody tr th {\n",
              "        vertical-align: top;\n",
              "    }\n",
              "\n",
              "    .dataframe thead th {\n",
              "        text-align: right;\n",
              "    }\n",
              "</style>\n",
              "<table border=\"1\" class=\"dataframe\">\n",
              "  <thead>\n",
              "    <tr style=\"text-align: right;\">\n",
              "      <th></th>\n",
              "      <th>questions</th>\n",
              "      <th>answers</th>\n",
              "      <th>tags</th>\n",
              "      <th>preprocessed_question</th>\n",
              "      <th>preprocessed_answer</th>\n",
              "    </tr>\n",
              "  </thead>\n",
              "  <tbody>\n",
              "    <tr>\n",
              "      <th>0</th>\n",
              "      <td>how do i stop smoking now</td>\n",
              "      <td>stopping smoking is about will power and being...</td>\n",
              "      <td>[addiction, stop smoking]</td>\n",
              "      <td>how do i stop smoking now</td>\n",
              "      <td>stopping smoking is about will power and being...</td>\n",
              "    </tr>\n",
              "    <tr>\n",
              "      <th>1</th>\n",
              "      <td>i had a tubaligation 4 years ago and also have...</td>\n",
              "      <td>hello this sounds quite unfamiliar that due to...</td>\n",
              "      <td>[pregnancy, diet, endometriosis]</td>\n",
              "      <td>i had a tubaligation 4 years ago and also have...</td>\n",
              "      <td>hello this sounds quite unfamiliar that due to...</td>\n",
              "    </tr>\n",
              "    <tr>\n",
              "      <th>2</th>\n",
              "      <td>could extra caffeine consumption be a cause of...</td>\n",
              "      <td>extra caffeine can cause gastric discomfort th...</td>\n",
              "      <td>[breast cancer, cancer, breasts]</td>\n",
              "      <td>could extra caffeine consumption be a cause of...</td>\n",
              "      <td>extra caffeine can cause gastric discomfort th...</td>\n",
              "    </tr>\n",
              "    <tr>\n",
              "      <th>3</th>\n",
              "      <td>hello- i am a 24 year old female 5\"4 &amp; 115 lb ...</td>\n",
              "      <td>hello thanks for submitting your question here...</td>\n",
              "      <td>[hair loss, diet, acne, ovulation and ovaries]</td>\n",
              "      <td>hello  i am a 24 year old female 54 &amp; 115 lb &amp;...</td>\n",
              "      <td>hello thanks for submitting your question here...</td>\n",
              "    </tr>\n",
              "    <tr>\n",
              "      <th>4</th>\n",
              "      <td>i was wanting to know if you could tell me if ...</td>\n",
              "      <td>i am glad to help you out. this is not possibl...</td>\n",
              "      <td>[am i pregnant, pregnant, urine pregnancy test...</td>\n",
              "      <td>i was wanting to know if you could tell me if ...</td>\n",
              "      <td>i am glad to help you out this is not possible...</td>\n",
              "    </tr>\n",
              "  </tbody>\n",
              "</table>\n",
              "</div>\n",
              "      <button class=\"colab-df-convert\" onclick=\"convertToInteractive('df-d8064c7d-873c-4f4a-a999-ed0e1b3546e7')\"\n",
              "              title=\"Convert this dataframe to an interactive table.\"\n",
              "              style=\"display:none;\">\n",
              "        \n",
              "  <svg xmlns=\"http://www.w3.org/2000/svg\" height=\"24px\"viewBox=\"0 0 24 24\"\n",
              "       width=\"24px\">\n",
              "    <path d=\"M0 0h24v24H0V0z\" fill=\"none\"/>\n",
              "    <path d=\"M18.56 5.44l.94 2.06.94-2.06 2.06-.94-2.06-.94-.94-2.06-.94 2.06-2.06.94zm-11 1L8.5 8.5l.94-2.06 2.06-.94-2.06-.94L8.5 2.5l-.94 2.06-2.06.94zm10 10l.94 2.06.94-2.06 2.06-.94-2.06-.94-.94-2.06-.94 2.06-2.06.94z\"/><path d=\"M17.41 7.96l-1.37-1.37c-.4-.4-.92-.59-1.43-.59-.52 0-1.04.2-1.43.59L10.3 9.45l-7.72 7.72c-.78.78-.78 2.05 0 2.83L4 21.41c.39.39.9.59 1.41.59.51 0 1.02-.2 1.41-.59l7.78-7.78 2.81-2.81c.8-.78.8-2.07 0-2.86zM5.41 20L4 18.59l7.72-7.72 1.47 1.35L5.41 20z\"/>\n",
              "  </svg>\n",
              "      </button>\n",
              "      \n",
              "  <style>\n",
              "    .colab-df-container {\n",
              "      display:flex;\n",
              "      flex-wrap:wrap;\n",
              "      gap: 12px;\n",
              "    }\n",
              "\n",
              "    .colab-df-convert {\n",
              "      background-color: #E8F0FE;\n",
              "      border: none;\n",
              "      border-radius: 50%;\n",
              "      cursor: pointer;\n",
              "      display: none;\n",
              "      fill: #1967D2;\n",
              "      height: 32px;\n",
              "      padding: 0 0 0 0;\n",
              "      width: 32px;\n",
              "    }\n",
              "\n",
              "    .colab-df-convert:hover {\n",
              "      background-color: #E2EBFA;\n",
              "      box-shadow: 0px 1px 2px rgba(60, 64, 67, 0.3), 0px 1px 3px 1px rgba(60, 64, 67, 0.15);\n",
              "      fill: #174EA6;\n",
              "    }\n",
              "\n",
              "    [theme=dark] .colab-df-convert {\n",
              "      background-color: #3B4455;\n",
              "      fill: #D2E3FC;\n",
              "    }\n",
              "\n",
              "    [theme=dark] .colab-df-convert:hover {\n",
              "      background-color: #434B5C;\n",
              "      box-shadow: 0px 1px 3px 1px rgba(0, 0, 0, 0.15);\n",
              "      filter: drop-shadow(0px 1px 2px rgba(0, 0, 0, 0.3));\n",
              "      fill: #FFFFFF;\n",
              "    }\n",
              "  </style>\n",
              "\n",
              "      <script>\n",
              "        const buttonEl =\n",
              "          document.querySelector('#df-d8064c7d-873c-4f4a-a999-ed0e1b3546e7 button.colab-df-convert');\n",
              "        buttonEl.style.display =\n",
              "          google.colab.kernel.accessAllowed ? 'block' : 'none';\n",
              "\n",
              "        async function convertToInteractive(key) {\n",
              "          const element = document.querySelector('#df-d8064c7d-873c-4f4a-a999-ed0e1b3546e7');\n",
              "          const dataTable =\n",
              "            await google.colab.kernel.invokeFunction('convertToInteractive',\n",
              "                                                     [key], {});\n",
              "          if (!dataTable) return;\n",
              "\n",
              "          const docLinkHtml = 'Like what you see? Visit the ' +\n",
              "            '<a target=\"_blank\" href=https://colab.research.google.com/notebooks/data_table.ipynb>data table notebook</a>'\n",
              "            + ' to learn more about interactive tables.';\n",
              "          element.innerHTML = '';\n",
              "          dataTable['output_type'] = 'display_data';\n",
              "          await google.colab.output.renderOutput(dataTable, element);\n",
              "          const docLink = document.createElement('div');\n",
              "          docLink.innerHTML = docLinkHtml;\n",
              "          element.appendChild(docLink);\n",
              "        }\n",
              "      </script>\n",
              "    </div>\n",
              "  </div>\n",
              "  "
            ]
          },
          "metadata": {},
          "execution_count": 14
        }
      ],
      "source": [
        "import re\n",
        "#preprocessing questions and answers.\n",
        "def decontractions(phrase):\n",
        "    \"\"\"decontracted takes text and convert contractions into natural form.\n",
        "     ref: https://stackoverflow.com/questions/19790188/expanding-english-language-contractions-in-python/47091490#47091490\"\"\"\n",
        "    phrase = re.sub(r\"won\\'t\", \"will not\", phrase)\n",
        "    phrase = re.sub(r\"can\\'t\", \"can not\", phrase)\n",
        "    phrase = re.sub(r\"won\\’t\", \"will not\", phrase)\n",
        "    phrase = re.sub(r\"can\\’t\", \"can not\", phrase)\n",
        "    phrase = re.sub(r\"n\\'t\", \" not\", phrase)\n",
        "    phrase = re.sub(r\"\\'re\", \" are\", phrase)\n",
        "    phrase = re.sub(r\"\\'s\", \" is\", phrase)\n",
        "    phrase = re.sub(r\"\\'d\", \" would\", phrase)\n",
        "    phrase = re.sub(r\"\\'ll\", \" will\", phrase)\n",
        "    phrase = re.sub(r\"\\'t\", \" not\", phrase)\n",
        "    phrase = re.sub(r\"\\'ve\", \" have\", phrase)\n",
        "    phrase = re.sub(r\"\\'m\", \" am\", phrase)\n",
        "\n",
        "    phrase = re.sub(r\"n\\’t\", \" not\", phrase)\n",
        "    phrase = re.sub(r\"\\’re\", \" are\", phrase)\n",
        "    phrase = re.sub(r\"\\’s\", \" is\", phrase)\n",
        "    phrase = re.sub(r\"\\’d\", \" would\", phrase)\n",
        "    phrase = re.sub(r\"\\’ll\", \" will\", phrase)\n",
        "    phrase = re.sub(r\"\\’t\", \" not\", phrase)\n",
        "    phrase = re.sub(r\"\\’ve\", \" have\", phrase)\n",
        "    phrase = re.sub(r\"\\’m\", \" am\", phrase)\n",
        "\n",
        "    return phrase\n",
        "\n",
        "\n",
        "def preprocess(text):\n",
        "    # convert all the text into lower letters\n",
        "    # remove the words betweent brakets ()\n",
        "    # remove these characters: {'$', ')', '?', '\"', '’', '.',  '°', '!', ';', '/', \"'\", '€', '%', ':', ',', '('}\n",
        "    # replace these spl characters with space: '\\u200b', '\\xa0', '-', '/'\n",
        "    \n",
        "    text = text.lower()\n",
        "    text = decontractions(text)\n",
        "    text = re.sub('[$)\\?\"’.°!;\\'€%:,(/]', '', text)\n",
        "    text = re.sub('\\u200b', ' ', text)\n",
        "    text = re.sub('\\xa0', ' ', text)\n",
        "    text = re.sub('-', ' ', text)\n",
        "    return text\n",
        "\n",
        "\n",
        "all_data['preprocessed_question'] = all_data['questions'].apply(preprocess)\n",
        "all_data['preprocessed_answer'] = all_data['answers'].apply(preprocess)\n",
        "all_data.head()"
      ]
    },
    {
      "cell_type": "code",
      "execution_count": 15,
      "metadata": {
        "id": "JrPOgz6uAhny"
      },
      "outputs": [],
      "source": [
        "#finding the lens of preprocessed questions and answers\n",
        "all_data['question_len']=all_data['preprocessed_question'].apply(lambda x: len(x.split(' ')))\n",
        "all_data['answer_len']=all_data['preprocessed_answer'].apply(lambda x: len(x.split(' ')))"
      ]
    },
    {
      "cell_type": "code",
      "execution_count": 16,
      "metadata": {
        "colab": {
          "base_uri": "https://localhost:8080/"
        },
        "id": "9s6Sl1sMAoxT",
        "outputId": "46352718-e5a7-4f83-9ef2-4298bacbac9e"
      },
      "outputs": [
        {
          "output_type": "stream",
          "name": "stdout",
          "text": [
            "0 2.0 1.0\n",
            "10 7.0 21.0\n",
            "20 9.0 31.0\n",
            "30 12.0 40.0\n",
            "40 14.0 50.0\n",
            "50 18.0 61.0\n",
            "60 22.0 77.0\n",
            "70 38.0 99.0\n",
            "80 63.0 134.0\n",
            "90 96.0 201.0\n",
            "100 425.0 1333.0\n"
          ]
        }
      ],
      "source": [
        "#printing different percentiles of question and answer lengths\n",
        "import numpy as np\n",
        "for i in range(0,101,10):\n",
        "  print(i,np.percentile(all_data.question_len,i),np.percentile(all_data.answer_len,i))"
      ]
    },
    {
      "cell_type": "code",
      "execution_count": 17,
      "metadata": {
        "colab": {
          "base_uri": "https://localhost:8080/"
        },
        "id": "_0dN4dIaA7yW",
        "outputId": "67f20404-47d5-4e5c-a7e4-4127ad1c9a17"
      },
      "outputs": [
        {
          "output_type": "stream",
          "name": "stdout",
          "text": [
            "90 96.0 201.0\n",
            "91 99.0 211.0\n",
            "92 102.0 223.0\n",
            "93 104.43000000000029 236.0\n",
            "94 107.0 254.0\n",
            "95 109.0 275.0\n",
            "96 112.0 301.0\n",
            "97 115.0 343.0\n",
            "98 119.0 397.0\n",
            "99 124.0 495.0\n",
            "100 425.0 1333.0\n"
          ]
        }
      ],
      "source": [
        "#printing different percentiles of question and answer lengths\n",
        "for i in range(90,101,1):\n",
        "  print(i,np.percentile(all_data.question_len,i),np.percentile(all_data.answer_len,i))"
      ]
    },
    {
      "cell_type": "code",
      "execution_count": 18,
      "metadata": {
        "id": "3QvI2SYKBAT-"
      },
      "outputs": [],
      "source": [
        "#since more than 100% percent of questions and about 99% of all answers lie within 500 words, we use 500 as the max length\n",
        "all_data['short_question']=all_data.apply(lambda x: ' '.join(x.preprocessed_question.split(' ')[:500]) if x.question_len>500 else x.preprocessed_question ,axis=1)\n",
        "all_data['short_answer']=all_data.apply(lambda x: ' '.join(x.preprocessed_answer.split(' ')[:500]) if x.answer_len>500 else x.preprocessed_answer ,axis=1)"
      ]
    },
    {
      "cell_type": "code",
      "execution_count": 19,
      "metadata": {
        "colab": {
          "base_uri": "https://localhost:8080/",
          "height": 669
        },
        "id": "TGWmgYoRB1Mt",
        "outputId": "5b050bf9-cebb-41c6-fb83-f828c1aee71c"
      },
      "outputs": [
        {
          "output_type": "execute_result",
          "data": {
            "text/plain": [
              "                                           questions  \\\n",
              "0                          how do i stop smoking now   \n",
              "1  i had a tubaligation 4 years ago and also have...   \n",
              "2  could extra caffeine consumption be a cause of...   \n",
              "3  hello- i am a 24 year old female 5\"4 & 115 lb ...   \n",
              "4  i was wanting to know if you could tell me if ...   \n",
              "\n",
              "                                             answers  \\\n",
              "0  stopping smoking is about will power and being...   \n",
              "1  hello this sounds quite unfamiliar that due to...   \n",
              "2  extra caffeine can cause gastric discomfort th...   \n",
              "3  hello thanks for submitting your question here...   \n",
              "4  i am glad to help you out. this is not possibl...   \n",
              "\n",
              "                                                tags  \\\n",
              "0                          [addiction, stop smoking]   \n",
              "1                   [pregnancy, diet, endometriosis]   \n",
              "2                   [breast cancer, cancer, breasts]   \n",
              "3     [hair loss, diet, acne, ovulation and ovaries]   \n",
              "4  [am i pregnant, pregnant, urine pregnancy test...   \n",
              "\n",
              "                               preprocessed_question  \\\n",
              "0                          how do i stop smoking now   \n",
              "1  i had a tubaligation 4 years ago and also have...   \n",
              "2  could extra caffeine consumption be a cause of...   \n",
              "3  hello  i am a 24 year old female 54 & 115 lb &...   \n",
              "4  i was wanting to know if you could tell me if ...   \n",
              "\n",
              "                                 preprocessed_answer  question_len  \\\n",
              "0  stopping smoking is about will power and being...             6   \n",
              "1  hello this sounds quite unfamiliar that due to...            58   \n",
              "2  extra caffeine can cause gastric discomfort th...            12   \n",
              "3  hello thanks for submitting your question here...           196   \n",
              "4  i am glad to help you out this is not possible...            63   \n",
              "\n",
              "   answer_len                                     short_question  \\\n",
              "0          38                          how do i stop smoking now   \n",
              "1          70  i had a tubaligation 4 years ago and also have...   \n",
              "2          77  could extra caffeine consumption be a cause of...   \n",
              "3          97  hello  i am a 24 year old female 54 & 115 lb &...   \n",
              "4          80  i was wanting to know if you could tell me if ...   \n",
              "\n",
              "                                        short_answer  \n",
              "0  stopping smoking is about will power and being...  \n",
              "1  hello this sounds quite unfamiliar that due to...  \n",
              "2  extra caffeine can cause gastric discomfort th...  \n",
              "3  hello thanks for submitting your question here...  \n",
              "4  i am glad to help you out this is not possible...  "
            ],
            "text/html": [
              "\n",
              "  <div id=\"df-24606c21-8601-49cb-9dc7-c28e68ab82c9\">\n",
              "    <div class=\"colab-df-container\">\n",
              "      <div>\n",
              "<style scoped>\n",
              "    .dataframe tbody tr th:only-of-type {\n",
              "        vertical-align: middle;\n",
              "    }\n",
              "\n",
              "    .dataframe tbody tr th {\n",
              "        vertical-align: top;\n",
              "    }\n",
              "\n",
              "    .dataframe thead th {\n",
              "        text-align: right;\n",
              "    }\n",
              "</style>\n",
              "<table border=\"1\" class=\"dataframe\">\n",
              "  <thead>\n",
              "    <tr style=\"text-align: right;\">\n",
              "      <th></th>\n",
              "      <th>questions</th>\n",
              "      <th>answers</th>\n",
              "      <th>tags</th>\n",
              "      <th>preprocessed_question</th>\n",
              "      <th>preprocessed_answer</th>\n",
              "      <th>question_len</th>\n",
              "      <th>answer_len</th>\n",
              "      <th>short_question</th>\n",
              "      <th>short_answer</th>\n",
              "    </tr>\n",
              "  </thead>\n",
              "  <tbody>\n",
              "    <tr>\n",
              "      <th>0</th>\n",
              "      <td>how do i stop smoking now</td>\n",
              "      <td>stopping smoking is about will power and being...</td>\n",
              "      <td>[addiction, stop smoking]</td>\n",
              "      <td>how do i stop smoking now</td>\n",
              "      <td>stopping smoking is about will power and being...</td>\n",
              "      <td>6</td>\n",
              "      <td>38</td>\n",
              "      <td>how do i stop smoking now</td>\n",
              "      <td>stopping smoking is about will power and being...</td>\n",
              "    </tr>\n",
              "    <tr>\n",
              "      <th>1</th>\n",
              "      <td>i had a tubaligation 4 years ago and also have...</td>\n",
              "      <td>hello this sounds quite unfamiliar that due to...</td>\n",
              "      <td>[pregnancy, diet, endometriosis]</td>\n",
              "      <td>i had a tubaligation 4 years ago and also have...</td>\n",
              "      <td>hello this sounds quite unfamiliar that due to...</td>\n",
              "      <td>58</td>\n",
              "      <td>70</td>\n",
              "      <td>i had a tubaligation 4 years ago and also have...</td>\n",
              "      <td>hello this sounds quite unfamiliar that due to...</td>\n",
              "    </tr>\n",
              "    <tr>\n",
              "      <th>2</th>\n",
              "      <td>could extra caffeine consumption be a cause of...</td>\n",
              "      <td>extra caffeine can cause gastric discomfort th...</td>\n",
              "      <td>[breast cancer, cancer, breasts]</td>\n",
              "      <td>could extra caffeine consumption be a cause of...</td>\n",
              "      <td>extra caffeine can cause gastric discomfort th...</td>\n",
              "      <td>12</td>\n",
              "      <td>77</td>\n",
              "      <td>could extra caffeine consumption be a cause of...</td>\n",
              "      <td>extra caffeine can cause gastric discomfort th...</td>\n",
              "    </tr>\n",
              "    <tr>\n",
              "      <th>3</th>\n",
              "      <td>hello- i am a 24 year old female 5\"4 &amp; 115 lb ...</td>\n",
              "      <td>hello thanks for submitting your question here...</td>\n",
              "      <td>[hair loss, diet, acne, ovulation and ovaries]</td>\n",
              "      <td>hello  i am a 24 year old female 54 &amp; 115 lb &amp;...</td>\n",
              "      <td>hello thanks for submitting your question here...</td>\n",
              "      <td>196</td>\n",
              "      <td>97</td>\n",
              "      <td>hello  i am a 24 year old female 54 &amp; 115 lb &amp;...</td>\n",
              "      <td>hello thanks for submitting your question here...</td>\n",
              "    </tr>\n",
              "    <tr>\n",
              "      <th>4</th>\n",
              "      <td>i was wanting to know if you could tell me if ...</td>\n",
              "      <td>i am glad to help you out. this is not possibl...</td>\n",
              "      <td>[am i pregnant, pregnant, urine pregnancy test...</td>\n",
              "      <td>i was wanting to know if you could tell me if ...</td>\n",
              "      <td>i am glad to help you out this is not possible...</td>\n",
              "      <td>63</td>\n",
              "      <td>80</td>\n",
              "      <td>i was wanting to know if you could tell me if ...</td>\n",
              "      <td>i am glad to help you out this is not possible...</td>\n",
              "    </tr>\n",
              "  </tbody>\n",
              "</table>\n",
              "</div>\n",
              "      <button class=\"colab-df-convert\" onclick=\"convertToInteractive('df-24606c21-8601-49cb-9dc7-c28e68ab82c9')\"\n",
              "              title=\"Convert this dataframe to an interactive table.\"\n",
              "              style=\"display:none;\">\n",
              "        \n",
              "  <svg xmlns=\"http://www.w3.org/2000/svg\" height=\"24px\"viewBox=\"0 0 24 24\"\n",
              "       width=\"24px\">\n",
              "    <path d=\"M0 0h24v24H0V0z\" fill=\"none\"/>\n",
              "    <path d=\"M18.56 5.44l.94 2.06.94-2.06 2.06-.94-2.06-.94-.94-2.06-.94 2.06-2.06.94zm-11 1L8.5 8.5l.94-2.06 2.06-.94-2.06-.94L8.5 2.5l-.94 2.06-2.06.94zm10 10l.94 2.06.94-2.06 2.06-.94-2.06-.94-.94-2.06-.94 2.06-2.06.94z\"/><path d=\"M17.41 7.96l-1.37-1.37c-.4-.4-.92-.59-1.43-.59-.52 0-1.04.2-1.43.59L10.3 9.45l-7.72 7.72c-.78.78-.78 2.05 0 2.83L4 21.41c.39.39.9.59 1.41.59.51 0 1.02-.2 1.41-.59l7.78-7.78 2.81-2.81c.8-.78.8-2.07 0-2.86zM5.41 20L4 18.59l7.72-7.72 1.47 1.35L5.41 20z\"/>\n",
              "  </svg>\n",
              "      </button>\n",
              "      \n",
              "  <style>\n",
              "    .colab-df-container {\n",
              "      display:flex;\n",
              "      flex-wrap:wrap;\n",
              "      gap: 12px;\n",
              "    }\n",
              "\n",
              "    .colab-df-convert {\n",
              "      background-color: #E8F0FE;\n",
              "      border: none;\n",
              "      border-radius: 50%;\n",
              "      cursor: pointer;\n",
              "      display: none;\n",
              "      fill: #1967D2;\n",
              "      height: 32px;\n",
              "      padding: 0 0 0 0;\n",
              "      width: 32px;\n",
              "    }\n",
              "\n",
              "    .colab-df-convert:hover {\n",
              "      background-color: #E2EBFA;\n",
              "      box-shadow: 0px 1px 2px rgba(60, 64, 67, 0.3), 0px 1px 3px 1px rgba(60, 64, 67, 0.15);\n",
              "      fill: #174EA6;\n",
              "    }\n",
              "\n",
              "    [theme=dark] .colab-df-convert {\n",
              "      background-color: #3B4455;\n",
              "      fill: #D2E3FC;\n",
              "    }\n",
              "\n",
              "    [theme=dark] .colab-df-convert:hover {\n",
              "      background-color: #434B5C;\n",
              "      box-shadow: 0px 1px 3px 1px rgba(0, 0, 0, 0.15);\n",
              "      filter: drop-shadow(0px 1px 2px rgba(0, 0, 0, 0.3));\n",
              "      fill: #FFFFFF;\n",
              "    }\n",
              "  </style>\n",
              "\n",
              "      <script>\n",
              "        const buttonEl =\n",
              "          document.querySelector('#df-24606c21-8601-49cb-9dc7-c28e68ab82c9 button.colab-df-convert');\n",
              "        buttonEl.style.display =\n",
              "          google.colab.kernel.accessAllowed ? 'block' : 'none';\n",
              "\n",
              "        async function convertToInteractive(key) {\n",
              "          const element = document.querySelector('#df-24606c21-8601-49cb-9dc7-c28e68ab82c9');\n",
              "          const dataTable =\n",
              "            await google.colab.kernel.invokeFunction('convertToInteractive',\n",
              "                                                     [key], {});\n",
              "          if (!dataTable) return;\n",
              "\n",
              "          const docLinkHtml = 'Like what you see? Visit the ' +\n",
              "            '<a target=\"_blank\" href=https://colab.research.google.com/notebooks/data_table.ipynb>data table notebook</a>'\n",
              "            + ' to learn more about interactive tables.';\n",
              "          element.innerHTML = '';\n",
              "          dataTable['output_type'] = 'display_data';\n",
              "          await google.colab.output.renderOutput(dataTable, element);\n",
              "          const docLink = document.createElement('div');\n",
              "          docLink.innerHTML = docLinkHtml;\n",
              "          element.appendChild(docLink);\n",
              "        }\n",
              "      </script>\n",
              "    </div>\n",
              "  </div>\n",
              "  "
            ]
          },
          "metadata": {},
          "execution_count": 19
        }
      ],
      "source": [
        "#displaying the data post truncating the question and answers to length of 500\n",
        "all_data.head(5)"
      ]
    },
    {
      "cell_type": "code",
      "execution_count": 20,
      "metadata": {
        "id": "4cM2WF4OF6Nv"
      },
      "outputs": [],
      "source": [
        "#preparing the positive label dataset by taking the original question and original answer\n",
        "all_dataset=all_data[['short_question','short_answer','tags']].copy()\n",
        "all_dataset['label']=1.0"
      ]
    },
    {
      "cell_type": "code",
      "execution_count": 21,
      "metadata": {
        "colab": {
          "base_uri": "https://localhost:8080/",
          "height": 240
        },
        "id": "x1Ha0LuVke6o",
        "outputId": "33e9942b-5137-44ff-b7b7-eadc2c321700"
      },
      "outputs": [
        {
          "output_type": "execute_result",
          "data": {
            "text/plain": [
              "                                      short_question  \\\n",
              "0                          how do i stop smoking now   \n",
              "1  i had a tubaligation 4 years ago and also have...   \n",
              "2  could extra caffeine consumption be a cause of...   \n",
              "\n",
              "                                        short_answer  \\\n",
              "0  stopping smoking is about will power and being...   \n",
              "1  hello this sounds quite unfamiliar that due to...   \n",
              "2  extra caffeine can cause gastric discomfort th...   \n",
              "\n",
              "                               tags  label  \n",
              "0         [addiction, stop smoking]    1.0  \n",
              "1  [pregnancy, diet, endometriosis]    1.0  \n",
              "2  [breast cancer, cancer, breasts]    1.0  "
            ],
            "text/html": [
              "\n",
              "  <div id=\"df-2bbdea5d-04b1-4ee6-b1b3-cb481df20d95\">\n",
              "    <div class=\"colab-df-container\">\n",
              "      <div>\n",
              "<style scoped>\n",
              "    .dataframe tbody tr th:only-of-type {\n",
              "        vertical-align: middle;\n",
              "    }\n",
              "\n",
              "    .dataframe tbody tr th {\n",
              "        vertical-align: top;\n",
              "    }\n",
              "\n",
              "    .dataframe thead th {\n",
              "        text-align: right;\n",
              "    }\n",
              "</style>\n",
              "<table border=\"1\" class=\"dataframe\">\n",
              "  <thead>\n",
              "    <tr style=\"text-align: right;\">\n",
              "      <th></th>\n",
              "      <th>short_question</th>\n",
              "      <th>short_answer</th>\n",
              "      <th>tags</th>\n",
              "      <th>label</th>\n",
              "    </tr>\n",
              "  </thead>\n",
              "  <tbody>\n",
              "    <tr>\n",
              "      <th>0</th>\n",
              "      <td>how do i stop smoking now</td>\n",
              "      <td>stopping smoking is about will power and being...</td>\n",
              "      <td>[addiction, stop smoking]</td>\n",
              "      <td>1.0</td>\n",
              "    </tr>\n",
              "    <tr>\n",
              "      <th>1</th>\n",
              "      <td>i had a tubaligation 4 years ago and also have...</td>\n",
              "      <td>hello this sounds quite unfamiliar that due to...</td>\n",
              "      <td>[pregnancy, diet, endometriosis]</td>\n",
              "      <td>1.0</td>\n",
              "    </tr>\n",
              "    <tr>\n",
              "      <th>2</th>\n",
              "      <td>could extra caffeine consumption be a cause of...</td>\n",
              "      <td>extra caffeine can cause gastric discomfort th...</td>\n",
              "      <td>[breast cancer, cancer, breasts]</td>\n",
              "      <td>1.0</td>\n",
              "    </tr>\n",
              "  </tbody>\n",
              "</table>\n",
              "</div>\n",
              "      <button class=\"colab-df-convert\" onclick=\"convertToInteractive('df-2bbdea5d-04b1-4ee6-b1b3-cb481df20d95')\"\n",
              "              title=\"Convert this dataframe to an interactive table.\"\n",
              "              style=\"display:none;\">\n",
              "        \n",
              "  <svg xmlns=\"http://www.w3.org/2000/svg\" height=\"24px\"viewBox=\"0 0 24 24\"\n",
              "       width=\"24px\">\n",
              "    <path d=\"M0 0h24v24H0V0z\" fill=\"none\"/>\n",
              "    <path d=\"M18.56 5.44l.94 2.06.94-2.06 2.06-.94-2.06-.94-.94-2.06-.94 2.06-2.06.94zm-11 1L8.5 8.5l.94-2.06 2.06-.94-2.06-.94L8.5 2.5l-.94 2.06-2.06.94zm10 10l.94 2.06.94-2.06 2.06-.94-2.06-.94-.94-2.06-.94 2.06-2.06.94z\"/><path d=\"M17.41 7.96l-1.37-1.37c-.4-.4-.92-.59-1.43-.59-.52 0-1.04.2-1.43.59L10.3 9.45l-7.72 7.72c-.78.78-.78 2.05 0 2.83L4 21.41c.39.39.9.59 1.41.59.51 0 1.02-.2 1.41-.59l7.78-7.78 2.81-2.81c.8-.78.8-2.07 0-2.86zM5.41 20L4 18.59l7.72-7.72 1.47 1.35L5.41 20z\"/>\n",
              "  </svg>\n",
              "      </button>\n",
              "      \n",
              "  <style>\n",
              "    .colab-df-container {\n",
              "      display:flex;\n",
              "      flex-wrap:wrap;\n",
              "      gap: 12px;\n",
              "    }\n",
              "\n",
              "    .colab-df-convert {\n",
              "      background-color: #E8F0FE;\n",
              "      border: none;\n",
              "      border-radius: 50%;\n",
              "      cursor: pointer;\n",
              "      display: none;\n",
              "      fill: #1967D2;\n",
              "      height: 32px;\n",
              "      padding: 0 0 0 0;\n",
              "      width: 32px;\n",
              "    }\n",
              "\n",
              "    .colab-df-convert:hover {\n",
              "      background-color: #E2EBFA;\n",
              "      box-shadow: 0px 1px 2px rgba(60, 64, 67, 0.3), 0px 1px 3px 1px rgba(60, 64, 67, 0.15);\n",
              "      fill: #174EA6;\n",
              "    }\n",
              "\n",
              "    [theme=dark] .colab-df-convert {\n",
              "      background-color: #3B4455;\n",
              "      fill: #D2E3FC;\n",
              "    }\n",
              "\n",
              "    [theme=dark] .colab-df-convert:hover {\n",
              "      background-color: #434B5C;\n",
              "      box-shadow: 0px 1px 3px 1px rgba(0, 0, 0, 0.15);\n",
              "      filter: drop-shadow(0px 1px 2px rgba(0, 0, 0, 0.3));\n",
              "      fill: #FFFFFF;\n",
              "    }\n",
              "  </style>\n",
              "\n",
              "      <script>\n",
              "        const buttonEl =\n",
              "          document.querySelector('#df-2bbdea5d-04b1-4ee6-b1b3-cb481df20d95 button.colab-df-convert');\n",
              "        buttonEl.style.display =\n",
              "          google.colab.kernel.accessAllowed ? 'block' : 'none';\n",
              "\n",
              "        async function convertToInteractive(key) {\n",
              "          const element = document.querySelector('#df-2bbdea5d-04b1-4ee6-b1b3-cb481df20d95');\n",
              "          const dataTable =\n",
              "            await google.colab.kernel.invokeFunction('convertToInteractive',\n",
              "                                                     [key], {});\n",
              "          if (!dataTable) return;\n",
              "\n",
              "          const docLinkHtml = 'Like what you see? Visit the ' +\n",
              "            '<a target=\"_blank\" href=https://colab.research.google.com/notebooks/data_table.ipynb>data table notebook</a>'\n",
              "            + ' to learn more about interactive tables.';\n",
              "          element.innerHTML = '';\n",
              "          dataTable['output_type'] = 'display_data';\n",
              "          await google.colab.output.renderOutput(dataTable, element);\n",
              "          const docLink = document.createElement('div');\n",
              "          docLink.innerHTML = docLinkHtml;\n",
              "          element.appendChild(docLink);\n",
              "        }\n",
              "      </script>\n",
              "    </div>\n",
              "  </div>\n",
              "  "
            ]
          },
          "metadata": {},
          "execution_count": 21
        }
      ],
      "source": [
        "#displaying the positive labelled dataset\n",
        "all_dataset.head(3)"
      ]
    },
    {
      "cell_type": "code",
      "execution_count": 22,
      "metadata": {
        "id": "7lRO0FjcIOH6"
      },
      "outputs": [],
      "source": [
        "#function to extract the negative samples using tags\n",
        "def extract_negative_samples(question,tags):\n",
        "  stop=False\n",
        "  while (not stop):\n",
        "    sample_row= all_dataset.sample()\n",
        "    sample_tags=sample_row.tags.values[0]\n",
        "    inter_tags=set(tags[0]).intersection(set(sample_tags))\n",
        "    if len(inter_tags)==0:\n",
        "      stop=True\n",
        "  return sample_row\n",
        "\n",
        "\n",
        "\n"
      ]
    },
    {
      "cell_type": "code",
      "execution_count": 23,
      "metadata": {
        "colab": {
          "base_uri": "https://localhost:8080/",
          "height": 49,
          "referenced_widgets": [
            "803641de3adb4095b38cad758e93b8e5",
            "2c6bc0bb72fa4b6085c21fe599a57fb4",
            "bad16e8f756e440cbca442761e599d9e",
            "6ae8111b74a04943b8c73498c5659a15",
            "8c45a82ba9bc4ac3a19a600a0a58d03c",
            "b656d0fb2b9d48c0942f8ac12a352cdc",
            "8c3d6b95fb364579b3c556bd83fdecc1",
            "de758f207a6c453d8f26b18b8e2814b2",
            "092cf50cf3764f06bf1f6f7b3d2b79d3",
            "39232bd8c84d42e69bf6459a38c983d8",
            "98b204f711f4455baee39d71278bc190"
          ]
        },
        "id": "P22nv4VOGECJ",
        "outputId": "338043f9-af8d-4497-c353-d18236fed069"
      },
      "outputs": [
        {
          "output_type": "display_data",
          "data": {
            "text/plain": [
              "  0%|          | 0/29752 [00:00<?, ?it/s]"
            ],
            "application/vnd.jupyter.widget-view+json": {
              "version_major": 2,
              "version_minor": 0,
              "model_id": "803641de3adb4095b38cad758e93b8e5"
            }
          },
          "metadata": {}
        }
      ],
      "source": [
        "#preparing the negative labelled dataset\n",
        "from tqdm.notebook import tqdm\n",
        "tqdm.pandas()\n",
        "negative_labels=all_dataset.progress_apply(lambda x: pd.Series([x.short_question,extract_negative_samples(x.short_question,x.tags).short_answer.values[0],x.tags]),axis=1)\n",
        "negative_labels['label']=-1.0\n",
        "negative_labels.columns=['short_question','short_answer','tags','label']"
      ]
    },
    {
      "cell_type": "code",
      "execution_count": 24,
      "metadata": {
        "colab": {
          "base_uri": "https://localhost:8080/",
          "height": 728
        },
        "id": "cntBYGq9_6M4",
        "outputId": "fdc97b6f-4ec4-4583-991f-63962f478b23"
      },
      "outputs": [
        {
          "output_type": "execute_result",
          "data": {
            "text/plain": [
              "                                          short_question  \\\n",
              "0                              how do i stop smoking now   \n",
              "1      i had a tubaligation 4 years ago and also have...   \n",
              "2      could extra caffeine consumption be a cause of...   \n",
              "3      hello  i am a 24 year old female 54 & 115 lb &...   \n",
              "4      i was wanting to know if you could tell me if ...   \n",
              "...                                                  ...   \n",
              "29747  how can accidental of acetaminophen overdose b...   \n",
              "29748   what should i do if i take an overdose of maxalt   \n",
              "29749      what do i do in case of an overdose of relpax   \n",
              "29750  is overdose with acetaminophen usually acciden...   \n",
              "29751  how does an overdose of acetaminophen cause li...   \n",
              "\n",
              "                                            short_answer  \\\n",
              "0      hi prednisolone usually doesnt affect any anti...   \n",
              "1      hi is what you describe a lump mass has it dep...   \n",
              "2      ptsd is an example of the overstimulated fight...   \n",
              "3      in my opinion you do not have malabsorbtion bu...   \n",
              "4      no adderall will not transmit a detectable lev...   \n",
              "...                                                  ...   \n",
              "29747  yes if their doctor approves in obese kids it ...   \n",
              "29748  most helpful answer heating formula in the mic...   \n",
              "29749  hi breathing difficulty is due to cyst as well...   \n",
              "29750  hi you mean you lasted that long my wife had s...   \n",
              "29751  the first step in doing kegel exercises is to ...   \n",
              "\n",
              "                                                    tags  label  \n",
              "0                              [addiction, stop smoking]   -1.0  \n",
              "1                       [pregnancy, diet, endometriosis]   -1.0  \n",
              "2                       [breast cancer, cancer, breasts]   -1.0  \n",
              "3         [hair loss, diet, acne, ovulation and ovaries]   -1.0  \n",
              "4      [am i pregnant, pregnant, urine pregnancy test...   -1.0  \n",
              "...                                                  ...    ...  \n",
              "29747                     [drug overdose, acetaminophen]   -1.0  \n",
              "29748                                    [drug overdose]   -1.0  \n",
              "29749                                    [drug overdose]   -1.0  \n",
              "29750                     [drug overdose, acetaminophen]   -1.0  \n",
              "29751      [drug overdose, injury, liver, acetaminophen]   -1.0  \n",
              "\n",
              "[29752 rows x 4 columns]"
            ],
            "text/html": [
              "\n",
              "  <div id=\"df-6979ec68-c206-4804-a9d5-99e8f076172f\">\n",
              "    <div class=\"colab-df-container\">\n",
              "      <div>\n",
              "<style scoped>\n",
              "    .dataframe tbody tr th:only-of-type {\n",
              "        vertical-align: middle;\n",
              "    }\n",
              "\n",
              "    .dataframe tbody tr th {\n",
              "        vertical-align: top;\n",
              "    }\n",
              "\n",
              "    .dataframe thead th {\n",
              "        text-align: right;\n",
              "    }\n",
              "</style>\n",
              "<table border=\"1\" class=\"dataframe\">\n",
              "  <thead>\n",
              "    <tr style=\"text-align: right;\">\n",
              "      <th></th>\n",
              "      <th>short_question</th>\n",
              "      <th>short_answer</th>\n",
              "      <th>tags</th>\n",
              "      <th>label</th>\n",
              "    </tr>\n",
              "  </thead>\n",
              "  <tbody>\n",
              "    <tr>\n",
              "      <th>0</th>\n",
              "      <td>how do i stop smoking now</td>\n",
              "      <td>hi prednisolone usually doesnt affect any anti...</td>\n",
              "      <td>[addiction, stop smoking]</td>\n",
              "      <td>-1.0</td>\n",
              "    </tr>\n",
              "    <tr>\n",
              "      <th>1</th>\n",
              "      <td>i had a tubaligation 4 years ago and also have...</td>\n",
              "      <td>hi is what you describe a lump mass has it dep...</td>\n",
              "      <td>[pregnancy, diet, endometriosis]</td>\n",
              "      <td>-1.0</td>\n",
              "    </tr>\n",
              "    <tr>\n",
              "      <th>2</th>\n",
              "      <td>could extra caffeine consumption be a cause of...</td>\n",
              "      <td>ptsd is an example of the overstimulated fight...</td>\n",
              "      <td>[breast cancer, cancer, breasts]</td>\n",
              "      <td>-1.0</td>\n",
              "    </tr>\n",
              "    <tr>\n",
              "      <th>3</th>\n",
              "      <td>hello  i am a 24 year old female 54 &amp; 115 lb &amp;...</td>\n",
              "      <td>in my opinion you do not have malabsorbtion bu...</td>\n",
              "      <td>[hair loss, diet, acne, ovulation and ovaries]</td>\n",
              "      <td>-1.0</td>\n",
              "    </tr>\n",
              "    <tr>\n",
              "      <th>4</th>\n",
              "      <td>i was wanting to know if you could tell me if ...</td>\n",
              "      <td>no adderall will not transmit a detectable lev...</td>\n",
              "      <td>[am i pregnant, pregnant, urine pregnancy test...</td>\n",
              "      <td>-1.0</td>\n",
              "    </tr>\n",
              "    <tr>\n",
              "      <th>...</th>\n",
              "      <td>...</td>\n",
              "      <td>...</td>\n",
              "      <td>...</td>\n",
              "      <td>...</td>\n",
              "    </tr>\n",
              "    <tr>\n",
              "      <th>29747</th>\n",
              "      <td>how can accidental of acetaminophen overdose b...</td>\n",
              "      <td>yes if their doctor approves in obese kids it ...</td>\n",
              "      <td>[drug overdose, acetaminophen]</td>\n",
              "      <td>-1.0</td>\n",
              "    </tr>\n",
              "    <tr>\n",
              "      <th>29748</th>\n",
              "      <td>what should i do if i take an overdose of maxalt</td>\n",
              "      <td>most helpful answer heating formula in the mic...</td>\n",
              "      <td>[drug overdose]</td>\n",
              "      <td>-1.0</td>\n",
              "    </tr>\n",
              "    <tr>\n",
              "      <th>29749</th>\n",
              "      <td>what do i do in case of an overdose of relpax</td>\n",
              "      <td>hi breathing difficulty is due to cyst as well...</td>\n",
              "      <td>[drug overdose]</td>\n",
              "      <td>-1.0</td>\n",
              "    </tr>\n",
              "    <tr>\n",
              "      <th>29750</th>\n",
              "      <td>is overdose with acetaminophen usually acciden...</td>\n",
              "      <td>hi you mean you lasted that long my wife had s...</td>\n",
              "      <td>[drug overdose, acetaminophen]</td>\n",
              "      <td>-1.0</td>\n",
              "    </tr>\n",
              "    <tr>\n",
              "      <th>29751</th>\n",
              "      <td>how does an overdose of acetaminophen cause li...</td>\n",
              "      <td>the first step in doing kegel exercises is to ...</td>\n",
              "      <td>[drug overdose, injury, liver, acetaminophen]</td>\n",
              "      <td>-1.0</td>\n",
              "    </tr>\n",
              "  </tbody>\n",
              "</table>\n",
              "<p>29752 rows × 4 columns</p>\n",
              "</div>\n",
              "      <button class=\"colab-df-convert\" onclick=\"convertToInteractive('df-6979ec68-c206-4804-a9d5-99e8f076172f')\"\n",
              "              title=\"Convert this dataframe to an interactive table.\"\n",
              "              style=\"display:none;\">\n",
              "        \n",
              "  <svg xmlns=\"http://www.w3.org/2000/svg\" height=\"24px\"viewBox=\"0 0 24 24\"\n",
              "       width=\"24px\">\n",
              "    <path d=\"M0 0h24v24H0V0z\" fill=\"none\"/>\n",
              "    <path d=\"M18.56 5.44l.94 2.06.94-2.06 2.06-.94-2.06-.94-.94-2.06-.94 2.06-2.06.94zm-11 1L8.5 8.5l.94-2.06 2.06-.94-2.06-.94L8.5 2.5l-.94 2.06-2.06.94zm10 10l.94 2.06.94-2.06 2.06-.94-2.06-.94-.94-2.06-.94 2.06-2.06.94z\"/><path d=\"M17.41 7.96l-1.37-1.37c-.4-.4-.92-.59-1.43-.59-.52 0-1.04.2-1.43.59L10.3 9.45l-7.72 7.72c-.78.78-.78 2.05 0 2.83L4 21.41c.39.39.9.59 1.41.59.51 0 1.02-.2 1.41-.59l7.78-7.78 2.81-2.81c.8-.78.8-2.07 0-2.86zM5.41 20L4 18.59l7.72-7.72 1.47 1.35L5.41 20z\"/>\n",
              "  </svg>\n",
              "      </button>\n",
              "      \n",
              "  <style>\n",
              "    .colab-df-container {\n",
              "      display:flex;\n",
              "      flex-wrap:wrap;\n",
              "      gap: 12px;\n",
              "    }\n",
              "\n",
              "    .colab-df-convert {\n",
              "      background-color: #E8F0FE;\n",
              "      border: none;\n",
              "      border-radius: 50%;\n",
              "      cursor: pointer;\n",
              "      display: none;\n",
              "      fill: #1967D2;\n",
              "      height: 32px;\n",
              "      padding: 0 0 0 0;\n",
              "      width: 32px;\n",
              "    }\n",
              "\n",
              "    .colab-df-convert:hover {\n",
              "      background-color: #E2EBFA;\n",
              "      box-shadow: 0px 1px 2px rgba(60, 64, 67, 0.3), 0px 1px 3px 1px rgba(60, 64, 67, 0.15);\n",
              "      fill: #174EA6;\n",
              "    }\n",
              "\n",
              "    [theme=dark] .colab-df-convert {\n",
              "      background-color: #3B4455;\n",
              "      fill: #D2E3FC;\n",
              "    }\n",
              "\n",
              "    [theme=dark] .colab-df-convert:hover {\n",
              "      background-color: #434B5C;\n",
              "      box-shadow: 0px 1px 3px 1px rgba(0, 0, 0, 0.15);\n",
              "      filter: drop-shadow(0px 1px 2px rgba(0, 0, 0, 0.3));\n",
              "      fill: #FFFFFF;\n",
              "    }\n",
              "  </style>\n",
              "\n",
              "      <script>\n",
              "        const buttonEl =\n",
              "          document.querySelector('#df-6979ec68-c206-4804-a9d5-99e8f076172f button.colab-df-convert');\n",
              "        buttonEl.style.display =\n",
              "          google.colab.kernel.accessAllowed ? 'block' : 'none';\n",
              "\n",
              "        async function convertToInteractive(key) {\n",
              "          const element = document.querySelector('#df-6979ec68-c206-4804-a9d5-99e8f076172f');\n",
              "          const dataTable =\n",
              "            await google.colab.kernel.invokeFunction('convertToInteractive',\n",
              "                                                     [key], {});\n",
              "          if (!dataTable) return;\n",
              "\n",
              "          const docLinkHtml = 'Like what you see? Visit the ' +\n",
              "            '<a target=\"_blank\" href=https://colab.research.google.com/notebooks/data_table.ipynb>data table notebook</a>'\n",
              "            + ' to learn more about interactive tables.';\n",
              "          element.innerHTML = '';\n",
              "          dataTable['output_type'] = 'display_data';\n",
              "          await google.colab.output.renderOutput(dataTable, element);\n",
              "          const docLink = document.createElement('div');\n",
              "          docLink.innerHTML = docLinkHtml;\n",
              "          element.appendChild(docLink);\n",
              "        }\n",
              "      </script>\n",
              "    </div>\n",
              "  </div>\n",
              "  "
            ]
          },
          "metadata": {},
          "execution_count": 24
        }
      ],
      "source": [
        "#displaying the negative labelled dataset\n",
        "negative_labels"
      ]
    },
    {
      "cell_type": "code",
      "execution_count": 25,
      "metadata": {
        "colab": {
          "base_uri": "https://localhost:8080/"
        },
        "id": "p2vtcyS8Hxg7",
        "outputId": "e4b370f1-1dfe-4db0-a8db-3ac8eb1801e4"
      },
      "outputs": [
        {
          "output_type": "execute_result",
          "data": {
            "text/plain": [
              "(59504, 4)"
            ]
          },
          "metadata": {},
          "execution_count": 25
        }
      ],
      "source": [
        "#concatenating the positive and negative labelled dataset to get the final labelled dataset.\n",
        "all_data_with_labels=pd.concat([all_dataset,negative_labels],axis=0)\n",
        "all_data_with_labels.shape"
      ]
    },
    {
      "cell_type": "code",
      "execution_count": 26,
      "metadata": {
        "id": "8x4Wp5-soyvT"
      },
      "outputs": [],
      "source": [
        "#splitting the data into train and validation\n",
        "from sklearn.model_selection import train_test_split\n",
        "train, validation = train_test_split(all_data_with_labels, test_size=0.2,random_state=42,shuffle=True,stratify=all_data_with_labels.label)"
      ]
    },
    {
      "cell_type": "code",
      "execution_count": 27,
      "metadata": {
        "id": "plM6NT4YjOGB"
      },
      "outputs": [],
      "source": [
        "#saving train and validation data to disk\n",
        "train.to_csv('/content/drive/MyDrive/data/train_data_chatbot.csv',index=False)\n",
        "validation.to_csv('/content/drive/MyDrive/data/validation_data_chatbot.csv',index=False)"
      ]
    },
    {
      "cell_type": "code",
      "execution_count": 4,
      "metadata": {
        "colab": {
          "base_uri": "https://localhost:8080/"
        },
        "id": "QGfmyrjOa_un",
        "outputId": "bfbd5271-03da-41eb-956b-f47d6e1921ca"
      },
      "outputs": [
        {
          "output_type": "stream",
          "name": "stdout",
          "text": [
            "Mounted at /content/drive\n"
          ]
        }
      ],
      "source": [
        "from google.colab import drive\n",
        "drive.mount('/content/drive')"
      ]
    },
    {
      "cell_type": "code",
      "execution_count": 40,
      "metadata": {
        "colab": {
          "base_uri": "https://localhost:8080/"
        },
        "id": "fzPQqs07bKvr",
        "outputId": "6da6a35d-a3cd-43f7-9cf8-e880d9641fad"
      },
      "outputs": [
        {
          "output_type": "stream",
          "name": "stdout",
          "text": [
            "/content/drive/MyDrive/data\n"
          ]
        }
      ],
      "source": [
        "cd '/content/drive/MyDrive/data/'"
      ]
    },
    {
      "cell_type": "code",
      "execution_count": 28,
      "metadata": {
        "id": "yIJrhKcSjita"
      },
      "outputs": [],
      "source": [
        "#loading train and validation data from disk\n",
        "import pandas as pd\n",
        "train=pd.read_csv('/content/drive/MyDrive/data/train_data_chatbot.csv')\n",
        "validation=pd.read_csv('/content/drive/MyDrive/data/validation_data_chatbot.csv')"
      ]
    },
    {
      "cell_type": "code",
      "execution_count": 29,
      "metadata": {
        "colab": {
          "base_uri": "https://localhost:8080/"
        },
        "id": "b-HvQhGsq2B3",
        "outputId": "88544b96-1cfd-4bb1-ea02-b8584801f6ce"
      },
      "outputs": [
        {
          "output_type": "execute_result",
          "data": {
            "text/plain": [
              " 1.0    23802\n",
              "-1.0    23801\n",
              "Name: label, dtype: int64"
            ]
          },
          "metadata": {},
          "execution_count": 29
        }
      ],
      "source": [
        "#displaying the train label counts\n",
        "train.label.value_counts()"
      ]
    },
    {
      "cell_type": "code",
      "execution_count": 30,
      "metadata": {
        "colab": {
          "base_uri": "https://localhost:8080/"
        },
        "id": "b8JPBVJRq5yP",
        "outputId": "ce373afa-2c41-4077-c5a8-ab015cb03cab"
      },
      "outputs": [
        {
          "output_type": "execute_result",
          "data": {
            "text/plain": [
              "-1.0    5951\n",
              " 1.0    5950\n",
              "Name: label, dtype: int64"
            ]
          },
          "metadata": {},
          "execution_count": 30
        }
      ],
      "source": [
        "#displaying the validation label counts\n",
        "validation.label.value_counts()"
      ]
    },
    {
      "cell_type": "code",
      "execution_count": 31,
      "metadata": {
        "colab": {
          "base_uri": "https://localhost:8080/",
          "height": 337
        },
        "id": "m8nA3arJrEL0",
        "outputId": "e6bd42b9-e027-43ab-c70c-e55ae60300b6"
      },
      "outputs": [
        {
          "output_type": "execute_result",
          "data": {
            "text/plain": [
              "                                      short_question  \\\n",
              "0  can an antibiotic through an iv give you a ras...   \n",
              "1  can you test positive from having the hep b va...   \n",
              "2  what are the dietary restrictions for celiac d...   \n",
              "3  can i transmit genital warts seventeen years a...   \n",
              "4                          is all vitamin d the same   \n",
              "\n",
              "                                        short_answer                   tags  \\\n",
              "0  yes it can even after you have finished the pr...  ['rash' 'antibiotic']   \n",
              "1  test positive for what if you had a hep b vacc...        ['hepatitis b']   \n",
              "2  omitting gluten from the diet is the key to co...     ['celiac disease']   \n",
              "3  hi just where did you get this idea from lets ...               ['wart']   \n",
              "4  hi hiv cancer are rare possibilities and u sho...          ['vitamin d']   \n",
              "\n",
              "   label  \n",
              "0    1.0  \n",
              "1    1.0  \n",
              "2    1.0  \n",
              "3   -1.0  \n",
              "4   -1.0  "
            ],
            "text/html": [
              "\n",
              "  <div id=\"df-cf550241-fdca-4f20-a7ed-e87ae7e3273d\">\n",
              "    <div class=\"colab-df-container\">\n",
              "      <div>\n",
              "<style scoped>\n",
              "    .dataframe tbody tr th:only-of-type {\n",
              "        vertical-align: middle;\n",
              "    }\n",
              "\n",
              "    .dataframe tbody tr th {\n",
              "        vertical-align: top;\n",
              "    }\n",
              "\n",
              "    .dataframe thead th {\n",
              "        text-align: right;\n",
              "    }\n",
              "</style>\n",
              "<table border=\"1\" class=\"dataframe\">\n",
              "  <thead>\n",
              "    <tr style=\"text-align: right;\">\n",
              "      <th></th>\n",
              "      <th>short_question</th>\n",
              "      <th>short_answer</th>\n",
              "      <th>tags</th>\n",
              "      <th>label</th>\n",
              "    </tr>\n",
              "  </thead>\n",
              "  <tbody>\n",
              "    <tr>\n",
              "      <th>0</th>\n",
              "      <td>can an antibiotic through an iv give you a ras...</td>\n",
              "      <td>yes it can even after you have finished the pr...</td>\n",
              "      <td>['rash' 'antibiotic']</td>\n",
              "      <td>1.0</td>\n",
              "    </tr>\n",
              "    <tr>\n",
              "      <th>1</th>\n",
              "      <td>can you test positive from having the hep b va...</td>\n",
              "      <td>test positive for what if you had a hep b vacc...</td>\n",
              "      <td>['hepatitis b']</td>\n",
              "      <td>1.0</td>\n",
              "    </tr>\n",
              "    <tr>\n",
              "      <th>2</th>\n",
              "      <td>what are the dietary restrictions for celiac d...</td>\n",
              "      <td>omitting gluten from the diet is the key to co...</td>\n",
              "      <td>['celiac disease']</td>\n",
              "      <td>1.0</td>\n",
              "    </tr>\n",
              "    <tr>\n",
              "      <th>3</th>\n",
              "      <td>can i transmit genital warts seventeen years a...</td>\n",
              "      <td>hi just where did you get this idea from lets ...</td>\n",
              "      <td>['wart']</td>\n",
              "      <td>-1.0</td>\n",
              "    </tr>\n",
              "    <tr>\n",
              "      <th>4</th>\n",
              "      <td>is all vitamin d the same</td>\n",
              "      <td>hi hiv cancer are rare possibilities and u sho...</td>\n",
              "      <td>['vitamin d']</td>\n",
              "      <td>-1.0</td>\n",
              "    </tr>\n",
              "  </tbody>\n",
              "</table>\n",
              "</div>\n",
              "      <button class=\"colab-df-convert\" onclick=\"convertToInteractive('df-cf550241-fdca-4f20-a7ed-e87ae7e3273d')\"\n",
              "              title=\"Convert this dataframe to an interactive table.\"\n",
              "              style=\"display:none;\">\n",
              "        \n",
              "  <svg xmlns=\"http://www.w3.org/2000/svg\" height=\"24px\"viewBox=\"0 0 24 24\"\n",
              "       width=\"24px\">\n",
              "    <path d=\"M0 0h24v24H0V0z\" fill=\"none\"/>\n",
              "    <path d=\"M18.56 5.44l.94 2.06.94-2.06 2.06-.94-2.06-.94-.94-2.06-.94 2.06-2.06.94zm-11 1L8.5 8.5l.94-2.06 2.06-.94-2.06-.94L8.5 2.5l-.94 2.06-2.06.94zm10 10l.94 2.06.94-2.06 2.06-.94-2.06-.94-.94-2.06-.94 2.06-2.06.94z\"/><path d=\"M17.41 7.96l-1.37-1.37c-.4-.4-.92-.59-1.43-.59-.52 0-1.04.2-1.43.59L10.3 9.45l-7.72 7.72c-.78.78-.78 2.05 0 2.83L4 21.41c.39.39.9.59 1.41.59.51 0 1.02-.2 1.41-.59l7.78-7.78 2.81-2.81c.8-.78.8-2.07 0-2.86zM5.41 20L4 18.59l7.72-7.72 1.47 1.35L5.41 20z\"/>\n",
              "  </svg>\n",
              "      </button>\n",
              "      \n",
              "  <style>\n",
              "    .colab-df-container {\n",
              "      display:flex;\n",
              "      flex-wrap:wrap;\n",
              "      gap: 12px;\n",
              "    }\n",
              "\n",
              "    .colab-df-convert {\n",
              "      background-color: #E8F0FE;\n",
              "      border: none;\n",
              "      border-radius: 50%;\n",
              "      cursor: pointer;\n",
              "      display: none;\n",
              "      fill: #1967D2;\n",
              "      height: 32px;\n",
              "      padding: 0 0 0 0;\n",
              "      width: 32px;\n",
              "    }\n",
              "\n",
              "    .colab-df-convert:hover {\n",
              "      background-color: #E2EBFA;\n",
              "      box-shadow: 0px 1px 2px rgba(60, 64, 67, 0.3), 0px 1px 3px 1px rgba(60, 64, 67, 0.15);\n",
              "      fill: #174EA6;\n",
              "    }\n",
              "\n",
              "    [theme=dark] .colab-df-convert {\n",
              "      background-color: #3B4455;\n",
              "      fill: #D2E3FC;\n",
              "    }\n",
              "\n",
              "    [theme=dark] .colab-df-convert:hover {\n",
              "      background-color: #434B5C;\n",
              "      box-shadow: 0px 1px 3px 1px rgba(0, 0, 0, 0.15);\n",
              "      filter: drop-shadow(0px 1px 2px rgba(0, 0, 0, 0.3));\n",
              "      fill: #FFFFFF;\n",
              "    }\n",
              "  </style>\n",
              "\n",
              "      <script>\n",
              "        const buttonEl =\n",
              "          document.querySelector('#df-cf550241-fdca-4f20-a7ed-e87ae7e3273d button.colab-df-convert');\n",
              "        buttonEl.style.display =\n",
              "          google.colab.kernel.accessAllowed ? 'block' : 'none';\n",
              "\n",
              "        async function convertToInteractive(key) {\n",
              "          const element = document.querySelector('#df-cf550241-fdca-4f20-a7ed-e87ae7e3273d');\n",
              "          const dataTable =\n",
              "            await google.colab.kernel.invokeFunction('convertToInteractive',\n",
              "                                                     [key], {});\n",
              "          if (!dataTable) return;\n",
              "\n",
              "          const docLinkHtml = 'Like what you see? Visit the ' +\n",
              "            '<a target=\"_blank\" href=https://colab.research.google.com/notebooks/data_table.ipynb>data table notebook</a>'\n",
              "            + ' to learn more about interactive tables.';\n",
              "          element.innerHTML = '';\n",
              "          dataTable['output_type'] = 'display_data';\n",
              "          await google.colab.output.renderOutput(dataTable, element);\n",
              "          const docLink = document.createElement('div');\n",
              "          docLink.innerHTML = docLinkHtml;\n",
              "          element.appendChild(docLink);\n",
              "        }\n",
              "      </script>\n",
              "    </div>\n",
              "  </div>\n",
              "  "
            ]
          },
          "metadata": {},
          "execution_count": 31
        }
      ],
      "source": [
        "#displaying the train dataset\n",
        "train.head(5)"
      ]
    },
    {
      "cell_type": "code",
      "execution_count": 32,
      "metadata": {
        "id": "n8pEmCpjopbR"
      },
      "outputs": [],
      "source": [
        "#extracting the short answers and questions from the train data\n",
        "questions=train['short_question']\n",
        "answers=train['short_answer']\n",
        "labels=train['label']"
      ]
    },
    {
      "cell_type": "code",
      "execution_count": 33,
      "metadata": {
        "id": "fM_sxjh07Y4m"
      },
      "outputs": [],
      "source": [
        "#https://blog.tensorflow.org/2019/05/transformer-chatbot-tutorial-with-tensorflow-2.html\n",
        "#Setting Max_length to be 512 as discussed above\n",
        "MAX_LENGTH = 512\n",
        "import tensorflow as tf\n",
        "\n",
        "\n",
        "# Tokenize, filter and pad sentences\n",
        "def tokenize_and_filter(questions, answers):\n",
        "  tokenized_questions, tokenized_answers = [], []\n",
        "  \n",
        "  for (question, answer) in zip(questions, answers):\n",
        "    # generating sequences\n",
        "    tokenized_question =  biobert_tokenizer.encode(question)\n",
        "    tokenized_answer = biobert_tokenizer.encode(answer)\n",
        "    tokenized_questions.append(tokenized_question)\n",
        "    tokenized_answers.append(tokenized_answer)\n",
        "\n",
        "  # padding the sequences\n",
        "  tokenized_questions = tf.keras.preprocessing.sequence.pad_sequences(\n",
        "      tokenized_questions, maxlen=MAX_LENGTH, padding='post')\n",
        "  tokenized_answers = tf.keras.preprocessing.sequence.pad_sequences(\n",
        "      tokenized_answers, maxlen=MAX_LENGTH, padding='post')\n",
        "  \n",
        "  return tokenized_questions, tokenized_answers\n",
        "\n",
        "#tokenizing and padding the train questions and answers\n",
        "questions, answers = tokenize_and_filter(questions, answers)"
      ]
    },
    {
      "cell_type": "code",
      "execution_count": 34,
      "metadata": {
        "id": "l96mxgOvsK3d"
      },
      "outputs": [],
      "source": [
        "#preparing the question mask and the answer mask of the train dataset\n",
        "train_question_mask=[[1 if token!=0 else 0 for token in question] for question in questions]\n",
        "train_answer_mask=[[1 if token!=0 else 0 for token in answer] for answer in answers]"
      ]
    },
    {
      "cell_type": "code",
      "execution_count": 35,
      "metadata": {
        "id": "5zNNQ_LCsw7v"
      },
      "outputs": [],
      "source": [
        "#extracting the short answers and questions from the validation data\n",
        "val_questions=validation['short_question']\n",
        "val_answers=validation['short_answer']\n",
        "val_labels=validation['label']"
      ]
    },
    {
      "cell_type": "code",
      "execution_count": 36,
      "metadata": {
        "id": "_PTj_QQZwgrw"
      },
      "outputs": [],
      "source": [
        "#tokenizing and padding the validation question and answers\n",
        "val_questions, val_answers = tokenize_and_filter(val_questions, val_answers)"
      ]
    },
    {
      "cell_type": "code",
      "execution_count": 37,
      "metadata": {
        "id": "9DeYILgntIPx"
      },
      "outputs": [],
      "source": [
        "#preparing the question and answer mask for the validation data\n",
        "val_question_mask=[[1 if token!=0 else 0 for token in question] for question in val_questions]\n",
        "val_answer_mask=[[1 if token!=0 else 0 for token in answer] for answer in val_answers]"
      ]
    },
    {
      "cell_type": "code",
      "execution_count": 38,
      "metadata": {
        "id": "oI0ZlSnAmPMX"
      },
      "outputs": [],
      "source": [
        "#https://blog.tensorflow.org/2019/05/transformer-chatbot-tutorial-with-tensorflow-2.html\n",
        "#preparing the training  dataset\n",
        "import tensorflow as tf\n",
        "BATCH_SIZE = 2\n",
        "BUFFER_SIZE = 20000\n",
        "dataset = tf.data.Dataset.from_tensor_slices((\n",
        "    {\n",
        "        'question': questions,\n",
        "        'answer': answers,\n",
        "        'question_mask':train_question_mask,\n",
        "        'answer_mask':train_answer_mask\n",
        "    },\n",
        "    {\n",
        "        'label': labels.values\n",
        "    },\n",
        "))\n",
        "\n",
        "# dataset = dataset.cache()\n",
        "dataset = dataset.shuffle(BUFFER_SIZE)\n",
        "dataset = dataset.batch(BATCH_SIZE,drop_remainder=True)\n",
        "dataset = dataset.prefetch(tf.data.experimental.AUTOTUNE)"
      ]
    },
    {
      "cell_type": "code",
      "execution_count": 39,
      "metadata": {
        "id": "g0NMmnZZus-J"
      },
      "outputs": [],
      "source": [
        "#https://blog.tensorflow.org/2019/05/transformer-chatbot-tutorial-with-tensorflow-2.html\n",
        "#preparing the validation dataset\n",
        "import tensorflow as tf\n",
        "BATCH_SIZE = 2\n",
        "BUFFER_SIZE = 20000\n",
        "val_dataset = tf.data.Dataset.from_tensor_slices((\n",
        "    {\n",
        "        'question': val_questions,\n",
        "        'answer': val_answers,\n",
        "        'question_mask':val_question_mask,\n",
        "        'answer_mask':val_answer_mask\n",
        "    },\n",
        "    {\n",
        "        'label': val_labels.values\n",
        "    },\n",
        "))\n",
        "\n",
        "val_dataset = val_dataset.cache()\n",
        "val_dataset = val_dataset.shuffle(BUFFER_SIZE)\n",
        "val_dataset = val_dataset.batch(BATCH_SIZE,drop_remainder=True)\n",
        "val_dataset = val_dataset.prefetch(tf.data.experimental.AUTOTUNE)"
      ]
    },
    {
      "cell_type": "code",
      "execution_count": 41,
      "metadata": {
        "id": "qCYWGqGdIb0z"
      },
      "outputs": [],
      "source": [
        "#creating the ffn layer \n",
        "#https://github.com/ash3n/DocProduct/blob/master/docproduct/models.py\n",
        "import tensorflow as tf\n",
        "from tensorflow.keras import Sequential\n",
        "from tensorflow.keras.layers import Input,Dense\n",
        "from tensorflow.keras.layers import Flatten\n",
        "from tensorflow.keras.layers import Embedding\n",
        "from tensorflow.keras.layers import Concatenate,Conv1D,MaxPool1D,Dropout\n",
        "class FFN(tf.keras.layers.Layer):\n",
        "    def __init__(\n",
        "            self,\n",
        "            name='FFN',\n",
        "            **kwargs):\n",
        "        \"\"\"Simple Dense wrapped with various layers\n",
        "        \"\"\"\n",
        "\n",
        "        super(FFN, self).__init__(name=name, **kwargs)\n",
        "        self.dropout = 0.2\n",
        "        self.ffn_layer = tf.keras.layers.Dense(\n",
        "            units=768,\n",
        "            activation='relu',\n",
        "            kernel_initializer=tf.keras.initializers.glorot_normal(seed=32),name='FC1')\n",
        "        \n",
        "\n",
        "    def call(self, inputs):\n",
        "        ffn_embedding = self.ffn_layer(inputs)\n",
        "        ffn_embedding = tf.keras.layers.Dropout(\n",
        "            self.dropout)(ffn_embedding)\n",
        "        ffn_embedding += inputs\n",
        "        return ffn_embedding"
      ]
    },
    {
      "cell_type": "code",
      "execution_count": 42,
      "metadata": {
        "colab": {
          "base_uri": "https://localhost:8080/"
        },
        "id": "caTvGEWyGM0m",
        "outputId": "2afd7aaf-dfef-47e4-f401-865421774afe"
      },
      "outputs": [
        {
          "output_type": "stream",
          "name": "stdout",
          "text": [
            "Model: \"tf_bert_model\"\n",
            "_________________________________________________________________\n",
            " Layer (type)                Output Shape              Param #   \n",
            "=================================================================\n",
            " bert (TFBertMainLayer)      multiple                  108310272 \n",
            "                                                                 \n",
            "=================================================================\n",
            "Total params: 108,310,272\n",
            "Trainable params: 108,310,272\n",
            "Non-trainable params: 0\n",
            "_________________________________________________________________\n"
          ]
        }
      ],
      "source": [
        "#displaying the biobert model summary\n",
        "biobert_model.summary()"
      ]
    },
    {
      "cell_type": "code",
      "execution_count": 43,
      "metadata": {
        "id": "JeKjj1Ak2u1U"
      },
      "outputs": [],
      "source": [
        "#creating the medicalbert model\n",
        "#https://github.com/ash3n/DocProduct/blob/master/docproduct/models.py\n",
        "class MedicalQAModelwithBert(tf.keras.Model):\n",
        "    def __init__(\n",
        "            self,\n",
        "            trainable=False,\n",
        "            name=''):\n",
        "        super(MedicalQAModelwithBert, self).__init__(name=name)\n",
        "\n",
        "        self.q_ffn_layer = FFN(name='q_ffn')\n",
        "        self.a_ffn_layer = FFN(name='a_ffn')\n",
        "        self.biobert_model=biobert_model\n",
        "        self.biobert_model.trainable=trainable\n",
        "        self.cos=tf.keras.layers.Dot(axes=1,normalize=True)\n",
        "\n",
        "    def call(self, inputs):\n",
        "      question_embeddings=self.biobert_model(input_ids=inputs['question'],attention_mask=inputs['question_mask']).pooler_output\n",
        "      answer_embeddings=self.biobert_model(input_ids=inputs['answer'],attention_mask=inputs['answer_mask']).pooler_output\n",
        "      q_ffnn=self.q_ffn_layer(question_embeddings)\n",
        "      a_ffnn=self.a_ffn_layer(answer_embeddings)\n",
        "      output=self.cos([q_ffnn,a_ffnn])\n",
        "      return {\"label\":output}"
      ]
    },
    {
      "cell_type": "code",
      "execution_count": 44,
      "metadata": {
        "id": "_CNcV-orOJi9"
      },
      "outputs": [],
      "source": [
        "#defining custom callback\n",
        "class custom_callback(tf.keras.callbacks.Callback):\n",
        "  def on_train_begin(self, logs={}):\n",
        "        ## on begin of training, we are creating a instance varible called history\n",
        "        ## it is a dict with keys [loss, acc, val_loss, val_acc]\n",
        "        self.history={'acc': []}\n",
        "\n",
        "  def on_epoch_end(self, epoch, logs={}):\n",
        "        self.history['acc'].append(logs.get('custom_metric_acc'))\n",
        "  \n",
        "\n",
        "\n",
        "        #saving the model if validation accuracy increased from previous epoch\n",
        "        if  (epoch==0) or (logs.get('custom_metric_acc')>self.history['acc'][epoch-1]):\n",
        "          self.model.save_weights('medical_bert_re'+str(epoch)+'/medic'+str(epoch)+'_'+str(logs.get('custom_metric_acc')))\n",
        "\n",
        "\n",
        "        is_nan_values=[]\n",
        "        for i in self.model.get_weights():\n",
        "          is_nan_values.append(np.isnan(i).any())\n",
        "\n",
        "        #stopping the training if weights is nan or loss is nan or inf\n",
        "        if (np.array(is_nan_values).any() or (tf.math.is_nan(logs.get('loss'))) or (np.isinf(logs.get('loss')))):\n",
        "          self.model.stop_training = True\n",
        "\n",
        "        \n",
        "        \n",
        "      \n",
        "        \n",
        " "
      ]
    },
    {
      "cell_type": "code",
      "execution_count": 45,
      "metadata": {
        "id": "YUcl_A1r9p8N"
      },
      "outputs": [],
      "source": [
        "#defining the custom metric\n",
        "batch_size=2\n",
        "def custom_metric_acc(y_true,y_pred):\n",
        "  y_true=tf.reshape(y_true,[tf.constant(batch_size)])\n",
        "  y_pred=tf.reshape(y_pred,[tf.constant(batch_size)])\n",
        "  c=tf.constant(0,dtype='float32')\n",
        "  d=tf.cast(tf.math.greater_equal(y_true,c),dtype='float32')\n",
        "  e=tf.cast(tf.math.greater_equal(y_pred,c),dtype='float32')\n",
        "  f=tf.cast(tf.math.equal(d,e),dtype='float32')\n",
        "  g=tf.reduce_sum(f)\n",
        "  h=tf.cast(tf.shape(f),dtype='float32')\n",
        "  i=g/h\n",
        "  return i"
      ]
    },
    {
      "cell_type": "code",
      "execution_count": null,
      "metadata": {
        "colab": {
          "base_uri": "https://localhost:8080/"
        },
        "id": "DA_Xuyn9lbJ1",
        "outputId": "7a595bac-ff02-45b5-8790-73ebb2846b6c",
        "scrolled": true
      },
      "outputs": [
        {
          "name": "stderr",
          "output_type": "stream",
          "text": [
            "C:\\Users\\Checkout\\anaconda3\\lib\\site-packages\\keras\\optimizer_v2\\adam.py:105: UserWarning: The `lr` argument is deprecated, use `learning_rate` instead.\n",
            "  super(Adam, self).__init__(name, **kwargs)\n"
          ]
        },
        {
          "name": "stdout",
          "output_type": "stream",
          "text": [
            "Epoch 1/5\n",
            "   47/23801 [..............................] - ETA: 181:34:27 - loss: 1.2809 - custom_metric_acc: 0.5106"
          ]
        },
        {
          "ename": "KeyboardInterrupt",
          "evalue": "",
          "output_type": "error",
          "traceback": [
            "\u001b[1;31m---------------------------------------------------------------------------\u001b[0m",
            "\u001b[1;31mKeyboardInterrupt\u001b[0m                         Traceback (most recent call last)",
            "\u001b[1;32m~\\AppData\\Local\\Temp/ipykernel_1308/3993264428.py\u001b[0m in \u001b[0;36m<module>\u001b[1;34m\u001b[0m\n\u001b[0;32m     11\u001b[0m \u001b[0mepochs\u001b[0m \u001b[1;33m=\u001b[0m \u001b[0mnum_epochs\u001b[0m\u001b[1;33m\u001b[0m\u001b[1;33m\u001b[0m\u001b[0m\n\u001b[0;32m     12\u001b[0m \u001b[1;33m\u001b[0m\u001b[0m\n\u001b[1;32m---> 13\u001b[1;33m \u001b[0mmedical_qa_model\u001b[0m\u001b[1;33m.\u001b[0m\u001b[0mfit\u001b[0m\u001b[1;33m(\u001b[0m\u001b[0mdataset\u001b[0m\u001b[1;33m,\u001b[0m\u001b[0mvalidation_data\u001b[0m\u001b[1;33m=\u001b[0m\u001b[0mval_dataset\u001b[0m\u001b[1;33m,\u001b[0m\u001b[0mepochs\u001b[0m\u001b[1;33m=\u001b[0m\u001b[0mepochs\u001b[0m\u001b[1;33m,\u001b[0m\u001b[0mcallbacks\u001b[0m\u001b[1;33m=\u001b[0m\u001b[1;33m[\u001b[0m\u001b[0mcustom_callback\u001b[0m\u001b[1;33m(\u001b[0m\u001b[1;33m)\u001b[0m\u001b[1;33m]\u001b[0m\u001b[1;33m)\u001b[0m\u001b[1;33m\u001b[0m\u001b[1;33m\u001b[0m\u001b[0m\n\u001b[0m\u001b[0;32m     14\u001b[0m \u001b[0mmedical_qa_model\u001b[0m\u001b[1;33m.\u001b[0m\u001b[0msummary\u001b[0m\u001b[1;33m(\u001b[0m\u001b[1;33m)\u001b[0m\u001b[1;33m\u001b[0m\u001b[1;33m\u001b[0m\u001b[0m\n",
            "\u001b[1;32m~\\anaconda3\\lib\\site-packages\\keras\\utils\\traceback_utils.py\u001b[0m in \u001b[0;36merror_handler\u001b[1;34m(*args, **kwargs)\u001b[0m\n\u001b[0;32m     62\u001b[0m     \u001b[0mfiltered_tb\u001b[0m \u001b[1;33m=\u001b[0m \u001b[1;32mNone\u001b[0m\u001b[1;33m\u001b[0m\u001b[1;33m\u001b[0m\u001b[0m\n\u001b[0;32m     63\u001b[0m     \u001b[1;32mtry\u001b[0m\u001b[1;33m:\u001b[0m\u001b[1;33m\u001b[0m\u001b[1;33m\u001b[0m\u001b[0m\n\u001b[1;32m---> 64\u001b[1;33m       \u001b[1;32mreturn\u001b[0m \u001b[0mfn\u001b[0m\u001b[1;33m(\u001b[0m\u001b[1;33m*\u001b[0m\u001b[0margs\u001b[0m\u001b[1;33m,\u001b[0m \u001b[1;33m**\u001b[0m\u001b[0mkwargs\u001b[0m\u001b[1;33m)\u001b[0m\u001b[1;33m\u001b[0m\u001b[1;33m\u001b[0m\u001b[0m\n\u001b[0m\u001b[0;32m     65\u001b[0m     \u001b[1;32mexcept\u001b[0m \u001b[0mException\u001b[0m \u001b[1;32mas\u001b[0m \u001b[0me\u001b[0m\u001b[1;33m:\u001b[0m  \u001b[1;31m# pylint: disable=broad-except\u001b[0m\u001b[1;33m\u001b[0m\u001b[1;33m\u001b[0m\u001b[0m\n\u001b[0;32m     66\u001b[0m       \u001b[0mfiltered_tb\u001b[0m \u001b[1;33m=\u001b[0m \u001b[0m_process_traceback_frames\u001b[0m\u001b[1;33m(\u001b[0m\u001b[0me\u001b[0m\u001b[1;33m.\u001b[0m\u001b[0m__traceback__\u001b[0m\u001b[1;33m)\u001b[0m\u001b[1;33m\u001b[0m\u001b[1;33m\u001b[0m\u001b[0m\n",
            "\u001b[1;32m~\\anaconda3\\lib\\site-packages\\keras\\engine\\training.py\u001b[0m in \u001b[0;36mfit\u001b[1;34m(self, x, y, batch_size, epochs, verbose, callbacks, validation_split, validation_data, shuffle, class_weight, sample_weight, initial_epoch, steps_per_epoch, validation_steps, validation_batch_size, validation_freq, max_queue_size, workers, use_multiprocessing)\u001b[0m\n\u001b[0;32m   1382\u001b[0m                 _r=1):\n\u001b[0;32m   1383\u001b[0m               \u001b[0mcallbacks\u001b[0m\u001b[1;33m.\u001b[0m\u001b[0mon_train_batch_begin\u001b[0m\u001b[1;33m(\u001b[0m\u001b[0mstep\u001b[0m\u001b[1;33m)\u001b[0m\u001b[1;33m\u001b[0m\u001b[1;33m\u001b[0m\u001b[0m\n\u001b[1;32m-> 1384\u001b[1;33m               \u001b[0mtmp_logs\u001b[0m \u001b[1;33m=\u001b[0m \u001b[0mself\u001b[0m\u001b[1;33m.\u001b[0m\u001b[0mtrain_function\u001b[0m\u001b[1;33m(\u001b[0m\u001b[0miterator\u001b[0m\u001b[1;33m)\u001b[0m\u001b[1;33m\u001b[0m\u001b[1;33m\u001b[0m\u001b[0m\n\u001b[0m\u001b[0;32m   1385\u001b[0m               \u001b[1;32mif\u001b[0m \u001b[0mdata_handler\u001b[0m\u001b[1;33m.\u001b[0m\u001b[0mshould_sync\u001b[0m\u001b[1;33m:\u001b[0m\u001b[1;33m\u001b[0m\u001b[1;33m\u001b[0m\u001b[0m\n\u001b[0;32m   1386\u001b[0m                 \u001b[0mcontext\u001b[0m\u001b[1;33m.\u001b[0m\u001b[0masync_wait\u001b[0m\u001b[1;33m(\u001b[0m\u001b[1;33m)\u001b[0m\u001b[1;33m\u001b[0m\u001b[1;33m\u001b[0m\u001b[0m\n",
            "\u001b[1;32m~\\anaconda3\\lib\\site-packages\\tensorflow\\python\\util\\traceback_utils.py\u001b[0m in \u001b[0;36merror_handler\u001b[1;34m(*args, **kwargs)\u001b[0m\n\u001b[0;32m    148\u001b[0m     \u001b[0mfiltered_tb\u001b[0m \u001b[1;33m=\u001b[0m \u001b[1;32mNone\u001b[0m\u001b[1;33m\u001b[0m\u001b[1;33m\u001b[0m\u001b[0m\n\u001b[0;32m    149\u001b[0m     \u001b[1;32mtry\u001b[0m\u001b[1;33m:\u001b[0m\u001b[1;33m\u001b[0m\u001b[1;33m\u001b[0m\u001b[0m\n\u001b[1;32m--> 150\u001b[1;33m       \u001b[1;32mreturn\u001b[0m \u001b[0mfn\u001b[0m\u001b[1;33m(\u001b[0m\u001b[1;33m*\u001b[0m\u001b[0margs\u001b[0m\u001b[1;33m,\u001b[0m \u001b[1;33m**\u001b[0m\u001b[0mkwargs\u001b[0m\u001b[1;33m)\u001b[0m\u001b[1;33m\u001b[0m\u001b[1;33m\u001b[0m\u001b[0m\n\u001b[0m\u001b[0;32m    151\u001b[0m     \u001b[1;32mexcept\u001b[0m \u001b[0mException\u001b[0m \u001b[1;32mas\u001b[0m \u001b[0me\u001b[0m\u001b[1;33m:\u001b[0m\u001b[1;33m\u001b[0m\u001b[1;33m\u001b[0m\u001b[0m\n\u001b[0;32m    152\u001b[0m       \u001b[0mfiltered_tb\u001b[0m \u001b[1;33m=\u001b[0m \u001b[0m_process_traceback_frames\u001b[0m\u001b[1;33m(\u001b[0m\u001b[0me\u001b[0m\u001b[1;33m.\u001b[0m\u001b[0m__traceback__\u001b[0m\u001b[1;33m)\u001b[0m\u001b[1;33m\u001b[0m\u001b[1;33m\u001b[0m\u001b[0m\n",
            "\u001b[1;32m~\\anaconda3\\lib\\site-packages\\tensorflow\\python\\eager\\def_function.py\u001b[0m in \u001b[0;36m__call__\u001b[1;34m(self, *args, **kwds)\u001b[0m\n\u001b[0;32m    913\u001b[0m \u001b[1;33m\u001b[0m\u001b[0m\n\u001b[0;32m    914\u001b[0m       \u001b[1;32mwith\u001b[0m \u001b[0mOptionalXlaContext\u001b[0m\u001b[1;33m(\u001b[0m\u001b[0mself\u001b[0m\u001b[1;33m.\u001b[0m\u001b[0m_jit_compile\u001b[0m\u001b[1;33m)\u001b[0m\u001b[1;33m:\u001b[0m\u001b[1;33m\u001b[0m\u001b[1;33m\u001b[0m\u001b[0m\n\u001b[1;32m--> 915\u001b[1;33m         \u001b[0mresult\u001b[0m \u001b[1;33m=\u001b[0m \u001b[0mself\u001b[0m\u001b[1;33m.\u001b[0m\u001b[0m_call\u001b[0m\u001b[1;33m(\u001b[0m\u001b[1;33m*\u001b[0m\u001b[0margs\u001b[0m\u001b[1;33m,\u001b[0m \u001b[1;33m**\u001b[0m\u001b[0mkwds\u001b[0m\u001b[1;33m)\u001b[0m\u001b[1;33m\u001b[0m\u001b[1;33m\u001b[0m\u001b[0m\n\u001b[0m\u001b[0;32m    916\u001b[0m \u001b[1;33m\u001b[0m\u001b[0m\n\u001b[0;32m    917\u001b[0m       \u001b[0mnew_tracing_count\u001b[0m \u001b[1;33m=\u001b[0m \u001b[0mself\u001b[0m\u001b[1;33m.\u001b[0m\u001b[0mexperimental_get_tracing_count\u001b[0m\u001b[1;33m(\u001b[0m\u001b[1;33m)\u001b[0m\u001b[1;33m\u001b[0m\u001b[1;33m\u001b[0m\u001b[0m\n",
            "\u001b[1;32m~\\anaconda3\\lib\\site-packages\\tensorflow\\python\\eager\\def_function.py\u001b[0m in \u001b[0;36m_call\u001b[1;34m(self, *args, **kwds)\u001b[0m\n\u001b[0;32m    945\u001b[0m       \u001b[1;31m# In this case we have created variables on the first call, so we run the\u001b[0m\u001b[1;33m\u001b[0m\u001b[1;33m\u001b[0m\u001b[0m\n\u001b[0;32m    946\u001b[0m       \u001b[1;31m# defunned version which is guaranteed to never create variables.\u001b[0m\u001b[1;33m\u001b[0m\u001b[1;33m\u001b[0m\u001b[0m\n\u001b[1;32m--> 947\u001b[1;33m       \u001b[1;32mreturn\u001b[0m \u001b[0mself\u001b[0m\u001b[1;33m.\u001b[0m\u001b[0m_stateless_fn\u001b[0m\u001b[1;33m(\u001b[0m\u001b[1;33m*\u001b[0m\u001b[0margs\u001b[0m\u001b[1;33m,\u001b[0m \u001b[1;33m**\u001b[0m\u001b[0mkwds\u001b[0m\u001b[1;33m)\u001b[0m  \u001b[1;31m# pylint: disable=not-callable\u001b[0m\u001b[1;33m\u001b[0m\u001b[1;33m\u001b[0m\u001b[0m\n\u001b[0m\u001b[0;32m    948\u001b[0m     \u001b[1;32melif\u001b[0m \u001b[0mself\u001b[0m\u001b[1;33m.\u001b[0m\u001b[0m_stateful_fn\u001b[0m \u001b[1;32mis\u001b[0m \u001b[1;32mnot\u001b[0m \u001b[1;32mNone\u001b[0m\u001b[1;33m:\u001b[0m\u001b[1;33m\u001b[0m\u001b[1;33m\u001b[0m\u001b[0m\n\u001b[0;32m    949\u001b[0m       \u001b[1;31m# Release the lock early so that multiple threads can perform the call\u001b[0m\u001b[1;33m\u001b[0m\u001b[1;33m\u001b[0m\u001b[0m\n",
            "\u001b[1;32m~\\anaconda3\\lib\\site-packages\\tensorflow\\python\\eager\\function.py\u001b[0m in \u001b[0;36m__call__\u001b[1;34m(self, *args, **kwargs)\u001b[0m\n\u001b[0;32m   2954\u001b[0m       (graph_function,\n\u001b[0;32m   2955\u001b[0m        filtered_flat_args) = self._maybe_define_function(args, kwargs)\n\u001b[1;32m-> 2956\u001b[1;33m     return graph_function._call_flat(\n\u001b[0m\u001b[0;32m   2957\u001b[0m         filtered_flat_args, captured_inputs=graph_function.captured_inputs)  # pylint: disable=protected-access\n\u001b[0;32m   2958\u001b[0m \u001b[1;33m\u001b[0m\u001b[0m\n",
            "\u001b[1;32m~\\anaconda3\\lib\\site-packages\\tensorflow\\python\\eager\\function.py\u001b[0m in \u001b[0;36m_call_flat\u001b[1;34m(self, args, captured_inputs, cancellation_manager)\u001b[0m\n\u001b[0;32m   1851\u001b[0m         and executing_eagerly):\n\u001b[0;32m   1852\u001b[0m       \u001b[1;31m# No tape is watching; skip to running the function.\u001b[0m\u001b[1;33m\u001b[0m\u001b[1;33m\u001b[0m\u001b[0m\n\u001b[1;32m-> 1853\u001b[1;33m       return self._build_call_outputs(self._inference_function.call(\n\u001b[0m\u001b[0;32m   1854\u001b[0m           ctx, args, cancellation_manager=cancellation_manager))\n\u001b[0;32m   1855\u001b[0m     forward_backward = self._select_forward_and_backward_functions(\n",
            "\u001b[1;32m~\\anaconda3\\lib\\site-packages\\tensorflow\\python\\eager\\function.py\u001b[0m in \u001b[0;36mcall\u001b[1;34m(self, ctx, args, cancellation_manager)\u001b[0m\n\u001b[0;32m    497\u001b[0m       \u001b[1;32mwith\u001b[0m \u001b[0m_InterpolateFunctionError\u001b[0m\u001b[1;33m(\u001b[0m\u001b[0mself\u001b[0m\u001b[1;33m)\u001b[0m\u001b[1;33m:\u001b[0m\u001b[1;33m\u001b[0m\u001b[1;33m\u001b[0m\u001b[0m\n\u001b[0;32m    498\u001b[0m         \u001b[1;32mif\u001b[0m \u001b[0mcancellation_manager\u001b[0m \u001b[1;32mis\u001b[0m \u001b[1;32mNone\u001b[0m\u001b[1;33m:\u001b[0m\u001b[1;33m\u001b[0m\u001b[1;33m\u001b[0m\u001b[0m\n\u001b[1;32m--> 499\u001b[1;33m           outputs = execute.execute(\n\u001b[0m\u001b[0;32m    500\u001b[0m               \u001b[0mstr\u001b[0m\u001b[1;33m(\u001b[0m\u001b[0mself\u001b[0m\u001b[1;33m.\u001b[0m\u001b[0msignature\u001b[0m\u001b[1;33m.\u001b[0m\u001b[0mname\u001b[0m\u001b[1;33m)\u001b[0m\u001b[1;33m,\u001b[0m\u001b[1;33m\u001b[0m\u001b[1;33m\u001b[0m\u001b[0m\n\u001b[0;32m    501\u001b[0m               \u001b[0mnum_outputs\u001b[0m\u001b[1;33m=\u001b[0m\u001b[0mself\u001b[0m\u001b[1;33m.\u001b[0m\u001b[0m_num_outputs\u001b[0m\u001b[1;33m,\u001b[0m\u001b[1;33m\u001b[0m\u001b[1;33m\u001b[0m\u001b[0m\n",
            "\u001b[1;32m~\\anaconda3\\lib\\site-packages\\tensorflow\\python\\eager\\execute.py\u001b[0m in \u001b[0;36mquick_execute\u001b[1;34m(op_name, num_outputs, inputs, attrs, ctx, name)\u001b[0m\n\u001b[0;32m     52\u001b[0m   \u001b[1;32mtry\u001b[0m\u001b[1;33m:\u001b[0m\u001b[1;33m\u001b[0m\u001b[1;33m\u001b[0m\u001b[0m\n\u001b[0;32m     53\u001b[0m     \u001b[0mctx\u001b[0m\u001b[1;33m.\u001b[0m\u001b[0mensure_initialized\u001b[0m\u001b[1;33m(\u001b[0m\u001b[1;33m)\u001b[0m\u001b[1;33m\u001b[0m\u001b[1;33m\u001b[0m\u001b[0m\n\u001b[1;32m---> 54\u001b[1;33m     tensors = pywrap_tfe.TFE_Py_Execute(ctx._handle, device_name, op_name,\n\u001b[0m\u001b[0;32m     55\u001b[0m                                         inputs, attrs, num_outputs)\n\u001b[0;32m     56\u001b[0m   \u001b[1;32mexcept\u001b[0m \u001b[0mcore\u001b[0m\u001b[1;33m.\u001b[0m\u001b[0m_NotOkStatusException\u001b[0m \u001b[1;32mas\u001b[0m \u001b[0me\u001b[0m\u001b[1;33m:\u001b[0m\u001b[1;33m\u001b[0m\u001b[1;33m\u001b[0m\u001b[0m\n",
            "\u001b[1;31mKeyboardInterrupt\u001b[0m: "
          ]
        }
      ],
      "source": [
        "#compiling and training the medical qa model\n",
        "import tensorflow.keras.backend as K\n",
        "K.set_floatx('float32')\n",
        "learning_rate=5e-5\n",
        "num_epochs=5\n",
        "optimizer = tf.keras.optimizers.Adam(lr=learning_rate)\n",
        "medical_qa_model=MedicalQAModelwithBert(trainable=True)\n",
        "medical_qa_model.compile(\n",
        "    optimizer=optimizer, loss=tf.keras.losses.mean_squared_error, metrics=[custom_metric_acc])\n",
        "\n",
        "epochs = num_epochs\n",
        "\n",
        "medical_qa_model.fit(dataset,validation_data=val_dataset,epochs=epochs,callbacks=[custom_callback()])\n",
        "medical_qa_model.summary()"
      ]
    },
    {
      "cell_type": "markdown",
      "metadata": {
        "id": "WW2nRcvXdBxX"
      },
      "source": [
        "**Evaluating the model with the best train accuracy**\n",
        "\n",
        "\n"
      ]
    },
    {
      "cell_type": "code",
      "execution_count": null,
      "metadata": {
        "id": "v-YKFustkH4_"
      },
      "outputs": [],
      "source": [
        "import tensorflow.keras.backend as K\n",
        "K.set_floatx('float32')\n",
        "medical_qa_model=MedicalQAModelwithBert(trainable=True)\n",
        "medical_qa_model.load_weights('./medical_bert_re3/medic3_0.9177975654602051')\n",
        "learning_rate=5e-6\n",
        "optimizer = tf.keras.optimizers.Adam(lr=learning_rate)\n",
        "medical_qa_model.compile(\n",
        "    optimizer=optimizer, loss=tf.keras.losses.mean_squared_error, metrics=[custom_metric_acc])\n",
        "\n",
        "# original_labels=[]\n",
        "predicted_labels=[]\n",
        "from tqdm.notebook import tqdm\n",
        "for i in tqdm(range(len(val_questions))):\n",
        "  predicted_labels.append(medical_qa_model.predict({'question':np.array([val_questions[i]]),'question_mask':np.array([val_question_mask[i]]),\n",
        "                             'answer':np.array([val_answers[i]]),'answer_mask':np.array([val_answer_mask[i]])})['label'][0][0])\n"
      ]
    },
    {
      "cell_type": "code",
      "execution_count": null,
      "metadata": {
        "id": "49QC8iuekx7Y"
      },
      "outputs": [],
      "source": [
        "#defining function to return accuracy, correctly predicted positive points and correctly predicted negative points\n",
        "def acc_threshold(predicted_labels,threshold):\n",
        "  correct_pred_pos=[]\n",
        "  correct_pred_neg=[]\n",
        "  for i in range(len(predicted_labels)):\n",
        "    if predicted_labels[i]<threshold and val_labels[i]==-1:\n",
        "      correct_pred_neg.append(predicted_labels[i])\n",
        "    elif predicted_labels[i]>=threshold and val_labels[i]==1:\n",
        "      correct_pred_pos.append(predicted_labels[i])\n",
        "  acc=len(correct_pred_pos+correct_pred_neg)/len(predicted_labels)\n",
        "  print('accuracy for threshold',threshold,'is',acc)\n",
        "  return (acc,correct_pred_pos,correct_pred_neg)\n",
        "\n"
      ]
    },
    {
      "cell_type": "code",
      "execution_count": null,
      "metadata": {
        "id": "kYLCHYb4kIH2"
      },
      "outputs": [],
      "source": [
        "#function to print the best accuracy and the threshold at which it is occuring\n",
        "def best_threshold_acc(predicted_labels):\n",
        "  acc=[]\n",
        "  thresholds=np.array(range(-10,11,1))*0.1\n",
        "  for i in tqdm(range(-10,11,1)):\n",
        "    acc.append(acc_threshold(predicted_labels,i*0.1)[0])\n",
        "  print('best accuracy is',max(acc),'at threshold',thresholds[np.argmax(acc)])"
      ]
    },
    {
      "cell_type": "code",
      "execution_count": null,
      "metadata": {
        "id": "Nkitrg69iDti"
      },
      "outputs": [],
      "source": [
        "#find best threshold and accuracy of the model with best train accuracy on validation data\n",
        "best_threshold_acc(predicted_labels)"
      ]
    },
    {
      "cell_type": "code",
      "execution_count": null,
      "metadata": {
        "id": "sGkNcnlOkIUx"
      },
      "outputs": [],
      "source": [
        "#displaying the pdf of correctly predicted positive and negative points\n",
        "import seaborn as sns\n",
        "_,correct_pred_pos,correct_pred_neg=acc_threshold(predicted_labels,0.2)\n",
        "sns.distplot(correct_pred_pos)\n",
        "sns.distplot(correct_pred_neg)"
      ]
    },
    {
      "cell_type": "markdown",
      "metadata": {
        "id": "msmnYhSYkC2F"
      },
      "source": [
        "**Evaluating the model with best validation accuracy**\n"
      ]
    },
    {
      "cell_type": "code",
      "execution_count": null,
      "metadata": {
        "id": "dNOTW1qCh3mI"
      },
      "outputs": [],
      "source": [
        "#evaluating the model on validation data\n",
        "import warnings\n",
        "warnings.filterwarnings('ignore')\n",
        "import tensorflow.keras.backend as K\n",
        "import tensorflow as tf\n",
        "import numpy as np\n",
        "K.set_floatx('float32')\n",
        "medical_qa_model=MedicalQAModelwithBert(trainable=False)\n",
        "medical_qa_model.load_weights('./medical_bert_re1/medic1_0.8643124103546143')\n",
        "learning_rate=5e-6\n",
        "optimizer = tf.keras.optimizers.Adam(lr=learning_rate)\n",
        "predicted_labels=[]\n",
        "from tqdm.notebook import tqdm\n",
        "for i in tqdm(range(len(val_questions))):\n",
        "  predicted_labels.append(medical_qa_model.predict({'question':np.array([val_questions[i]]),'question_mask':np.array([val_question_mask[i]]),\n",
        "                             'answer':np.array([val_answers[i]]),'answer_mask':np.array([val_answer_mask[i]])})['label'][0][0])\n"
      ]
    },
    {
      "cell_type": "code",
      "execution_count": null,
      "metadata": {
        "id": "LIgqQUAEkSL-"
      },
      "outputs": [],
      "source": [
        "#finding the best accuracy and the corresponding threshold of the model of best validation accuracy\n",
        "best_threshold_acc(predicted_labels)"
      ]
    },
    {
      "cell_type": "code",
      "execution_count": null,
      "metadata": {
        "id": "PZlF3UKNpwWX"
      },
      "outputs": [],
      "source": [
        "train_predicted_labels=[]\n",
        "for i in tqdm(range(len(questions))):\n",
        "  train_predicted_labels.append(medical_qa_model.predict({'question':np.array([questions[i]]),'question_mask':np.array([train_question_mask[i]]),\n",
        "                             'answer':np.array([answers[i]]),'answer_mask':np.array([train_answer_mask[i]])})['label'][0][0])\n"
      ]
    },
    {
      "cell_type": "code",
      "execution_count": null,
      "metadata": {
        "id": "h4fCUI5F7__P"
      },
      "outputs": [],
      "source": [
        "#defining function to return accuracy, correctly predicted positive points and correctly predicted negative points for train data\n",
        "def train_acc_threshold(predicted_labels,threshold):\n",
        "  correct_pred_pos=[]\n",
        "  correct_pred_neg=[]\n",
        "  for i in range(len(predicted_labels)):\n",
        "    if predicted_labels[i]<threshold and labels[i]==-1:\n",
        "      correct_pred_neg.append(predicted_labels[i])\n",
        "    elif predicted_labels[i]>=threshold and labels[i]==1:\n",
        "      correct_pred_pos.append(predicted_labels[i])\n",
        "  acc=len(correct_pred_pos+correct_pred_neg)/len(predicted_labels)\n",
        "  print('accuracy for threshold',threshold,'is',acc)\n",
        "  return (acc,correct_pred_pos,correct_pred_neg)\n",
        "\n"
      ]
    },
    {
      "cell_type": "code",
      "execution_count": null,
      "metadata": {
        "id": "JreAfqxz8XaS"
      },
      "outputs": [],
      "source": [
        "#function to print the best accuracy and the threshold at which it is occuring for train points\n",
        "def train_best_threshold_acc(predicted_labels):\n",
        "  acc=[]\n",
        "  thresholds=np.array(range(-10,11,1))*0.1\n",
        "  for i in tqdm(range(-10,11,1)):\n",
        "    acc.append(train_acc_threshold(predicted_labels,i*0.1)[0])\n",
        "  print('best accuracy is',max(acc),'at threshold',thresholds[np.argmax(acc)])"
      ]
    },
    {
      "cell_type": "code",
      "execution_count": null,
      "metadata": {
        "id": "pVaiokPU8co1"
      },
      "outputs": [],
      "source": [
        "train_best_threshold_acc(train_predicted_labels)"
      ]
    },
    {
      "cell_type": "code",
      "execution_count": null,
      "metadata": {
        "id": "XukcnuAYlSxS"
      },
      "outputs": [],
      "source": [
        "#plotting the pdf of correctly predicted positive and negative points\n",
        "import matplotlib.pyplot as plt\n",
        "import seaborn as sns\n",
        "_,correct_pred_pos,correct_pred_neg=acc_threshold(predicted_labels,0.3)\n",
        "sns.distplot(correct_pred_pos,label='positive')\n",
        "sns.distplot(correct_pred_neg,label='negative')\n",
        "plt.title('Correctly predicted points')\n",
        "plt.legend()\n",
        "plt.show()\n"
      ]
    },
    {
      "cell_type": "code",
      "execution_count": null,
      "metadata": {
        "id": "ryZAn-B7Wuze"
      },
      "outputs": [],
      "source": [
        "#finding incorrectly predicted positive and negative points\n",
        "incorrect_pos=[]\n",
        "incorrect_neg=[]\n",
        "for i in range(len(val_labels)):\n",
        "  if val_labels[i]==1 and predicted_labels[i]<0.3:\n",
        "    incorrect_pos.append(predicted_labels[i])\n",
        "  elif val_labels[i]==-1 and predicted_labels[i]>=0.3:\n",
        "    incorrect_neg.append(predicted_labels[i])"
      ]
    },
    {
      "cell_type": "code",
      "execution_count": null,
      "metadata": {
        "id": "odx1gXJskxr-"
      },
      "outputs": [],
      "source": [
        "#plotting the pdf of model predicted similarities for incorrectly predicted positive and negative points\n",
        "sns.distplot(incorrect_pos,label='positive')\n",
        "sns.distplot(incorrect_neg,label='negative')\n",
        "plt.title('Incorrectly predicted points')\n",
        "plt.legend()\n",
        "plt.show()"
      ]
    },
    {
      "cell_type": "markdown",
      "metadata": {
        "id": "2JJcXVU_okR5"
      },
      "source": [
        "**Observation from Plots**"
      ]
    },
    {
      "cell_type": "markdown",
      "metadata": {
        "id": "VQPLV9aqos25"
      },
      "source": [
        "From the above plots we can observe that most of the correctly classified points are well seperated and  even though accuracy is about 89% on validation data, most of the misclassified points lie within the threshold of 0.3"
      ]
    },
    {
      "cell_type": "markdown",
      "metadata": {
        "id": "uRku9icXpWHN"
      },
      "source": [
        "Since we got the best train and validation accuracy using this model, we will use this model to extract the question and answer embeddings"
      ]
    },
    {
      "cell_type": "markdown",
      "metadata": {
        "id": "OKxnWK3Go-O-"
      },
      "source": [
        "**Embedding extraction using the model**"
      ]
    },
    {
      "cell_type": "code",
      "execution_count": null,
      "metadata": {
        "id": "qqUvzH-bzqlT"
      },
      "outputs": [],
      "source": [
        "#loading the trained medical bert model from above checkpoint\n",
        "medical_qa_model=MedicalQAModelwithBert(trainable=True)\n",
        "medical_qa_model.load_weights('./medical_bert_re1/medic1_0.8643124103546143')"
      ]
    },
    {
      "cell_type": "code",
      "execution_count": null,
      "metadata": {
        "id": "nIYYGdjw0NqD"
      },
      "outputs": [],
      "source": [
        "#defining the question extractor model\n",
        "x1=tf.keras.layers.Input((512),name='question',dtype='int64')\n",
        "x2=tf.keras.layers.Input((512),name='question_mask',dtype='int64')\n",
        "q_embed=medical_qa_model.get_layer('q_ffn')(medical_qa_model.get_layer('tf_bert_model').bert(input_ids=x1,attention_mask=x2,).pooler_output)\n",
        "question_extractor_model=tf.keras.Model(inputs=[x1,x2],outputs=q_embed)"
      ]
    },
    {
      "cell_type": "code",
      "execution_count": null,
      "metadata": {
        "id": "-cISX7x80etT"
      },
      "outputs": [],
      "source": [
        "#saving the question extractor model to disk\n",
        "question_extractor_model.save('question_extractor_model_2_11')"
      ]
    },
    {
      "cell_type": "code",
      "execution_count": null,
      "metadata": {
        "id": "_T3yGx4e0N71"
      },
      "outputs": [],
      "source": [
        "#loading the question extractor model from disk\n",
        "question_extractor_model=tf.keras.models.load_model('question_extractor_model_2_11')"
      ]
    },
    {
      "cell_type": "code",
      "execution_count": null,
      "metadata": {
        "id": "yII4QuEMzC_T"
      },
      "outputs": [],
      "source": [
        "#function to extract embeddings given a question and a question mask\n",
        "def question_extractor(sam_dict):\n",
        "  q_embed=question_extractor_model({'question':sam_dict['question'],'question_mask':sam_dict['question_mask']})\n",
        "  return q_embed\n",
        "  "
      ]
    },
    {
      "cell_type": "code",
      "execution_count": null,
      "metadata": {
        "id": "-VepMKndTqBj"
      },
      "outputs": [],
      "source": [
        "#defining function to extract question embeddings given question\n",
        "def extract_question_embed(question):\n",
        "  max_length=512\n",
        "  tokenized_questions=[]\n",
        "  tokenized_question =  biobert_tokenizer.encode(question)\n",
        "  tokenized_questions.append(tokenized_question)\n",
        "\n",
        "  # padding the sequences\n",
        "  tokenized_questions = tf.keras.preprocessing.sequence.pad_sequences(\n",
        "      tokenized_questions, maxlen=max_length, padding='post')\n",
        "  attention_mask=[[1 if token>0 else 0 for token in q] for q in tokenized_questions]\n",
        "  return question_extractor({'question':np.array(tokenized_questions),'question_mask':np.array(attention_mask)})"
      ]
    },
    {
      "cell_type": "code",
      "execution_count": null,
      "metadata": {
        "id": "PY_kWpsi2Z0e"
      },
      "outputs": [],
      "source": [
        "#defining the answer extractor model\n",
        "x1=tf.keras.layers.Input((512),name='answer',dtype='int64')\n",
        "x2=tf.keras.layers.Input((512),name='answer_mask',dtype='int64')\n",
        "a_embed=medical_qa_model.get_layer('a_ffn')(medical_qa_model.get_layer('tf_bert_model').bert(input_ids=x1,attention_mask=x2,).pooler_output)\n",
        "answer_extractor_model=tf.keras.Model(inputs=[x1,x2],outputs=a_embed)"
      ]
    },
    {
      "cell_type": "code",
      "execution_count": null,
      "metadata": {
        "id": "PQojZvQt2klZ"
      },
      "outputs": [],
      "source": [
        "#saving the answer extractor model to disk\n",
        "answer_extractor_model.save('answer_extractor_model_2_13')"
      ]
    },
    {
      "cell_type": "code",
      "execution_count": null,
      "metadata": {
        "id": "s2p2U2Xm2soN"
      },
      "outputs": [],
      "source": [
        "#loading the answer extractor model from disk\n",
        "answer_extractor_model=tf.keras.models.load_model('answer_extractor_model_2_13')"
      ]
    },
    {
      "cell_type": "code",
      "execution_count": null,
      "metadata": {
        "id": "wwPm-kMX2s5K"
      },
      "outputs": [],
      "source": [
        "#function to extract embeddings given an answer and an answer mask\n",
        "def answer_extractor(sam_dict):\n",
        "  a_embed=answer_extractor_model({'answer':sam_dict['answer'],'answer_mask':sam_dict['answer_mask']})\n",
        "  return a_embed\n",
        "  "
      ]
    },
    {
      "cell_type": "code",
      "execution_count": null,
      "metadata": {
        "id": "n3tM8Ae0n45h"
      },
      "outputs": [],
      "source": [
        "#defining function to extract answer embeddings\n",
        "def extract_answer_embed(answer):\n",
        "  max_length=512\n",
        "  tokenized_answers=[]\n",
        "  tokenized_answer =  biobert_tokenizer.encode(answer)\n",
        "  tokenized_answers.append(tokenized_answer)\n",
        "\n",
        "  # padding the sequences\n",
        "  tokenized_answers = tf.keras.preprocessing.sequence.pad_sequences(\n",
        "      tokenized_answers, maxlen=max_length, padding='post')\n",
        "  attention_mask=[[1 if token>0 else 0 for token in q] for q in tokenized_answers]\n",
        "  return answer_extractor({'answer':np.array(tokenized_answers),'answer_mask':np.array(attention_mask)})"
      ]
    },
    {
      "cell_type": "code",
      "execution_count": null,
      "metadata": {
        "id": "rOE9tabpZ5yH"
      },
      "outputs": [],
      "source": [
        "#extracting the original(without negative sampling) train dataset\n",
        "pos_train=train[train.label==1.0].copy()\n",
        "pos_train.shape"
      ]
    },
    {
      "cell_type": "code",
      "execution_count": null,
      "metadata": {
        "id": "tgExPOrKwbLm"
      },
      "outputs": [],
      "source": [
        "#extracting the original(without negative sampling) validation dataset\n",
        "pos_validation=validation[validation.label==1.0].copy()\n",
        "pos_validation.shape"
      ]
    },
    {
      "cell_type": "code",
      "execution_count": null,
      "metadata": {
        "id": "JWsZBU9VYa21"
      },
      "outputs": [],
      "source": [
        "#extracting the question embeddings of train data\n",
        "from tqdm.notebook import tqdm\n",
        "tqdm.pandas()\n",
        "pos_train['short_question_embed']=pos_train.short_question.progress_apply(lambda x: extract_question_embed(x))"
      ]
    },
    {
      "cell_type": "code",
      "execution_count": null,
      "metadata": {
        "id": "6dO2s9tixRKg"
      },
      "outputs": [],
      "source": [
        "#extracting the question embeddings of validation data\n",
        "pos_validation['short_question_embed']=pos_validation.short_question.progress_apply(lambda x: extract_question_embed(x))"
      ]
    },
    {
      "cell_type": "code",
      "execution_count": null,
      "metadata": {
        "id": "3sf5bV7cgqUv"
      },
      "outputs": [],
      "source": [
        "#extracting the answer embeddings of train data\n",
        "pos_train['short_answer_embed']=pos_train.short_answer.progress_apply(lambda x: extract_answer_embed(x))"
      ]
    },
    {
      "cell_type": "code",
      "execution_count": null,
      "metadata": {
        "id": "Lq9FUXSMxbhO"
      },
      "outputs": [],
      "source": [
        "#extracting the answer embeddings of validation data\n",
        "pos_validation['short_answer_embed']=pos_validation.short_answer.progress_apply(lambda x: extract_answer_embed(x))"
      ]
    },
    {
      "cell_type": "code",
      "execution_count": null,
      "metadata": {
        "id": "OEoqTKxsYgmW"
      },
      "outputs": [],
      "source": [
        "#converting embeddings from tensors to numpy arrays\n",
        "pos_train['short_answer_embed_numpy']=pos_train.short_answer_embed.apply(lambda x: x.numpy() )\n",
        "pos_train['short_question_embed_numpy']=pos_train.short_question_embed.apply(lambda x: x.numpy())"
      ]
    },
    {
      "cell_type": "code",
      "execution_count": null,
      "metadata": {
        "id": "55MlY14MxifI"
      },
      "outputs": [],
      "source": [
        "#converting embeddings from tensors to numpy arrays\n",
        "pos_validation['short_answer_embed_numpy']=pos_validation.short_answer_embed.apply(lambda x: x.numpy() )\n",
        "pos_validation['short_question_embed_numpy']=pos_validation.short_question_embed.apply(lambda x: x.numpy())"
      ]
    },
    {
      "cell_type": "code",
      "execution_count": null,
      "metadata": {
        "id": "GO-WVdYXvrHP"
      },
      "outputs": [],
      "source": [
        "#Saving train question and answer embeddings to disk\n",
        "pos_train.drop(['short_answer_embed','short_question_embed'],axis=1).to_csv('re_train_embeds.csv',index=False)"
      ]
    },
    {
      "cell_type": "code",
      "execution_count": null,
      "metadata": {
        "id": "f1lpve5axp-m"
      },
      "outputs": [],
      "source": [
        "#saving validation question and answer embeddings to disk\n",
        "pos_validation.drop(['short_answer_embed','short_question_embed'],axis=1).to_csv('re_validation_embeds.csv',index=False)"
      ]
    },
    {
      "cell_type": "markdown",
      "metadata": {
        "id": "tkTDGZ-h-GA3"
      },
      "source": [
        "**Conclusion**"
      ]
    },
    {
      "cell_type": "markdown",
      "metadata": {
        "id": "OLaykKAt-JoY"
      },
      "source": [
        "In this notebook,we have finetuned a pre-trained biobert model to extract embeddings for medical question and answers. In the next notebook we will use these embeddings to retrieve similar question and answer to answer the question asked by a patient."
      ]
    },
    {
      "cell_type": "code",
      "execution_count": null,
      "metadata": {
        "id": "YlqBDA5A-cXf"
      },
      "outputs": [],
      "source": []
    }
  ],
  "metadata": {
    "accelerator": "GPU",
    "colab": {
      "machine_shape": "hm",
      "name": "Part1_BioBert_Finetuning_with_conclusion.ipynb",
      "provenance": [],
      "history_visible": true,
      "include_colab_link": true
    },
    "kernelspec": {
      "display_name": "Python 3 (ipykernel)",
      "language": "python",
      "name": "python3"
    },
    "language_info": {
      "codemirror_mode": {
        "name": "ipython",
        "version": 3
      },
      "file_extension": ".py",
      "mimetype": "text/x-python",
      "name": "python",
      "nbconvert_exporter": "python",
      "pygments_lexer": "ipython3",
      "version": "3.9.7"
    },
    "widgets": {
      "application/vnd.jupyter.widget-state+json": {
        "564fd893d5aa46a3848130c06f4f5741": {
          "model_module": "@jupyter-widgets/controls",
          "model_name": "HBoxModel",
          "model_module_version": "1.5.0",
          "state": {
            "_dom_classes": [],
            "_model_module": "@jupyter-widgets/controls",
            "_model_module_version": "1.5.0",
            "_model_name": "HBoxModel",
            "_view_count": null,
            "_view_module": "@jupyter-widgets/controls",
            "_view_module_version": "1.5.0",
            "_view_name": "HBoxView",
            "box_style": "",
            "children": [
              "IPY_MODEL_e03067cb5c174340a46c27ddcab75e77",
              "IPY_MODEL_94d592e5a9b9411a9b25ba01b2dc61fc",
              "IPY_MODEL_ed021afea17343828ffe4f003d58b708"
            ],
            "layout": "IPY_MODEL_d3bdf78c69f44f4d9affd4235255e647"
          }
        },
        "e03067cb5c174340a46c27ddcab75e77": {
          "model_module": "@jupyter-widgets/controls",
          "model_name": "HTMLModel",
          "model_module_version": "1.5.0",
          "state": {
            "_dom_classes": [],
            "_model_module": "@jupyter-widgets/controls",
            "_model_module_version": "1.5.0",
            "_model_name": "HTMLModel",
            "_view_count": null,
            "_view_module": "@jupyter-widgets/controls",
            "_view_module_version": "1.5.0",
            "_view_name": "HTMLView",
            "description": "",
            "description_tooltip": null,
            "layout": "IPY_MODEL_1cc6a6825c2d4b3e9d4ea9abc7ad8371",
            "placeholder": "​",
            "style": "IPY_MODEL_9bab135782e84b68bfc3eff67f6e773b",
            "value": "Downloading (…)okenizer_config.json: 100%"
          }
        },
        "94d592e5a9b9411a9b25ba01b2dc61fc": {
          "model_module": "@jupyter-widgets/controls",
          "model_name": "FloatProgressModel",
          "model_module_version": "1.5.0",
          "state": {
            "_dom_classes": [],
            "_model_module": "@jupyter-widgets/controls",
            "_model_module_version": "1.5.0",
            "_model_name": "FloatProgressModel",
            "_view_count": null,
            "_view_module": "@jupyter-widgets/controls",
            "_view_module_version": "1.5.0",
            "_view_name": "ProgressView",
            "bar_style": "success",
            "description": "",
            "description_tooltip": null,
            "layout": "IPY_MODEL_03a62020c0d44ef3be75c2afafc1b626",
            "max": 85,
            "min": 0,
            "orientation": "horizontal",
            "style": "IPY_MODEL_37acbc32ffc44b86afea5adfa9852331",
            "value": 85
          }
        },
        "ed021afea17343828ffe4f003d58b708": {
          "model_module": "@jupyter-widgets/controls",
          "model_name": "HTMLModel",
          "model_module_version": "1.5.0",
          "state": {
            "_dom_classes": [],
            "_model_module": "@jupyter-widgets/controls",
            "_model_module_version": "1.5.0",
            "_model_name": "HTMLModel",
            "_view_count": null,
            "_view_module": "@jupyter-widgets/controls",
            "_view_module_version": "1.5.0",
            "_view_name": "HTMLView",
            "description": "",
            "description_tooltip": null,
            "layout": "IPY_MODEL_0aab1788bc704901b6f91a7a52e90d73",
            "placeholder": "​",
            "style": "IPY_MODEL_c1a5f27e88d54787a0f73dbe0de0af28",
            "value": " 85.0/85.0 [00:00&lt;00:00, 4.49kB/s]"
          }
        },
        "d3bdf78c69f44f4d9affd4235255e647": {
          "model_module": "@jupyter-widgets/base",
          "model_name": "LayoutModel",
          "model_module_version": "1.2.0",
          "state": {
            "_model_module": "@jupyter-widgets/base",
            "_model_module_version": "1.2.0",
            "_model_name": "LayoutModel",
            "_view_count": null,
            "_view_module": "@jupyter-widgets/base",
            "_view_module_version": "1.2.0",
            "_view_name": "LayoutView",
            "align_content": null,
            "align_items": null,
            "align_self": null,
            "border": null,
            "bottom": null,
            "display": null,
            "flex": null,
            "flex_flow": null,
            "grid_area": null,
            "grid_auto_columns": null,
            "grid_auto_flow": null,
            "grid_auto_rows": null,
            "grid_column": null,
            "grid_gap": null,
            "grid_row": null,
            "grid_template_areas": null,
            "grid_template_columns": null,
            "grid_template_rows": null,
            "height": null,
            "justify_content": null,
            "justify_items": null,
            "left": null,
            "margin": null,
            "max_height": null,
            "max_width": null,
            "min_height": null,
            "min_width": null,
            "object_fit": null,
            "object_position": null,
            "order": null,
            "overflow": null,
            "overflow_x": null,
            "overflow_y": null,
            "padding": null,
            "right": null,
            "top": null,
            "visibility": null,
            "width": null
          }
        },
        "1cc6a6825c2d4b3e9d4ea9abc7ad8371": {
          "model_module": "@jupyter-widgets/base",
          "model_name": "LayoutModel",
          "model_module_version": "1.2.0",
          "state": {
            "_model_module": "@jupyter-widgets/base",
            "_model_module_version": "1.2.0",
            "_model_name": "LayoutModel",
            "_view_count": null,
            "_view_module": "@jupyter-widgets/base",
            "_view_module_version": "1.2.0",
            "_view_name": "LayoutView",
            "align_content": null,
            "align_items": null,
            "align_self": null,
            "border": null,
            "bottom": null,
            "display": null,
            "flex": null,
            "flex_flow": null,
            "grid_area": null,
            "grid_auto_columns": null,
            "grid_auto_flow": null,
            "grid_auto_rows": null,
            "grid_column": null,
            "grid_gap": null,
            "grid_row": null,
            "grid_template_areas": null,
            "grid_template_columns": null,
            "grid_template_rows": null,
            "height": null,
            "justify_content": null,
            "justify_items": null,
            "left": null,
            "margin": null,
            "max_height": null,
            "max_width": null,
            "min_height": null,
            "min_width": null,
            "object_fit": null,
            "object_position": null,
            "order": null,
            "overflow": null,
            "overflow_x": null,
            "overflow_y": null,
            "padding": null,
            "right": null,
            "top": null,
            "visibility": null,
            "width": null
          }
        },
        "9bab135782e84b68bfc3eff67f6e773b": {
          "model_module": "@jupyter-widgets/controls",
          "model_name": "DescriptionStyleModel",
          "model_module_version": "1.5.0",
          "state": {
            "_model_module": "@jupyter-widgets/controls",
            "_model_module_version": "1.5.0",
            "_model_name": "DescriptionStyleModel",
            "_view_count": null,
            "_view_module": "@jupyter-widgets/base",
            "_view_module_version": "1.2.0",
            "_view_name": "StyleView",
            "description_width": ""
          }
        },
        "03a62020c0d44ef3be75c2afafc1b626": {
          "model_module": "@jupyter-widgets/base",
          "model_name": "LayoutModel",
          "model_module_version": "1.2.0",
          "state": {
            "_model_module": "@jupyter-widgets/base",
            "_model_module_version": "1.2.0",
            "_model_name": "LayoutModel",
            "_view_count": null,
            "_view_module": "@jupyter-widgets/base",
            "_view_module_version": "1.2.0",
            "_view_name": "LayoutView",
            "align_content": null,
            "align_items": null,
            "align_self": null,
            "border": null,
            "bottom": null,
            "display": null,
            "flex": null,
            "flex_flow": null,
            "grid_area": null,
            "grid_auto_columns": null,
            "grid_auto_flow": null,
            "grid_auto_rows": null,
            "grid_column": null,
            "grid_gap": null,
            "grid_row": null,
            "grid_template_areas": null,
            "grid_template_columns": null,
            "grid_template_rows": null,
            "height": null,
            "justify_content": null,
            "justify_items": null,
            "left": null,
            "margin": null,
            "max_height": null,
            "max_width": null,
            "min_height": null,
            "min_width": null,
            "object_fit": null,
            "object_position": null,
            "order": null,
            "overflow": null,
            "overflow_x": null,
            "overflow_y": null,
            "padding": null,
            "right": null,
            "top": null,
            "visibility": null,
            "width": null
          }
        },
        "37acbc32ffc44b86afea5adfa9852331": {
          "model_module": "@jupyter-widgets/controls",
          "model_name": "ProgressStyleModel",
          "model_module_version": "1.5.0",
          "state": {
            "_model_module": "@jupyter-widgets/controls",
            "_model_module_version": "1.5.0",
            "_model_name": "ProgressStyleModel",
            "_view_count": null,
            "_view_module": "@jupyter-widgets/base",
            "_view_module_version": "1.2.0",
            "_view_name": "StyleView",
            "bar_color": null,
            "description_width": ""
          }
        },
        "0aab1788bc704901b6f91a7a52e90d73": {
          "model_module": "@jupyter-widgets/base",
          "model_name": "LayoutModel",
          "model_module_version": "1.2.0",
          "state": {
            "_model_module": "@jupyter-widgets/base",
            "_model_module_version": "1.2.0",
            "_model_name": "LayoutModel",
            "_view_count": null,
            "_view_module": "@jupyter-widgets/base",
            "_view_module_version": "1.2.0",
            "_view_name": "LayoutView",
            "align_content": null,
            "align_items": null,
            "align_self": null,
            "border": null,
            "bottom": null,
            "display": null,
            "flex": null,
            "flex_flow": null,
            "grid_area": null,
            "grid_auto_columns": null,
            "grid_auto_flow": null,
            "grid_auto_rows": null,
            "grid_column": null,
            "grid_gap": null,
            "grid_row": null,
            "grid_template_areas": null,
            "grid_template_columns": null,
            "grid_template_rows": null,
            "height": null,
            "justify_content": null,
            "justify_items": null,
            "left": null,
            "margin": null,
            "max_height": null,
            "max_width": null,
            "min_height": null,
            "min_width": null,
            "object_fit": null,
            "object_position": null,
            "order": null,
            "overflow": null,
            "overflow_x": null,
            "overflow_y": null,
            "padding": null,
            "right": null,
            "top": null,
            "visibility": null,
            "width": null
          }
        },
        "c1a5f27e88d54787a0f73dbe0de0af28": {
          "model_module": "@jupyter-widgets/controls",
          "model_name": "DescriptionStyleModel",
          "model_module_version": "1.5.0",
          "state": {
            "_model_module": "@jupyter-widgets/controls",
            "_model_module_version": "1.5.0",
            "_model_name": "DescriptionStyleModel",
            "_view_count": null,
            "_view_module": "@jupyter-widgets/base",
            "_view_module_version": "1.2.0",
            "_view_name": "StyleView",
            "description_width": ""
          }
        },
        "b8eee8bf6b984e58b155774335d9a70c": {
          "model_module": "@jupyter-widgets/controls",
          "model_name": "HBoxModel",
          "model_module_version": "1.5.0",
          "state": {
            "_dom_classes": [],
            "_model_module": "@jupyter-widgets/controls",
            "_model_module_version": "1.5.0",
            "_model_name": "HBoxModel",
            "_view_count": null,
            "_view_module": "@jupyter-widgets/controls",
            "_view_module_version": "1.5.0",
            "_view_name": "HBoxView",
            "box_style": "",
            "children": [
              "IPY_MODEL_fd4e774e7c834056a95f34c409b3cacb",
              "IPY_MODEL_9fb8d07f6a6d4f7ab3b894a2cca868a8",
              "IPY_MODEL_5698e19e6ef54661932cd9724ab8c881"
            ],
            "layout": "IPY_MODEL_673735d96de44c84aaa2827fd0acc20f"
          }
        },
        "fd4e774e7c834056a95f34c409b3cacb": {
          "model_module": "@jupyter-widgets/controls",
          "model_name": "HTMLModel",
          "model_module_version": "1.5.0",
          "state": {
            "_dom_classes": [],
            "_model_module": "@jupyter-widgets/controls",
            "_model_module_version": "1.5.0",
            "_model_name": "HTMLModel",
            "_view_count": null,
            "_view_module": "@jupyter-widgets/controls",
            "_view_module_version": "1.5.0",
            "_view_name": "HTMLView",
            "description": "",
            "description_tooltip": null,
            "layout": "IPY_MODEL_84aef4d07f89482db07c6a7d1aaca15f",
            "placeholder": "​",
            "style": "IPY_MODEL_6b29cb3f124d406abf5453166bb830d1",
            "value": "Downloading (…)lve/main/config.json: 100%"
          }
        },
        "9fb8d07f6a6d4f7ab3b894a2cca868a8": {
          "model_module": "@jupyter-widgets/controls",
          "model_name": "FloatProgressModel",
          "model_module_version": "1.5.0",
          "state": {
            "_dom_classes": [],
            "_model_module": "@jupyter-widgets/controls",
            "_model_module_version": "1.5.0",
            "_model_name": "FloatProgressModel",
            "_view_count": null,
            "_view_module": "@jupyter-widgets/controls",
            "_view_module_version": "1.5.0",
            "_view_name": "ProgressView",
            "bar_style": "success",
            "description": "",
            "description_tooltip": null,
            "layout": "IPY_MODEL_0c10af32076247ddb69ff82fca7b50af",
            "max": 462,
            "min": 0,
            "orientation": "horizontal",
            "style": "IPY_MODEL_6e5d03ed2d154c00a97c6b811a47aa7f",
            "value": 462
          }
        },
        "5698e19e6ef54661932cd9724ab8c881": {
          "model_module": "@jupyter-widgets/controls",
          "model_name": "HTMLModel",
          "model_module_version": "1.5.0",
          "state": {
            "_dom_classes": [],
            "_model_module": "@jupyter-widgets/controls",
            "_model_module_version": "1.5.0",
            "_model_name": "HTMLModel",
            "_view_count": null,
            "_view_module": "@jupyter-widgets/controls",
            "_view_module_version": "1.5.0",
            "_view_name": "HTMLView",
            "description": "",
            "description_tooltip": null,
            "layout": "IPY_MODEL_c4461552c42a48baacefa9c8189758c2",
            "placeholder": "​",
            "style": "IPY_MODEL_eddbb68b7eb8453abcae6cbbf6cee68e",
            "value": " 462/462 [00:00&lt;00:00, 24.9kB/s]"
          }
        },
        "673735d96de44c84aaa2827fd0acc20f": {
          "model_module": "@jupyter-widgets/base",
          "model_name": "LayoutModel",
          "model_module_version": "1.2.0",
          "state": {
            "_model_module": "@jupyter-widgets/base",
            "_model_module_version": "1.2.0",
            "_model_name": "LayoutModel",
            "_view_count": null,
            "_view_module": "@jupyter-widgets/base",
            "_view_module_version": "1.2.0",
            "_view_name": "LayoutView",
            "align_content": null,
            "align_items": null,
            "align_self": null,
            "border": null,
            "bottom": null,
            "display": null,
            "flex": null,
            "flex_flow": null,
            "grid_area": null,
            "grid_auto_columns": null,
            "grid_auto_flow": null,
            "grid_auto_rows": null,
            "grid_column": null,
            "grid_gap": null,
            "grid_row": null,
            "grid_template_areas": null,
            "grid_template_columns": null,
            "grid_template_rows": null,
            "height": null,
            "justify_content": null,
            "justify_items": null,
            "left": null,
            "margin": null,
            "max_height": null,
            "max_width": null,
            "min_height": null,
            "min_width": null,
            "object_fit": null,
            "object_position": null,
            "order": null,
            "overflow": null,
            "overflow_x": null,
            "overflow_y": null,
            "padding": null,
            "right": null,
            "top": null,
            "visibility": null,
            "width": null
          }
        },
        "84aef4d07f89482db07c6a7d1aaca15f": {
          "model_module": "@jupyter-widgets/base",
          "model_name": "LayoutModel",
          "model_module_version": "1.2.0",
          "state": {
            "_model_module": "@jupyter-widgets/base",
            "_model_module_version": "1.2.0",
            "_model_name": "LayoutModel",
            "_view_count": null,
            "_view_module": "@jupyter-widgets/base",
            "_view_module_version": "1.2.0",
            "_view_name": "LayoutView",
            "align_content": null,
            "align_items": null,
            "align_self": null,
            "border": null,
            "bottom": null,
            "display": null,
            "flex": null,
            "flex_flow": null,
            "grid_area": null,
            "grid_auto_columns": null,
            "grid_auto_flow": null,
            "grid_auto_rows": null,
            "grid_column": null,
            "grid_gap": null,
            "grid_row": null,
            "grid_template_areas": null,
            "grid_template_columns": null,
            "grid_template_rows": null,
            "height": null,
            "justify_content": null,
            "justify_items": null,
            "left": null,
            "margin": null,
            "max_height": null,
            "max_width": null,
            "min_height": null,
            "min_width": null,
            "object_fit": null,
            "object_position": null,
            "order": null,
            "overflow": null,
            "overflow_x": null,
            "overflow_y": null,
            "padding": null,
            "right": null,
            "top": null,
            "visibility": null,
            "width": null
          }
        },
        "6b29cb3f124d406abf5453166bb830d1": {
          "model_module": "@jupyter-widgets/controls",
          "model_name": "DescriptionStyleModel",
          "model_module_version": "1.5.0",
          "state": {
            "_model_module": "@jupyter-widgets/controls",
            "_model_module_version": "1.5.0",
            "_model_name": "DescriptionStyleModel",
            "_view_count": null,
            "_view_module": "@jupyter-widgets/base",
            "_view_module_version": "1.2.0",
            "_view_name": "StyleView",
            "description_width": ""
          }
        },
        "0c10af32076247ddb69ff82fca7b50af": {
          "model_module": "@jupyter-widgets/base",
          "model_name": "LayoutModel",
          "model_module_version": "1.2.0",
          "state": {
            "_model_module": "@jupyter-widgets/base",
            "_model_module_version": "1.2.0",
            "_model_name": "LayoutModel",
            "_view_count": null,
            "_view_module": "@jupyter-widgets/base",
            "_view_module_version": "1.2.0",
            "_view_name": "LayoutView",
            "align_content": null,
            "align_items": null,
            "align_self": null,
            "border": null,
            "bottom": null,
            "display": null,
            "flex": null,
            "flex_flow": null,
            "grid_area": null,
            "grid_auto_columns": null,
            "grid_auto_flow": null,
            "grid_auto_rows": null,
            "grid_column": null,
            "grid_gap": null,
            "grid_row": null,
            "grid_template_areas": null,
            "grid_template_columns": null,
            "grid_template_rows": null,
            "height": null,
            "justify_content": null,
            "justify_items": null,
            "left": null,
            "margin": null,
            "max_height": null,
            "max_width": null,
            "min_height": null,
            "min_width": null,
            "object_fit": null,
            "object_position": null,
            "order": null,
            "overflow": null,
            "overflow_x": null,
            "overflow_y": null,
            "padding": null,
            "right": null,
            "top": null,
            "visibility": null,
            "width": null
          }
        },
        "6e5d03ed2d154c00a97c6b811a47aa7f": {
          "model_module": "@jupyter-widgets/controls",
          "model_name": "ProgressStyleModel",
          "model_module_version": "1.5.0",
          "state": {
            "_model_module": "@jupyter-widgets/controls",
            "_model_module_version": "1.5.0",
            "_model_name": "ProgressStyleModel",
            "_view_count": null,
            "_view_module": "@jupyter-widgets/base",
            "_view_module_version": "1.2.0",
            "_view_name": "StyleView",
            "bar_color": null,
            "description_width": ""
          }
        },
        "c4461552c42a48baacefa9c8189758c2": {
          "model_module": "@jupyter-widgets/base",
          "model_name": "LayoutModel",
          "model_module_version": "1.2.0",
          "state": {
            "_model_module": "@jupyter-widgets/base",
            "_model_module_version": "1.2.0",
            "_model_name": "LayoutModel",
            "_view_count": null,
            "_view_module": "@jupyter-widgets/base",
            "_view_module_version": "1.2.0",
            "_view_name": "LayoutView",
            "align_content": null,
            "align_items": null,
            "align_self": null,
            "border": null,
            "bottom": null,
            "display": null,
            "flex": null,
            "flex_flow": null,
            "grid_area": null,
            "grid_auto_columns": null,
            "grid_auto_flow": null,
            "grid_auto_rows": null,
            "grid_column": null,
            "grid_gap": null,
            "grid_row": null,
            "grid_template_areas": null,
            "grid_template_columns": null,
            "grid_template_rows": null,
            "height": null,
            "justify_content": null,
            "justify_items": null,
            "left": null,
            "margin": null,
            "max_height": null,
            "max_width": null,
            "min_height": null,
            "min_width": null,
            "object_fit": null,
            "object_position": null,
            "order": null,
            "overflow": null,
            "overflow_x": null,
            "overflow_y": null,
            "padding": null,
            "right": null,
            "top": null,
            "visibility": null,
            "width": null
          }
        },
        "eddbb68b7eb8453abcae6cbbf6cee68e": {
          "model_module": "@jupyter-widgets/controls",
          "model_name": "DescriptionStyleModel",
          "model_module_version": "1.5.0",
          "state": {
            "_model_module": "@jupyter-widgets/controls",
            "_model_module_version": "1.5.0",
            "_model_name": "DescriptionStyleModel",
            "_view_count": null,
            "_view_module": "@jupyter-widgets/base",
            "_view_module_version": "1.2.0",
            "_view_name": "StyleView",
            "description_width": ""
          }
        },
        "a04db9e0974f4b98b7b007410c641cce": {
          "model_module": "@jupyter-widgets/controls",
          "model_name": "HBoxModel",
          "model_module_version": "1.5.0",
          "state": {
            "_dom_classes": [],
            "_model_module": "@jupyter-widgets/controls",
            "_model_module_version": "1.5.0",
            "_model_name": "HBoxModel",
            "_view_count": null,
            "_view_module": "@jupyter-widgets/controls",
            "_view_module_version": "1.5.0",
            "_view_name": "HBoxView",
            "box_style": "",
            "children": [
              "IPY_MODEL_73a172c717f6454d8cc29da451b3ab1d",
              "IPY_MODEL_67c49a6bb22347cc8485c742177ffc52",
              "IPY_MODEL_a73686962dea4a73a6b4285a68958eee"
            ],
            "layout": "IPY_MODEL_d99bf7423d7d4c85b7d7083231db01c1"
          }
        },
        "73a172c717f6454d8cc29da451b3ab1d": {
          "model_module": "@jupyter-widgets/controls",
          "model_name": "HTMLModel",
          "model_module_version": "1.5.0",
          "state": {
            "_dom_classes": [],
            "_model_module": "@jupyter-widgets/controls",
            "_model_module_version": "1.5.0",
            "_model_name": "HTMLModel",
            "_view_count": null,
            "_view_module": "@jupyter-widgets/controls",
            "_view_module_version": "1.5.0",
            "_view_name": "HTMLView",
            "description": "",
            "description_tooltip": null,
            "layout": "IPY_MODEL_415128fba86148668d9ccaa83901e741",
            "placeholder": "​",
            "style": "IPY_MODEL_124cc3bfbdc747c0bb15734177902cca",
            "value": "Downloading (…)solve/main/vocab.txt: 100%"
          }
        },
        "67c49a6bb22347cc8485c742177ffc52": {
          "model_module": "@jupyter-widgets/controls",
          "model_name": "FloatProgressModel",
          "model_module_version": "1.5.0",
          "state": {
            "_dom_classes": [],
            "_model_module": "@jupyter-widgets/controls",
            "_model_module_version": "1.5.0",
            "_model_name": "FloatProgressModel",
            "_view_count": null,
            "_view_module": "@jupyter-widgets/controls",
            "_view_module_version": "1.5.0",
            "_view_name": "ProgressView",
            "bar_style": "success",
            "description": "",
            "description_tooltip": null,
            "layout": "IPY_MODEL_2c2307018ddd4be0977b3a1349af18c7",
            "max": 213450,
            "min": 0,
            "orientation": "horizontal",
            "style": "IPY_MODEL_d8d46fed5e504b15abc5584492b064e1",
            "value": 213450
          }
        },
        "a73686962dea4a73a6b4285a68958eee": {
          "model_module": "@jupyter-widgets/controls",
          "model_name": "HTMLModel",
          "model_module_version": "1.5.0",
          "state": {
            "_dom_classes": [],
            "_model_module": "@jupyter-widgets/controls",
            "_model_module_version": "1.5.0",
            "_model_name": "HTMLModel",
            "_view_count": null,
            "_view_module": "@jupyter-widgets/controls",
            "_view_module_version": "1.5.0",
            "_view_name": "HTMLView",
            "description": "",
            "description_tooltip": null,
            "layout": "IPY_MODEL_0f69471f7eda4bbcb3de083ad03b5692",
            "placeholder": "​",
            "style": "IPY_MODEL_2c81bb44505949feb6de28b4b0ee7550",
            "value": " 213k/213k [00:00&lt;00:00, 320kB/s]"
          }
        },
        "d99bf7423d7d4c85b7d7083231db01c1": {
          "model_module": "@jupyter-widgets/base",
          "model_name": "LayoutModel",
          "model_module_version": "1.2.0",
          "state": {
            "_model_module": "@jupyter-widgets/base",
            "_model_module_version": "1.2.0",
            "_model_name": "LayoutModel",
            "_view_count": null,
            "_view_module": "@jupyter-widgets/base",
            "_view_module_version": "1.2.0",
            "_view_name": "LayoutView",
            "align_content": null,
            "align_items": null,
            "align_self": null,
            "border": null,
            "bottom": null,
            "display": null,
            "flex": null,
            "flex_flow": null,
            "grid_area": null,
            "grid_auto_columns": null,
            "grid_auto_flow": null,
            "grid_auto_rows": null,
            "grid_column": null,
            "grid_gap": null,
            "grid_row": null,
            "grid_template_areas": null,
            "grid_template_columns": null,
            "grid_template_rows": null,
            "height": null,
            "justify_content": null,
            "justify_items": null,
            "left": null,
            "margin": null,
            "max_height": null,
            "max_width": null,
            "min_height": null,
            "min_width": null,
            "object_fit": null,
            "object_position": null,
            "order": null,
            "overflow": null,
            "overflow_x": null,
            "overflow_y": null,
            "padding": null,
            "right": null,
            "top": null,
            "visibility": null,
            "width": null
          }
        },
        "415128fba86148668d9ccaa83901e741": {
          "model_module": "@jupyter-widgets/base",
          "model_name": "LayoutModel",
          "model_module_version": "1.2.0",
          "state": {
            "_model_module": "@jupyter-widgets/base",
            "_model_module_version": "1.2.0",
            "_model_name": "LayoutModel",
            "_view_count": null,
            "_view_module": "@jupyter-widgets/base",
            "_view_module_version": "1.2.0",
            "_view_name": "LayoutView",
            "align_content": null,
            "align_items": null,
            "align_self": null,
            "border": null,
            "bottom": null,
            "display": null,
            "flex": null,
            "flex_flow": null,
            "grid_area": null,
            "grid_auto_columns": null,
            "grid_auto_flow": null,
            "grid_auto_rows": null,
            "grid_column": null,
            "grid_gap": null,
            "grid_row": null,
            "grid_template_areas": null,
            "grid_template_columns": null,
            "grid_template_rows": null,
            "height": null,
            "justify_content": null,
            "justify_items": null,
            "left": null,
            "margin": null,
            "max_height": null,
            "max_width": null,
            "min_height": null,
            "min_width": null,
            "object_fit": null,
            "object_position": null,
            "order": null,
            "overflow": null,
            "overflow_x": null,
            "overflow_y": null,
            "padding": null,
            "right": null,
            "top": null,
            "visibility": null,
            "width": null
          }
        },
        "124cc3bfbdc747c0bb15734177902cca": {
          "model_module": "@jupyter-widgets/controls",
          "model_name": "DescriptionStyleModel",
          "model_module_version": "1.5.0",
          "state": {
            "_model_module": "@jupyter-widgets/controls",
            "_model_module_version": "1.5.0",
            "_model_name": "DescriptionStyleModel",
            "_view_count": null,
            "_view_module": "@jupyter-widgets/base",
            "_view_module_version": "1.2.0",
            "_view_name": "StyleView",
            "description_width": ""
          }
        },
        "2c2307018ddd4be0977b3a1349af18c7": {
          "model_module": "@jupyter-widgets/base",
          "model_name": "LayoutModel",
          "model_module_version": "1.2.0",
          "state": {
            "_model_module": "@jupyter-widgets/base",
            "_model_module_version": "1.2.0",
            "_model_name": "LayoutModel",
            "_view_count": null,
            "_view_module": "@jupyter-widgets/base",
            "_view_module_version": "1.2.0",
            "_view_name": "LayoutView",
            "align_content": null,
            "align_items": null,
            "align_self": null,
            "border": null,
            "bottom": null,
            "display": null,
            "flex": null,
            "flex_flow": null,
            "grid_area": null,
            "grid_auto_columns": null,
            "grid_auto_flow": null,
            "grid_auto_rows": null,
            "grid_column": null,
            "grid_gap": null,
            "grid_row": null,
            "grid_template_areas": null,
            "grid_template_columns": null,
            "grid_template_rows": null,
            "height": null,
            "justify_content": null,
            "justify_items": null,
            "left": null,
            "margin": null,
            "max_height": null,
            "max_width": null,
            "min_height": null,
            "min_width": null,
            "object_fit": null,
            "object_position": null,
            "order": null,
            "overflow": null,
            "overflow_x": null,
            "overflow_y": null,
            "padding": null,
            "right": null,
            "top": null,
            "visibility": null,
            "width": null
          }
        },
        "d8d46fed5e504b15abc5584492b064e1": {
          "model_module": "@jupyter-widgets/controls",
          "model_name": "ProgressStyleModel",
          "model_module_version": "1.5.0",
          "state": {
            "_model_module": "@jupyter-widgets/controls",
            "_model_module_version": "1.5.0",
            "_model_name": "ProgressStyleModel",
            "_view_count": null,
            "_view_module": "@jupyter-widgets/base",
            "_view_module_version": "1.2.0",
            "_view_name": "StyleView",
            "bar_color": null,
            "description_width": ""
          }
        },
        "0f69471f7eda4bbcb3de083ad03b5692": {
          "model_module": "@jupyter-widgets/base",
          "model_name": "LayoutModel",
          "model_module_version": "1.2.0",
          "state": {
            "_model_module": "@jupyter-widgets/base",
            "_model_module_version": "1.2.0",
            "_model_name": "LayoutModel",
            "_view_count": null,
            "_view_module": "@jupyter-widgets/base",
            "_view_module_version": "1.2.0",
            "_view_name": "LayoutView",
            "align_content": null,
            "align_items": null,
            "align_self": null,
            "border": null,
            "bottom": null,
            "display": null,
            "flex": null,
            "flex_flow": null,
            "grid_area": null,
            "grid_auto_columns": null,
            "grid_auto_flow": null,
            "grid_auto_rows": null,
            "grid_column": null,
            "grid_gap": null,
            "grid_row": null,
            "grid_template_areas": null,
            "grid_template_columns": null,
            "grid_template_rows": null,
            "height": null,
            "justify_content": null,
            "justify_items": null,
            "left": null,
            "margin": null,
            "max_height": null,
            "max_width": null,
            "min_height": null,
            "min_width": null,
            "object_fit": null,
            "object_position": null,
            "order": null,
            "overflow": null,
            "overflow_x": null,
            "overflow_y": null,
            "padding": null,
            "right": null,
            "top": null,
            "visibility": null,
            "width": null
          }
        },
        "2c81bb44505949feb6de28b4b0ee7550": {
          "model_module": "@jupyter-widgets/controls",
          "model_name": "DescriptionStyleModel",
          "model_module_version": "1.5.0",
          "state": {
            "_model_module": "@jupyter-widgets/controls",
            "_model_module_version": "1.5.0",
            "_model_name": "DescriptionStyleModel",
            "_view_count": null,
            "_view_module": "@jupyter-widgets/base",
            "_view_module_version": "1.2.0",
            "_view_name": "StyleView",
            "description_width": ""
          }
        },
        "262db36675ff4b449a71d0a93c3c1883": {
          "model_module": "@jupyter-widgets/controls",
          "model_name": "HBoxModel",
          "model_module_version": "1.5.0",
          "state": {
            "_dom_classes": [],
            "_model_module": "@jupyter-widgets/controls",
            "_model_module_version": "1.5.0",
            "_model_name": "HBoxModel",
            "_view_count": null,
            "_view_module": "@jupyter-widgets/controls",
            "_view_module_version": "1.5.0",
            "_view_name": "HBoxView",
            "box_style": "",
            "children": [
              "IPY_MODEL_da39cfb1fcf14d62987f0146882047bf",
              "IPY_MODEL_77820499431942708bf10c25fe212f66",
              "IPY_MODEL_78f7aac28fce430c8e4cae055ed0dae7"
            ],
            "layout": "IPY_MODEL_0b6fe0e203084435a37a7deef8683f48"
          }
        },
        "da39cfb1fcf14d62987f0146882047bf": {
          "model_module": "@jupyter-widgets/controls",
          "model_name": "HTMLModel",
          "model_module_version": "1.5.0",
          "state": {
            "_dom_classes": [],
            "_model_module": "@jupyter-widgets/controls",
            "_model_module_version": "1.5.0",
            "_model_name": "HTMLModel",
            "_view_count": null,
            "_view_module": "@jupyter-widgets/controls",
            "_view_module_version": "1.5.0",
            "_view_name": "HTMLView",
            "description": "",
            "description_tooltip": null,
            "layout": "IPY_MODEL_b645afc3d27240a0b2ec12106ff23e7e",
            "placeholder": "​",
            "style": "IPY_MODEL_86c5a8ff40d7496b8b905c7aa1b2f9c1",
            "value": "Downloading (…)cial_tokens_map.json: 100%"
          }
        },
        "77820499431942708bf10c25fe212f66": {
          "model_module": "@jupyter-widgets/controls",
          "model_name": "FloatProgressModel",
          "model_module_version": "1.5.0",
          "state": {
            "_dom_classes": [],
            "_model_module": "@jupyter-widgets/controls",
            "_model_module_version": "1.5.0",
            "_model_name": "FloatProgressModel",
            "_view_count": null,
            "_view_module": "@jupyter-widgets/controls",
            "_view_module_version": "1.5.0",
            "_view_name": "ProgressView",
            "bar_style": "success",
            "description": "",
            "description_tooltip": null,
            "layout": "IPY_MODEL_0d8954542d9f471184678e0ada9cd3eb",
            "max": 112,
            "min": 0,
            "orientation": "horizontal",
            "style": "IPY_MODEL_876da2da7bff40b48173fbb7df202516",
            "value": 112
          }
        },
        "78f7aac28fce430c8e4cae055ed0dae7": {
          "model_module": "@jupyter-widgets/controls",
          "model_name": "HTMLModel",
          "model_module_version": "1.5.0",
          "state": {
            "_dom_classes": [],
            "_model_module": "@jupyter-widgets/controls",
            "_model_module_version": "1.5.0",
            "_model_name": "HTMLModel",
            "_view_count": null,
            "_view_module": "@jupyter-widgets/controls",
            "_view_module_version": "1.5.0",
            "_view_name": "HTMLView",
            "description": "",
            "description_tooltip": null,
            "layout": "IPY_MODEL_fe62f97c28b242448c63b960a1a9ad24",
            "placeholder": "​",
            "style": "IPY_MODEL_e584b0c2198140739ef9fa1b44069db7",
            "value": " 112/112 [00:00&lt;00:00, 7.71kB/s]"
          }
        },
        "0b6fe0e203084435a37a7deef8683f48": {
          "model_module": "@jupyter-widgets/base",
          "model_name": "LayoutModel",
          "model_module_version": "1.2.0",
          "state": {
            "_model_module": "@jupyter-widgets/base",
            "_model_module_version": "1.2.0",
            "_model_name": "LayoutModel",
            "_view_count": null,
            "_view_module": "@jupyter-widgets/base",
            "_view_module_version": "1.2.0",
            "_view_name": "LayoutView",
            "align_content": null,
            "align_items": null,
            "align_self": null,
            "border": null,
            "bottom": null,
            "display": null,
            "flex": null,
            "flex_flow": null,
            "grid_area": null,
            "grid_auto_columns": null,
            "grid_auto_flow": null,
            "grid_auto_rows": null,
            "grid_column": null,
            "grid_gap": null,
            "grid_row": null,
            "grid_template_areas": null,
            "grid_template_columns": null,
            "grid_template_rows": null,
            "height": null,
            "justify_content": null,
            "justify_items": null,
            "left": null,
            "margin": null,
            "max_height": null,
            "max_width": null,
            "min_height": null,
            "min_width": null,
            "object_fit": null,
            "object_position": null,
            "order": null,
            "overflow": null,
            "overflow_x": null,
            "overflow_y": null,
            "padding": null,
            "right": null,
            "top": null,
            "visibility": null,
            "width": null
          }
        },
        "b645afc3d27240a0b2ec12106ff23e7e": {
          "model_module": "@jupyter-widgets/base",
          "model_name": "LayoutModel",
          "model_module_version": "1.2.0",
          "state": {
            "_model_module": "@jupyter-widgets/base",
            "_model_module_version": "1.2.0",
            "_model_name": "LayoutModel",
            "_view_count": null,
            "_view_module": "@jupyter-widgets/base",
            "_view_module_version": "1.2.0",
            "_view_name": "LayoutView",
            "align_content": null,
            "align_items": null,
            "align_self": null,
            "border": null,
            "bottom": null,
            "display": null,
            "flex": null,
            "flex_flow": null,
            "grid_area": null,
            "grid_auto_columns": null,
            "grid_auto_flow": null,
            "grid_auto_rows": null,
            "grid_column": null,
            "grid_gap": null,
            "grid_row": null,
            "grid_template_areas": null,
            "grid_template_columns": null,
            "grid_template_rows": null,
            "height": null,
            "justify_content": null,
            "justify_items": null,
            "left": null,
            "margin": null,
            "max_height": null,
            "max_width": null,
            "min_height": null,
            "min_width": null,
            "object_fit": null,
            "object_position": null,
            "order": null,
            "overflow": null,
            "overflow_x": null,
            "overflow_y": null,
            "padding": null,
            "right": null,
            "top": null,
            "visibility": null,
            "width": null
          }
        },
        "86c5a8ff40d7496b8b905c7aa1b2f9c1": {
          "model_module": "@jupyter-widgets/controls",
          "model_name": "DescriptionStyleModel",
          "model_module_version": "1.5.0",
          "state": {
            "_model_module": "@jupyter-widgets/controls",
            "_model_module_version": "1.5.0",
            "_model_name": "DescriptionStyleModel",
            "_view_count": null,
            "_view_module": "@jupyter-widgets/base",
            "_view_module_version": "1.2.0",
            "_view_name": "StyleView",
            "description_width": ""
          }
        },
        "0d8954542d9f471184678e0ada9cd3eb": {
          "model_module": "@jupyter-widgets/base",
          "model_name": "LayoutModel",
          "model_module_version": "1.2.0",
          "state": {
            "_model_module": "@jupyter-widgets/base",
            "_model_module_version": "1.2.0",
            "_model_name": "LayoutModel",
            "_view_count": null,
            "_view_module": "@jupyter-widgets/base",
            "_view_module_version": "1.2.0",
            "_view_name": "LayoutView",
            "align_content": null,
            "align_items": null,
            "align_self": null,
            "border": null,
            "bottom": null,
            "display": null,
            "flex": null,
            "flex_flow": null,
            "grid_area": null,
            "grid_auto_columns": null,
            "grid_auto_flow": null,
            "grid_auto_rows": null,
            "grid_column": null,
            "grid_gap": null,
            "grid_row": null,
            "grid_template_areas": null,
            "grid_template_columns": null,
            "grid_template_rows": null,
            "height": null,
            "justify_content": null,
            "justify_items": null,
            "left": null,
            "margin": null,
            "max_height": null,
            "max_width": null,
            "min_height": null,
            "min_width": null,
            "object_fit": null,
            "object_position": null,
            "order": null,
            "overflow": null,
            "overflow_x": null,
            "overflow_y": null,
            "padding": null,
            "right": null,
            "top": null,
            "visibility": null,
            "width": null
          }
        },
        "876da2da7bff40b48173fbb7df202516": {
          "model_module": "@jupyter-widgets/controls",
          "model_name": "ProgressStyleModel",
          "model_module_version": "1.5.0",
          "state": {
            "_model_module": "@jupyter-widgets/controls",
            "_model_module_version": "1.5.0",
            "_model_name": "ProgressStyleModel",
            "_view_count": null,
            "_view_module": "@jupyter-widgets/base",
            "_view_module_version": "1.2.0",
            "_view_name": "StyleView",
            "bar_color": null,
            "description_width": ""
          }
        },
        "fe62f97c28b242448c63b960a1a9ad24": {
          "model_module": "@jupyter-widgets/base",
          "model_name": "LayoutModel",
          "model_module_version": "1.2.0",
          "state": {
            "_model_module": "@jupyter-widgets/base",
            "_model_module_version": "1.2.0",
            "_model_name": "LayoutModel",
            "_view_count": null,
            "_view_module": "@jupyter-widgets/base",
            "_view_module_version": "1.2.0",
            "_view_name": "LayoutView",
            "align_content": null,
            "align_items": null,
            "align_self": null,
            "border": null,
            "bottom": null,
            "display": null,
            "flex": null,
            "flex_flow": null,
            "grid_area": null,
            "grid_auto_columns": null,
            "grid_auto_flow": null,
            "grid_auto_rows": null,
            "grid_column": null,
            "grid_gap": null,
            "grid_row": null,
            "grid_template_areas": null,
            "grid_template_columns": null,
            "grid_template_rows": null,
            "height": null,
            "justify_content": null,
            "justify_items": null,
            "left": null,
            "margin": null,
            "max_height": null,
            "max_width": null,
            "min_height": null,
            "min_width": null,
            "object_fit": null,
            "object_position": null,
            "order": null,
            "overflow": null,
            "overflow_x": null,
            "overflow_y": null,
            "padding": null,
            "right": null,
            "top": null,
            "visibility": null,
            "width": null
          }
        },
        "e584b0c2198140739ef9fa1b44069db7": {
          "model_module": "@jupyter-widgets/controls",
          "model_name": "DescriptionStyleModel",
          "model_module_version": "1.5.0",
          "state": {
            "_model_module": "@jupyter-widgets/controls",
            "_model_module_version": "1.5.0",
            "_model_name": "DescriptionStyleModel",
            "_view_count": null,
            "_view_module": "@jupyter-widgets/base",
            "_view_module_version": "1.2.0",
            "_view_name": "StyleView",
            "description_width": ""
          }
        },
        "8f19366192de4819a699501e32d42b46": {
          "model_module": "@jupyter-widgets/controls",
          "model_name": "HBoxModel",
          "model_module_version": "1.5.0",
          "state": {
            "_dom_classes": [],
            "_model_module": "@jupyter-widgets/controls",
            "_model_module_version": "1.5.0",
            "_model_name": "HBoxModel",
            "_view_count": null,
            "_view_module": "@jupyter-widgets/controls",
            "_view_module_version": "1.5.0",
            "_view_name": "HBoxView",
            "box_style": "",
            "children": [
              "IPY_MODEL_48191f4a3cf94f949d44062afe792f7b",
              "IPY_MODEL_3181d17f38d449d3b3b0cdf7f115dc59",
              "IPY_MODEL_e400875008f44b438d14be495caa45ec"
            ],
            "layout": "IPY_MODEL_8263f804a27f49eba532b446bed5180d"
          }
        },
        "48191f4a3cf94f949d44062afe792f7b": {
          "model_module": "@jupyter-widgets/controls",
          "model_name": "HTMLModel",
          "model_module_version": "1.5.0",
          "state": {
            "_dom_classes": [],
            "_model_module": "@jupyter-widgets/controls",
            "_model_module_version": "1.5.0",
            "_model_name": "HTMLModel",
            "_view_count": null,
            "_view_module": "@jupyter-widgets/controls",
            "_view_module_version": "1.5.0",
            "_view_name": "HTMLView",
            "description": "",
            "description_tooltip": null,
            "layout": "IPY_MODEL_cb59b40ee905477ebd63bcf3da7f4a08",
            "placeholder": "​",
            "style": "IPY_MODEL_28ea3fc77cac4b618baff53ce617eea6",
            "value": "Downloading tf_model.h5: 100%"
          }
        },
        "3181d17f38d449d3b3b0cdf7f115dc59": {
          "model_module": "@jupyter-widgets/controls",
          "model_name": "FloatProgressModel",
          "model_module_version": "1.5.0",
          "state": {
            "_dom_classes": [],
            "_model_module": "@jupyter-widgets/controls",
            "_model_module_version": "1.5.0",
            "_model_name": "FloatProgressModel",
            "_view_count": null,
            "_view_module": "@jupyter-widgets/controls",
            "_view_module_version": "1.5.0",
            "_view_name": "ProgressView",
            "bar_style": "success",
            "description": "",
            "description_tooltip": null,
            "layout": "IPY_MODEL_b234939940184936aec564f2d88f3569",
            "max": 433503000,
            "min": 0,
            "orientation": "horizontal",
            "style": "IPY_MODEL_e1e6bac2608c4322a86cd56294485cfa",
            "value": 433503000
          }
        },
        "e400875008f44b438d14be495caa45ec": {
          "model_module": "@jupyter-widgets/controls",
          "model_name": "HTMLModel",
          "model_module_version": "1.5.0",
          "state": {
            "_dom_classes": [],
            "_model_module": "@jupyter-widgets/controls",
            "_model_module_version": "1.5.0",
            "_model_name": "HTMLModel",
            "_view_count": null,
            "_view_module": "@jupyter-widgets/controls",
            "_view_module_version": "1.5.0",
            "_view_name": "HTMLView",
            "description": "",
            "description_tooltip": null,
            "layout": "IPY_MODEL_a1580408e2e24953bd12d3b285d6eadd",
            "placeholder": "​",
            "style": "IPY_MODEL_42af4a1821774c9d8517a5d8ea320a2b",
            "value": " 434M/434M [00:04&lt;00:00, 101MB/s]"
          }
        },
        "8263f804a27f49eba532b446bed5180d": {
          "model_module": "@jupyter-widgets/base",
          "model_name": "LayoutModel",
          "model_module_version": "1.2.0",
          "state": {
            "_model_module": "@jupyter-widgets/base",
            "_model_module_version": "1.2.0",
            "_model_name": "LayoutModel",
            "_view_count": null,
            "_view_module": "@jupyter-widgets/base",
            "_view_module_version": "1.2.0",
            "_view_name": "LayoutView",
            "align_content": null,
            "align_items": null,
            "align_self": null,
            "border": null,
            "bottom": null,
            "display": null,
            "flex": null,
            "flex_flow": null,
            "grid_area": null,
            "grid_auto_columns": null,
            "grid_auto_flow": null,
            "grid_auto_rows": null,
            "grid_column": null,
            "grid_gap": null,
            "grid_row": null,
            "grid_template_areas": null,
            "grid_template_columns": null,
            "grid_template_rows": null,
            "height": null,
            "justify_content": null,
            "justify_items": null,
            "left": null,
            "margin": null,
            "max_height": null,
            "max_width": null,
            "min_height": null,
            "min_width": null,
            "object_fit": null,
            "object_position": null,
            "order": null,
            "overflow": null,
            "overflow_x": null,
            "overflow_y": null,
            "padding": null,
            "right": null,
            "top": null,
            "visibility": null,
            "width": null
          }
        },
        "cb59b40ee905477ebd63bcf3da7f4a08": {
          "model_module": "@jupyter-widgets/base",
          "model_name": "LayoutModel",
          "model_module_version": "1.2.0",
          "state": {
            "_model_module": "@jupyter-widgets/base",
            "_model_module_version": "1.2.0",
            "_model_name": "LayoutModel",
            "_view_count": null,
            "_view_module": "@jupyter-widgets/base",
            "_view_module_version": "1.2.0",
            "_view_name": "LayoutView",
            "align_content": null,
            "align_items": null,
            "align_self": null,
            "border": null,
            "bottom": null,
            "display": null,
            "flex": null,
            "flex_flow": null,
            "grid_area": null,
            "grid_auto_columns": null,
            "grid_auto_flow": null,
            "grid_auto_rows": null,
            "grid_column": null,
            "grid_gap": null,
            "grid_row": null,
            "grid_template_areas": null,
            "grid_template_columns": null,
            "grid_template_rows": null,
            "height": null,
            "justify_content": null,
            "justify_items": null,
            "left": null,
            "margin": null,
            "max_height": null,
            "max_width": null,
            "min_height": null,
            "min_width": null,
            "object_fit": null,
            "object_position": null,
            "order": null,
            "overflow": null,
            "overflow_x": null,
            "overflow_y": null,
            "padding": null,
            "right": null,
            "top": null,
            "visibility": null,
            "width": null
          }
        },
        "28ea3fc77cac4b618baff53ce617eea6": {
          "model_module": "@jupyter-widgets/controls",
          "model_name": "DescriptionStyleModel",
          "model_module_version": "1.5.0",
          "state": {
            "_model_module": "@jupyter-widgets/controls",
            "_model_module_version": "1.5.0",
            "_model_name": "DescriptionStyleModel",
            "_view_count": null,
            "_view_module": "@jupyter-widgets/base",
            "_view_module_version": "1.2.0",
            "_view_name": "StyleView",
            "description_width": ""
          }
        },
        "b234939940184936aec564f2d88f3569": {
          "model_module": "@jupyter-widgets/base",
          "model_name": "LayoutModel",
          "model_module_version": "1.2.0",
          "state": {
            "_model_module": "@jupyter-widgets/base",
            "_model_module_version": "1.2.0",
            "_model_name": "LayoutModel",
            "_view_count": null,
            "_view_module": "@jupyter-widgets/base",
            "_view_module_version": "1.2.0",
            "_view_name": "LayoutView",
            "align_content": null,
            "align_items": null,
            "align_self": null,
            "border": null,
            "bottom": null,
            "display": null,
            "flex": null,
            "flex_flow": null,
            "grid_area": null,
            "grid_auto_columns": null,
            "grid_auto_flow": null,
            "grid_auto_rows": null,
            "grid_column": null,
            "grid_gap": null,
            "grid_row": null,
            "grid_template_areas": null,
            "grid_template_columns": null,
            "grid_template_rows": null,
            "height": null,
            "justify_content": null,
            "justify_items": null,
            "left": null,
            "margin": null,
            "max_height": null,
            "max_width": null,
            "min_height": null,
            "min_width": null,
            "object_fit": null,
            "object_position": null,
            "order": null,
            "overflow": null,
            "overflow_x": null,
            "overflow_y": null,
            "padding": null,
            "right": null,
            "top": null,
            "visibility": null,
            "width": null
          }
        },
        "e1e6bac2608c4322a86cd56294485cfa": {
          "model_module": "@jupyter-widgets/controls",
          "model_name": "ProgressStyleModel",
          "model_module_version": "1.5.0",
          "state": {
            "_model_module": "@jupyter-widgets/controls",
            "_model_module_version": "1.5.0",
            "_model_name": "ProgressStyleModel",
            "_view_count": null,
            "_view_module": "@jupyter-widgets/base",
            "_view_module_version": "1.2.0",
            "_view_name": "StyleView",
            "bar_color": null,
            "description_width": ""
          }
        },
        "a1580408e2e24953bd12d3b285d6eadd": {
          "model_module": "@jupyter-widgets/base",
          "model_name": "LayoutModel",
          "model_module_version": "1.2.0",
          "state": {
            "_model_module": "@jupyter-widgets/base",
            "_model_module_version": "1.2.0",
            "_model_name": "LayoutModel",
            "_view_count": null,
            "_view_module": "@jupyter-widgets/base",
            "_view_module_version": "1.2.0",
            "_view_name": "LayoutView",
            "align_content": null,
            "align_items": null,
            "align_self": null,
            "border": null,
            "bottom": null,
            "display": null,
            "flex": null,
            "flex_flow": null,
            "grid_area": null,
            "grid_auto_columns": null,
            "grid_auto_flow": null,
            "grid_auto_rows": null,
            "grid_column": null,
            "grid_gap": null,
            "grid_row": null,
            "grid_template_areas": null,
            "grid_template_columns": null,
            "grid_template_rows": null,
            "height": null,
            "justify_content": null,
            "justify_items": null,
            "left": null,
            "margin": null,
            "max_height": null,
            "max_width": null,
            "min_height": null,
            "min_width": null,
            "object_fit": null,
            "object_position": null,
            "order": null,
            "overflow": null,
            "overflow_x": null,
            "overflow_y": null,
            "padding": null,
            "right": null,
            "top": null,
            "visibility": null,
            "width": null
          }
        },
        "42af4a1821774c9d8517a5d8ea320a2b": {
          "model_module": "@jupyter-widgets/controls",
          "model_name": "DescriptionStyleModel",
          "model_module_version": "1.5.0",
          "state": {
            "_model_module": "@jupyter-widgets/controls",
            "_model_module_version": "1.5.0",
            "_model_name": "DescriptionStyleModel",
            "_view_count": null,
            "_view_module": "@jupyter-widgets/base",
            "_view_module_version": "1.2.0",
            "_view_name": "StyleView",
            "description_width": ""
          }
        },
        "803641de3adb4095b38cad758e93b8e5": {
          "model_module": "@jupyter-widgets/controls",
          "model_name": "HBoxModel",
          "model_module_version": "1.5.0",
          "state": {
            "_dom_classes": [],
            "_model_module": "@jupyter-widgets/controls",
            "_model_module_version": "1.5.0",
            "_model_name": "HBoxModel",
            "_view_count": null,
            "_view_module": "@jupyter-widgets/controls",
            "_view_module_version": "1.5.0",
            "_view_name": "HBoxView",
            "box_style": "",
            "children": [
              "IPY_MODEL_2c6bc0bb72fa4b6085c21fe599a57fb4",
              "IPY_MODEL_bad16e8f756e440cbca442761e599d9e",
              "IPY_MODEL_6ae8111b74a04943b8c73498c5659a15"
            ],
            "layout": "IPY_MODEL_8c45a82ba9bc4ac3a19a600a0a58d03c"
          }
        },
        "2c6bc0bb72fa4b6085c21fe599a57fb4": {
          "model_module": "@jupyter-widgets/controls",
          "model_name": "HTMLModel",
          "model_module_version": "1.5.0",
          "state": {
            "_dom_classes": [],
            "_model_module": "@jupyter-widgets/controls",
            "_model_module_version": "1.5.0",
            "_model_name": "HTMLModel",
            "_view_count": null,
            "_view_module": "@jupyter-widgets/controls",
            "_view_module_version": "1.5.0",
            "_view_name": "HTMLView",
            "description": "",
            "description_tooltip": null,
            "layout": "IPY_MODEL_b656d0fb2b9d48c0942f8ac12a352cdc",
            "placeholder": "​",
            "style": "IPY_MODEL_8c3d6b95fb364579b3c556bd83fdecc1",
            "value": "100%"
          }
        },
        "bad16e8f756e440cbca442761e599d9e": {
          "model_module": "@jupyter-widgets/controls",
          "model_name": "FloatProgressModel",
          "model_module_version": "1.5.0",
          "state": {
            "_dom_classes": [],
            "_model_module": "@jupyter-widgets/controls",
            "_model_module_version": "1.5.0",
            "_model_name": "FloatProgressModel",
            "_view_count": null,
            "_view_module": "@jupyter-widgets/controls",
            "_view_module_version": "1.5.0",
            "_view_name": "ProgressView",
            "bar_style": "success",
            "description": "",
            "description_tooltip": null,
            "layout": "IPY_MODEL_de758f207a6c453d8f26b18b8e2814b2",
            "max": 29752,
            "min": 0,
            "orientation": "horizontal",
            "style": "IPY_MODEL_092cf50cf3764f06bf1f6f7b3d2b79d3",
            "value": 29752
          }
        },
        "6ae8111b74a04943b8c73498c5659a15": {
          "model_module": "@jupyter-widgets/controls",
          "model_name": "HTMLModel",
          "model_module_version": "1.5.0",
          "state": {
            "_dom_classes": [],
            "_model_module": "@jupyter-widgets/controls",
            "_model_module_version": "1.5.0",
            "_model_name": "HTMLModel",
            "_view_count": null,
            "_view_module": "@jupyter-widgets/controls",
            "_view_module_version": "1.5.0",
            "_view_name": "HTMLView",
            "description": "",
            "description_tooltip": null,
            "layout": "IPY_MODEL_39232bd8c84d42e69bf6459a38c983d8",
            "placeholder": "​",
            "style": "IPY_MODEL_98b204f711f4455baee39d71278bc190",
            "value": " 29752/29752 [00:28&lt;00:00, 1061.54it/s]"
          }
        },
        "8c45a82ba9bc4ac3a19a600a0a58d03c": {
          "model_module": "@jupyter-widgets/base",
          "model_name": "LayoutModel",
          "model_module_version": "1.2.0",
          "state": {
            "_model_module": "@jupyter-widgets/base",
            "_model_module_version": "1.2.0",
            "_model_name": "LayoutModel",
            "_view_count": null,
            "_view_module": "@jupyter-widgets/base",
            "_view_module_version": "1.2.0",
            "_view_name": "LayoutView",
            "align_content": null,
            "align_items": null,
            "align_self": null,
            "border": null,
            "bottom": null,
            "display": null,
            "flex": null,
            "flex_flow": null,
            "grid_area": null,
            "grid_auto_columns": null,
            "grid_auto_flow": null,
            "grid_auto_rows": null,
            "grid_column": null,
            "grid_gap": null,
            "grid_row": null,
            "grid_template_areas": null,
            "grid_template_columns": null,
            "grid_template_rows": null,
            "height": null,
            "justify_content": null,
            "justify_items": null,
            "left": null,
            "margin": null,
            "max_height": null,
            "max_width": null,
            "min_height": null,
            "min_width": null,
            "object_fit": null,
            "object_position": null,
            "order": null,
            "overflow": null,
            "overflow_x": null,
            "overflow_y": null,
            "padding": null,
            "right": null,
            "top": null,
            "visibility": null,
            "width": null
          }
        },
        "b656d0fb2b9d48c0942f8ac12a352cdc": {
          "model_module": "@jupyter-widgets/base",
          "model_name": "LayoutModel",
          "model_module_version": "1.2.0",
          "state": {
            "_model_module": "@jupyter-widgets/base",
            "_model_module_version": "1.2.0",
            "_model_name": "LayoutModel",
            "_view_count": null,
            "_view_module": "@jupyter-widgets/base",
            "_view_module_version": "1.2.0",
            "_view_name": "LayoutView",
            "align_content": null,
            "align_items": null,
            "align_self": null,
            "border": null,
            "bottom": null,
            "display": null,
            "flex": null,
            "flex_flow": null,
            "grid_area": null,
            "grid_auto_columns": null,
            "grid_auto_flow": null,
            "grid_auto_rows": null,
            "grid_column": null,
            "grid_gap": null,
            "grid_row": null,
            "grid_template_areas": null,
            "grid_template_columns": null,
            "grid_template_rows": null,
            "height": null,
            "justify_content": null,
            "justify_items": null,
            "left": null,
            "margin": null,
            "max_height": null,
            "max_width": null,
            "min_height": null,
            "min_width": null,
            "object_fit": null,
            "object_position": null,
            "order": null,
            "overflow": null,
            "overflow_x": null,
            "overflow_y": null,
            "padding": null,
            "right": null,
            "top": null,
            "visibility": null,
            "width": null
          }
        },
        "8c3d6b95fb364579b3c556bd83fdecc1": {
          "model_module": "@jupyter-widgets/controls",
          "model_name": "DescriptionStyleModel",
          "model_module_version": "1.5.0",
          "state": {
            "_model_module": "@jupyter-widgets/controls",
            "_model_module_version": "1.5.0",
            "_model_name": "DescriptionStyleModel",
            "_view_count": null,
            "_view_module": "@jupyter-widgets/base",
            "_view_module_version": "1.2.0",
            "_view_name": "StyleView",
            "description_width": ""
          }
        },
        "de758f207a6c453d8f26b18b8e2814b2": {
          "model_module": "@jupyter-widgets/base",
          "model_name": "LayoutModel",
          "model_module_version": "1.2.0",
          "state": {
            "_model_module": "@jupyter-widgets/base",
            "_model_module_version": "1.2.0",
            "_model_name": "LayoutModel",
            "_view_count": null,
            "_view_module": "@jupyter-widgets/base",
            "_view_module_version": "1.2.0",
            "_view_name": "LayoutView",
            "align_content": null,
            "align_items": null,
            "align_self": null,
            "border": null,
            "bottom": null,
            "display": null,
            "flex": null,
            "flex_flow": null,
            "grid_area": null,
            "grid_auto_columns": null,
            "grid_auto_flow": null,
            "grid_auto_rows": null,
            "grid_column": null,
            "grid_gap": null,
            "grid_row": null,
            "grid_template_areas": null,
            "grid_template_columns": null,
            "grid_template_rows": null,
            "height": null,
            "justify_content": null,
            "justify_items": null,
            "left": null,
            "margin": null,
            "max_height": null,
            "max_width": null,
            "min_height": null,
            "min_width": null,
            "object_fit": null,
            "object_position": null,
            "order": null,
            "overflow": null,
            "overflow_x": null,
            "overflow_y": null,
            "padding": null,
            "right": null,
            "top": null,
            "visibility": null,
            "width": null
          }
        },
        "092cf50cf3764f06bf1f6f7b3d2b79d3": {
          "model_module": "@jupyter-widgets/controls",
          "model_name": "ProgressStyleModel",
          "model_module_version": "1.5.0",
          "state": {
            "_model_module": "@jupyter-widgets/controls",
            "_model_module_version": "1.5.0",
            "_model_name": "ProgressStyleModel",
            "_view_count": null,
            "_view_module": "@jupyter-widgets/base",
            "_view_module_version": "1.2.0",
            "_view_name": "StyleView",
            "bar_color": null,
            "description_width": ""
          }
        },
        "39232bd8c84d42e69bf6459a38c983d8": {
          "model_module": "@jupyter-widgets/base",
          "model_name": "LayoutModel",
          "model_module_version": "1.2.0",
          "state": {
            "_model_module": "@jupyter-widgets/base",
            "_model_module_version": "1.2.0",
            "_model_name": "LayoutModel",
            "_view_count": null,
            "_view_module": "@jupyter-widgets/base",
            "_view_module_version": "1.2.0",
            "_view_name": "LayoutView",
            "align_content": null,
            "align_items": null,
            "align_self": null,
            "border": null,
            "bottom": null,
            "display": null,
            "flex": null,
            "flex_flow": null,
            "grid_area": null,
            "grid_auto_columns": null,
            "grid_auto_flow": null,
            "grid_auto_rows": null,
            "grid_column": null,
            "grid_gap": null,
            "grid_row": null,
            "grid_template_areas": null,
            "grid_template_columns": null,
            "grid_template_rows": null,
            "height": null,
            "justify_content": null,
            "justify_items": null,
            "left": null,
            "margin": null,
            "max_height": null,
            "max_width": null,
            "min_height": null,
            "min_width": null,
            "object_fit": null,
            "object_position": null,
            "order": null,
            "overflow": null,
            "overflow_x": null,
            "overflow_y": null,
            "padding": null,
            "right": null,
            "top": null,
            "visibility": null,
            "width": null
          }
        },
        "98b204f711f4455baee39d71278bc190": {
          "model_module": "@jupyter-widgets/controls",
          "model_name": "DescriptionStyleModel",
          "model_module_version": "1.5.0",
          "state": {
            "_model_module": "@jupyter-widgets/controls",
            "_model_module_version": "1.5.0",
            "_model_name": "DescriptionStyleModel",
            "_view_count": null,
            "_view_module": "@jupyter-widgets/base",
            "_view_module_version": "1.2.0",
            "_view_name": "StyleView",
            "description_width": ""
          }
        }
      }
    },
    "gpuClass": "premium"
  },
  "nbformat": 4,
  "nbformat_minor": 0
}